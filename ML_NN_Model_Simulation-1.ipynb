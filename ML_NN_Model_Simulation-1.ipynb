{
 "cells": [
  {
   "cell_type": "code",
   "execution_count": 1,
   "metadata": {},
   "outputs": [],
   "source": [
    "#importing necessary library\n",
    "import pandas as pd\n",
    "import numpy as np"
   ]
  },
  {
   "cell_type": "code",
   "execution_count": 2,
   "metadata": {},
   "outputs": [],
   "source": [
    "# Reading the CSV file\n",
    "df = pd.read_csv('Data Set - industrial_safety_and_health_database_with_accidents_description.csv')"
   ]
  },
  {
   "cell_type": "code",
   "execution_count": 3,
   "metadata": {},
   "outputs": [
    {
     "data": {
      "text/html": [
       "<div>\n",
       "<style scoped>\n",
       "    .dataframe tbody tr th:only-of-type {\n",
       "        vertical-align: middle;\n",
       "    }\n",
       "\n",
       "    .dataframe tbody tr th {\n",
       "        vertical-align: top;\n",
       "    }\n",
       "\n",
       "    .dataframe thead th {\n",
       "        text-align: right;\n",
       "    }\n",
       "</style>\n",
       "<table border=\"1\" class=\"dataframe\">\n",
       "  <thead>\n",
       "    <tr style=\"text-align: right;\">\n",
       "      <th></th>\n",
       "      <th>Unnamed: 0</th>\n",
       "      <th>Data</th>\n",
       "      <th>Countries</th>\n",
       "      <th>Local</th>\n",
       "      <th>Industry Sector</th>\n",
       "      <th>Accident Level</th>\n",
       "      <th>Potential Accident Level</th>\n",
       "      <th>Genre</th>\n",
       "      <th>Employee or Third Party</th>\n",
       "      <th>Critical Risk</th>\n",
       "      <th>Description</th>\n",
       "    </tr>\n",
       "  </thead>\n",
       "  <tbody>\n",
       "    <tr>\n",
       "      <th>0</th>\n",
       "      <td>0</td>\n",
       "      <td>2016-01-01 00:00:00</td>\n",
       "      <td>Country_01</td>\n",
       "      <td>Local_01</td>\n",
       "      <td>Mining</td>\n",
       "      <td>I</td>\n",
       "      <td>IV</td>\n",
       "      <td>Male</td>\n",
       "      <td>Third Party</td>\n",
       "      <td>Pressed</td>\n",
       "      <td>While removing the drill rod of the Jumbo 08 f...</td>\n",
       "    </tr>\n",
       "    <tr>\n",
       "      <th>1</th>\n",
       "      <td>1</td>\n",
       "      <td>2016-01-02 00:00:00</td>\n",
       "      <td>Country_02</td>\n",
       "      <td>Local_02</td>\n",
       "      <td>Mining</td>\n",
       "      <td>I</td>\n",
       "      <td>IV</td>\n",
       "      <td>Male</td>\n",
       "      <td>Employee</td>\n",
       "      <td>Pressurized Systems</td>\n",
       "      <td>During the activation of a sodium sulphide pum...</td>\n",
       "    </tr>\n",
       "    <tr>\n",
       "      <th>2</th>\n",
       "      <td>2</td>\n",
       "      <td>2016-01-06 00:00:00</td>\n",
       "      <td>Country_01</td>\n",
       "      <td>Local_03</td>\n",
       "      <td>Mining</td>\n",
       "      <td>I</td>\n",
       "      <td>III</td>\n",
       "      <td>Male</td>\n",
       "      <td>Third Party (Remote)</td>\n",
       "      <td>Manual Tools</td>\n",
       "      <td>In the sub-station MILPO located at level +170...</td>\n",
       "    </tr>\n",
       "    <tr>\n",
       "      <th>3</th>\n",
       "      <td>3</td>\n",
       "      <td>2016-01-08 00:00:00</td>\n",
       "      <td>Country_01</td>\n",
       "      <td>Local_04</td>\n",
       "      <td>Mining</td>\n",
       "      <td>I</td>\n",
       "      <td>I</td>\n",
       "      <td>Male</td>\n",
       "      <td>Third Party</td>\n",
       "      <td>Others</td>\n",
       "      <td>Being 9:45 am. approximately in the Nv. 1880 C...</td>\n",
       "    </tr>\n",
       "    <tr>\n",
       "      <th>4</th>\n",
       "      <td>4</td>\n",
       "      <td>2016-01-10 00:00:00</td>\n",
       "      <td>Country_01</td>\n",
       "      <td>Local_04</td>\n",
       "      <td>Mining</td>\n",
       "      <td>IV</td>\n",
       "      <td>IV</td>\n",
       "      <td>Male</td>\n",
       "      <td>Third Party</td>\n",
       "      <td>Others</td>\n",
       "      <td>Approximately at 11:45 a.m. in circumstances t...</td>\n",
       "    </tr>\n",
       "    <tr>\n",
       "      <th>...</th>\n",
       "      <td>...</td>\n",
       "      <td>...</td>\n",
       "      <td>...</td>\n",
       "      <td>...</td>\n",
       "      <td>...</td>\n",
       "      <td>...</td>\n",
       "      <td>...</td>\n",
       "      <td>...</td>\n",
       "      <td>...</td>\n",
       "      <td>...</td>\n",
       "      <td>...</td>\n",
       "    </tr>\n",
       "    <tr>\n",
       "      <th>420</th>\n",
       "      <td>434</td>\n",
       "      <td>2017-07-04 00:00:00</td>\n",
       "      <td>Country_01</td>\n",
       "      <td>Local_04</td>\n",
       "      <td>Mining</td>\n",
       "      <td>I</td>\n",
       "      <td>III</td>\n",
       "      <td>Male</td>\n",
       "      <td>Third Party</td>\n",
       "      <td>Others</td>\n",
       "      <td>Being approximately 5:00 a.m. approximately, w...</td>\n",
       "    </tr>\n",
       "    <tr>\n",
       "      <th>421</th>\n",
       "      <td>435</td>\n",
       "      <td>2017-07-04 00:00:00</td>\n",
       "      <td>Country_01</td>\n",
       "      <td>Local_03</td>\n",
       "      <td>Mining</td>\n",
       "      <td>I</td>\n",
       "      <td>II</td>\n",
       "      <td>Female</td>\n",
       "      <td>Employee</td>\n",
       "      <td>Others</td>\n",
       "      <td>The collaborator moved from the infrastructure...</td>\n",
       "    </tr>\n",
       "    <tr>\n",
       "      <th>422</th>\n",
       "      <td>436</td>\n",
       "      <td>2017-07-05 00:00:00</td>\n",
       "      <td>Country_02</td>\n",
       "      <td>Local_09</td>\n",
       "      <td>Metals</td>\n",
       "      <td>I</td>\n",
       "      <td>II</td>\n",
       "      <td>Male</td>\n",
       "      <td>Employee</td>\n",
       "      <td>Venomous Animals</td>\n",
       "      <td>During the environmental monitoring activity i...</td>\n",
       "    </tr>\n",
       "    <tr>\n",
       "      <th>423</th>\n",
       "      <td>437</td>\n",
       "      <td>2017-07-06 00:00:00</td>\n",
       "      <td>Country_02</td>\n",
       "      <td>Local_05</td>\n",
       "      <td>Metals</td>\n",
       "      <td>I</td>\n",
       "      <td>II</td>\n",
       "      <td>Male</td>\n",
       "      <td>Employee</td>\n",
       "      <td>Cut</td>\n",
       "      <td>The Employee performed the activity of strippi...</td>\n",
       "    </tr>\n",
       "    <tr>\n",
       "      <th>424</th>\n",
       "      <td>438</td>\n",
       "      <td>2017-07-09 00:00:00</td>\n",
       "      <td>Country_01</td>\n",
       "      <td>Local_04</td>\n",
       "      <td>Mining</td>\n",
       "      <td>I</td>\n",
       "      <td>II</td>\n",
       "      <td>Female</td>\n",
       "      <td>Third Party</td>\n",
       "      <td>Fall prevention (same level)</td>\n",
       "      <td>At 10:00 a.m., when the assistant cleaned the ...</td>\n",
       "    </tr>\n",
       "  </tbody>\n",
       "</table>\n",
       "<p>425 rows × 11 columns</p>\n",
       "</div>"
      ],
      "text/plain": [
       "     Unnamed: 0                 Data   Countries     Local Industry Sector  \\\n",
       "0             0  2016-01-01 00:00:00  Country_01  Local_01          Mining   \n",
       "1             1  2016-01-02 00:00:00  Country_02  Local_02          Mining   \n",
       "2             2  2016-01-06 00:00:00  Country_01  Local_03          Mining   \n",
       "3             3  2016-01-08 00:00:00  Country_01  Local_04          Mining   \n",
       "4             4  2016-01-10 00:00:00  Country_01  Local_04          Mining   \n",
       "..          ...                  ...         ...       ...             ...   \n",
       "420         434  2017-07-04 00:00:00  Country_01  Local_04          Mining   \n",
       "421         435  2017-07-04 00:00:00  Country_01  Local_03          Mining   \n",
       "422         436  2017-07-05 00:00:00  Country_02  Local_09          Metals   \n",
       "423         437  2017-07-06 00:00:00  Country_02  Local_05          Metals   \n",
       "424         438  2017-07-09 00:00:00  Country_01  Local_04          Mining   \n",
       "\n",
       "    Accident Level Potential Accident Level   Genre Employee or Third Party  \\\n",
       "0                I                       IV    Male             Third Party   \n",
       "1                I                       IV    Male                Employee   \n",
       "2                I                      III    Male    Third Party (Remote)   \n",
       "3                I                        I    Male             Third Party   \n",
       "4               IV                       IV    Male             Third Party   \n",
       "..             ...                      ...     ...                     ...   \n",
       "420              I                      III    Male             Third Party   \n",
       "421              I                       II  Female                Employee   \n",
       "422              I                       II    Male                Employee   \n",
       "423              I                       II    Male                Employee   \n",
       "424              I                       II  Female             Third Party   \n",
       "\n",
       "                    Critical Risk  \\\n",
       "0                         Pressed   \n",
       "1             Pressurized Systems   \n",
       "2                    Manual Tools   \n",
       "3                          Others   \n",
       "4                          Others   \n",
       "..                            ...   \n",
       "420                        Others   \n",
       "421                        Others   \n",
       "422              Venomous Animals   \n",
       "423                           Cut   \n",
       "424  Fall prevention (same level)   \n",
       "\n",
       "                                           Description  \n",
       "0    While removing the drill rod of the Jumbo 08 f...  \n",
       "1    During the activation of a sodium sulphide pum...  \n",
       "2    In the sub-station MILPO located at level +170...  \n",
       "3    Being 9:45 am. approximately in the Nv. 1880 C...  \n",
       "4    Approximately at 11:45 a.m. in circumstances t...  \n",
       "..                                                 ...  \n",
       "420  Being approximately 5:00 a.m. approximately, w...  \n",
       "421  The collaborator moved from the infrastructure...  \n",
       "422  During the environmental monitoring activity i...  \n",
       "423  The Employee performed the activity of strippi...  \n",
       "424  At 10:00 a.m., when the assistant cleaned the ...  \n",
       "\n",
       "[425 rows x 11 columns]"
      ]
     },
     "execution_count": 3,
     "metadata": {},
     "output_type": "execute_result"
    }
   ],
   "source": [
    "# printing the dataframe file.\n",
    "df"
   ]
  },
  {
   "cell_type": "markdown",
   "metadata": {},
   "source": [
    "Creating a copy of the dataframe."
   ]
  },
  {
   "cell_type": "code",
   "execution_count": 4,
   "metadata": {},
   "outputs": [],
   "source": [
    "x=df.copy()"
   ]
  },
  {
   "cell_type": "markdown",
   "metadata": {},
   "source": [
    "**Lets divide Date column in Day, Month and Year**"
   ]
  },
  {
   "cell_type": "code",
   "execution_count": 5,
   "metadata": {},
   "outputs": [],
   "source": [
    "year =[]\n",
    "month =[]\n",
    "date=[]\n",
    "for x in range(df.shape[0]):\n",
    "    h = df['Data'][x].split()\n",
    "    k = h[0].split('-')\n",
    "    year.append(int(k[0]))\n",
    "    month.append(int(k[1]))\n",
    "    date.append(int(k[2]))\n"
   ]
  },
  {
   "cell_type": "code",
   "execution_count": 6,
   "metadata": {},
   "outputs": [
    {
     "data": {
      "text/html": [
       "<div>\n",
       "<style scoped>\n",
       "    .dataframe tbody tr th:only-of-type {\n",
       "        vertical-align: middle;\n",
       "    }\n",
       "\n",
       "    .dataframe tbody tr th {\n",
       "        vertical-align: top;\n",
       "    }\n",
       "\n",
       "    .dataframe thead th {\n",
       "        text-align: right;\n",
       "    }\n",
       "</style>\n",
       "<table border=\"1\" class=\"dataframe\">\n",
       "  <thead>\n",
       "    <tr style=\"text-align: right;\">\n",
       "      <th></th>\n",
       "      <th>Year</th>\n",
       "      <th>Month</th>\n",
       "      <th>Date</th>\n",
       "    </tr>\n",
       "  </thead>\n",
       "  <tbody>\n",
       "    <tr>\n",
       "      <th>0</th>\n",
       "      <td>2016</td>\n",
       "      <td>1</td>\n",
       "      <td>1</td>\n",
       "    </tr>\n",
       "    <tr>\n",
       "      <th>1</th>\n",
       "      <td>2016</td>\n",
       "      <td>1</td>\n",
       "      <td>2</td>\n",
       "    </tr>\n",
       "    <tr>\n",
       "      <th>2</th>\n",
       "      <td>2016</td>\n",
       "      <td>1</td>\n",
       "      <td>6</td>\n",
       "    </tr>\n",
       "    <tr>\n",
       "      <th>3</th>\n",
       "      <td>2016</td>\n",
       "      <td>1</td>\n",
       "      <td>8</td>\n",
       "    </tr>\n",
       "    <tr>\n",
       "      <th>4</th>\n",
       "      <td>2016</td>\n",
       "      <td>1</td>\n",
       "      <td>10</td>\n",
       "    </tr>\n",
       "    <tr>\n",
       "      <th>...</th>\n",
       "      <td>...</td>\n",
       "      <td>...</td>\n",
       "      <td>...</td>\n",
       "    </tr>\n",
       "    <tr>\n",
       "      <th>420</th>\n",
       "      <td>2017</td>\n",
       "      <td>7</td>\n",
       "      <td>4</td>\n",
       "    </tr>\n",
       "    <tr>\n",
       "      <th>421</th>\n",
       "      <td>2017</td>\n",
       "      <td>7</td>\n",
       "      <td>4</td>\n",
       "    </tr>\n",
       "    <tr>\n",
       "      <th>422</th>\n",
       "      <td>2017</td>\n",
       "      <td>7</td>\n",
       "      <td>5</td>\n",
       "    </tr>\n",
       "    <tr>\n",
       "      <th>423</th>\n",
       "      <td>2017</td>\n",
       "      <td>7</td>\n",
       "      <td>6</td>\n",
       "    </tr>\n",
       "    <tr>\n",
       "      <th>424</th>\n",
       "      <td>2017</td>\n",
       "      <td>7</td>\n",
       "      <td>9</td>\n",
       "    </tr>\n",
       "  </tbody>\n",
       "</table>\n",
       "<p>425 rows × 3 columns</p>\n",
       "</div>"
      ],
      "text/plain": [
       "     Year  Month  Date\n",
       "0    2016      1     1\n",
       "1    2016      1     2\n",
       "2    2016      1     6\n",
       "3    2016      1     8\n",
       "4    2016      1    10\n",
       "..    ...    ...   ...\n",
       "420  2017      7     4\n",
       "421  2017      7     4\n",
       "422  2017      7     5\n",
       "423  2017      7     6\n",
       "424  2017      7     9\n",
       "\n",
       "[425 rows x 3 columns]"
      ]
     },
     "execution_count": 6,
     "metadata": {},
     "output_type": "execute_result"
    }
   ],
   "source": [
    "dates = list(zip(year,month,date))\n",
    "df_date = pd.DataFrame(dates, columns = ['Year','Month','Date'])\n",
    "df_date"
   ]
  },
  {
   "cell_type": "markdown",
   "metadata": {},
   "source": [
    "Concatenating the date, Month and Year to new_df"
   ]
  },
  {
   "cell_type": "code",
   "execution_count": 7,
   "metadata": {},
   "outputs": [
    {
     "data": {
      "text/html": [
       "<div>\n",
       "<style scoped>\n",
       "    .dataframe tbody tr th:only-of-type {\n",
       "        vertical-align: middle;\n",
       "    }\n",
       "\n",
       "    .dataframe tbody tr th {\n",
       "        vertical-align: top;\n",
       "    }\n",
       "\n",
       "    .dataframe thead th {\n",
       "        text-align: right;\n",
       "    }\n",
       "</style>\n",
       "<table border=\"1\" class=\"dataframe\">\n",
       "  <thead>\n",
       "    <tr style=\"text-align: right;\">\n",
       "      <th></th>\n",
       "      <th>Unnamed: 0</th>\n",
       "      <th>Data</th>\n",
       "      <th>Countries</th>\n",
       "      <th>Local</th>\n",
       "      <th>Industry Sector</th>\n",
       "      <th>Accident Level</th>\n",
       "      <th>Potential Accident Level</th>\n",
       "      <th>Genre</th>\n",
       "      <th>Employee or Third Party</th>\n",
       "      <th>Critical Risk</th>\n",
       "      <th>Description</th>\n",
       "      <th>Year</th>\n",
       "      <th>Month</th>\n",
       "      <th>Date</th>\n",
       "    </tr>\n",
       "  </thead>\n",
       "  <tbody>\n",
       "    <tr>\n",
       "      <th>0</th>\n",
       "      <td>0</td>\n",
       "      <td>2016-01-01 00:00:00</td>\n",
       "      <td>Country_01</td>\n",
       "      <td>Local_01</td>\n",
       "      <td>Mining</td>\n",
       "      <td>I</td>\n",
       "      <td>IV</td>\n",
       "      <td>Male</td>\n",
       "      <td>Third Party</td>\n",
       "      <td>Pressed</td>\n",
       "      <td>While removing the drill rod of the Jumbo 08 f...</td>\n",
       "      <td>2016</td>\n",
       "      <td>1</td>\n",
       "      <td>1</td>\n",
       "    </tr>\n",
       "    <tr>\n",
       "      <th>1</th>\n",
       "      <td>1</td>\n",
       "      <td>2016-01-02 00:00:00</td>\n",
       "      <td>Country_02</td>\n",
       "      <td>Local_02</td>\n",
       "      <td>Mining</td>\n",
       "      <td>I</td>\n",
       "      <td>IV</td>\n",
       "      <td>Male</td>\n",
       "      <td>Employee</td>\n",
       "      <td>Pressurized Systems</td>\n",
       "      <td>During the activation of a sodium sulphide pum...</td>\n",
       "      <td>2016</td>\n",
       "      <td>1</td>\n",
       "      <td>2</td>\n",
       "    </tr>\n",
       "    <tr>\n",
       "      <th>2</th>\n",
       "      <td>2</td>\n",
       "      <td>2016-01-06 00:00:00</td>\n",
       "      <td>Country_01</td>\n",
       "      <td>Local_03</td>\n",
       "      <td>Mining</td>\n",
       "      <td>I</td>\n",
       "      <td>III</td>\n",
       "      <td>Male</td>\n",
       "      <td>Third Party (Remote)</td>\n",
       "      <td>Manual Tools</td>\n",
       "      <td>In the sub-station MILPO located at level +170...</td>\n",
       "      <td>2016</td>\n",
       "      <td>1</td>\n",
       "      <td>6</td>\n",
       "    </tr>\n",
       "    <tr>\n",
       "      <th>3</th>\n",
       "      <td>3</td>\n",
       "      <td>2016-01-08 00:00:00</td>\n",
       "      <td>Country_01</td>\n",
       "      <td>Local_04</td>\n",
       "      <td>Mining</td>\n",
       "      <td>I</td>\n",
       "      <td>I</td>\n",
       "      <td>Male</td>\n",
       "      <td>Third Party</td>\n",
       "      <td>Others</td>\n",
       "      <td>Being 9:45 am. approximately in the Nv. 1880 C...</td>\n",
       "      <td>2016</td>\n",
       "      <td>1</td>\n",
       "      <td>8</td>\n",
       "    </tr>\n",
       "    <tr>\n",
       "      <th>4</th>\n",
       "      <td>4</td>\n",
       "      <td>2016-01-10 00:00:00</td>\n",
       "      <td>Country_01</td>\n",
       "      <td>Local_04</td>\n",
       "      <td>Mining</td>\n",
       "      <td>IV</td>\n",
       "      <td>IV</td>\n",
       "      <td>Male</td>\n",
       "      <td>Third Party</td>\n",
       "      <td>Others</td>\n",
       "      <td>Approximately at 11:45 a.m. in circumstances t...</td>\n",
       "      <td>2016</td>\n",
       "      <td>1</td>\n",
       "      <td>10</td>\n",
       "    </tr>\n",
       "    <tr>\n",
       "      <th>...</th>\n",
       "      <td>...</td>\n",
       "      <td>...</td>\n",
       "      <td>...</td>\n",
       "      <td>...</td>\n",
       "      <td>...</td>\n",
       "      <td>...</td>\n",
       "      <td>...</td>\n",
       "      <td>...</td>\n",
       "      <td>...</td>\n",
       "      <td>...</td>\n",
       "      <td>...</td>\n",
       "      <td>...</td>\n",
       "      <td>...</td>\n",
       "      <td>...</td>\n",
       "    </tr>\n",
       "    <tr>\n",
       "      <th>420</th>\n",
       "      <td>434</td>\n",
       "      <td>2017-07-04 00:00:00</td>\n",
       "      <td>Country_01</td>\n",
       "      <td>Local_04</td>\n",
       "      <td>Mining</td>\n",
       "      <td>I</td>\n",
       "      <td>III</td>\n",
       "      <td>Male</td>\n",
       "      <td>Third Party</td>\n",
       "      <td>Others</td>\n",
       "      <td>Being approximately 5:00 a.m. approximately, w...</td>\n",
       "      <td>2017</td>\n",
       "      <td>7</td>\n",
       "      <td>4</td>\n",
       "    </tr>\n",
       "    <tr>\n",
       "      <th>421</th>\n",
       "      <td>435</td>\n",
       "      <td>2017-07-04 00:00:00</td>\n",
       "      <td>Country_01</td>\n",
       "      <td>Local_03</td>\n",
       "      <td>Mining</td>\n",
       "      <td>I</td>\n",
       "      <td>II</td>\n",
       "      <td>Female</td>\n",
       "      <td>Employee</td>\n",
       "      <td>Others</td>\n",
       "      <td>The collaborator moved from the infrastructure...</td>\n",
       "      <td>2017</td>\n",
       "      <td>7</td>\n",
       "      <td>4</td>\n",
       "    </tr>\n",
       "    <tr>\n",
       "      <th>422</th>\n",
       "      <td>436</td>\n",
       "      <td>2017-07-05 00:00:00</td>\n",
       "      <td>Country_02</td>\n",
       "      <td>Local_09</td>\n",
       "      <td>Metals</td>\n",
       "      <td>I</td>\n",
       "      <td>II</td>\n",
       "      <td>Male</td>\n",
       "      <td>Employee</td>\n",
       "      <td>Venomous Animals</td>\n",
       "      <td>During the environmental monitoring activity i...</td>\n",
       "      <td>2017</td>\n",
       "      <td>7</td>\n",
       "      <td>5</td>\n",
       "    </tr>\n",
       "    <tr>\n",
       "      <th>423</th>\n",
       "      <td>437</td>\n",
       "      <td>2017-07-06 00:00:00</td>\n",
       "      <td>Country_02</td>\n",
       "      <td>Local_05</td>\n",
       "      <td>Metals</td>\n",
       "      <td>I</td>\n",
       "      <td>II</td>\n",
       "      <td>Male</td>\n",
       "      <td>Employee</td>\n",
       "      <td>Cut</td>\n",
       "      <td>The Employee performed the activity of strippi...</td>\n",
       "      <td>2017</td>\n",
       "      <td>7</td>\n",
       "      <td>6</td>\n",
       "    </tr>\n",
       "    <tr>\n",
       "      <th>424</th>\n",
       "      <td>438</td>\n",
       "      <td>2017-07-09 00:00:00</td>\n",
       "      <td>Country_01</td>\n",
       "      <td>Local_04</td>\n",
       "      <td>Mining</td>\n",
       "      <td>I</td>\n",
       "      <td>II</td>\n",
       "      <td>Female</td>\n",
       "      <td>Third Party</td>\n",
       "      <td>Fall prevention (same level)</td>\n",
       "      <td>At 10:00 a.m., when the assistant cleaned the ...</td>\n",
       "      <td>2017</td>\n",
       "      <td>7</td>\n",
       "      <td>9</td>\n",
       "    </tr>\n",
       "  </tbody>\n",
       "</table>\n",
       "<p>425 rows × 14 columns</p>\n",
       "</div>"
      ],
      "text/plain": [
       "     Unnamed: 0                 Data   Countries     Local Industry Sector  \\\n",
       "0             0  2016-01-01 00:00:00  Country_01  Local_01          Mining   \n",
       "1             1  2016-01-02 00:00:00  Country_02  Local_02          Mining   \n",
       "2             2  2016-01-06 00:00:00  Country_01  Local_03          Mining   \n",
       "3             3  2016-01-08 00:00:00  Country_01  Local_04          Mining   \n",
       "4             4  2016-01-10 00:00:00  Country_01  Local_04          Mining   \n",
       "..          ...                  ...         ...       ...             ...   \n",
       "420         434  2017-07-04 00:00:00  Country_01  Local_04          Mining   \n",
       "421         435  2017-07-04 00:00:00  Country_01  Local_03          Mining   \n",
       "422         436  2017-07-05 00:00:00  Country_02  Local_09          Metals   \n",
       "423         437  2017-07-06 00:00:00  Country_02  Local_05          Metals   \n",
       "424         438  2017-07-09 00:00:00  Country_01  Local_04          Mining   \n",
       "\n",
       "    Accident Level Potential Accident Level   Genre Employee or Third Party  \\\n",
       "0                I                       IV    Male             Third Party   \n",
       "1                I                       IV    Male                Employee   \n",
       "2                I                      III    Male    Third Party (Remote)   \n",
       "3                I                        I    Male             Third Party   \n",
       "4               IV                       IV    Male             Third Party   \n",
       "..             ...                      ...     ...                     ...   \n",
       "420              I                      III    Male             Third Party   \n",
       "421              I                       II  Female                Employee   \n",
       "422              I                       II    Male                Employee   \n",
       "423              I                       II    Male                Employee   \n",
       "424              I                       II  Female             Third Party   \n",
       "\n",
       "                    Critical Risk  \\\n",
       "0                         Pressed   \n",
       "1             Pressurized Systems   \n",
       "2                    Manual Tools   \n",
       "3                          Others   \n",
       "4                          Others   \n",
       "..                            ...   \n",
       "420                        Others   \n",
       "421                        Others   \n",
       "422              Venomous Animals   \n",
       "423                           Cut   \n",
       "424  Fall prevention (same level)   \n",
       "\n",
       "                                           Description  Year  Month  Date  \n",
       "0    While removing the drill rod of the Jumbo 08 f...  2016      1     1  \n",
       "1    During the activation of a sodium sulphide pum...  2016      1     2  \n",
       "2    In the sub-station MILPO located at level +170...  2016      1     6  \n",
       "3    Being 9:45 am. approximately in the Nv. 1880 C...  2016      1     8  \n",
       "4    Approximately at 11:45 a.m. in circumstances t...  2016      1    10  \n",
       "..                                                 ...   ...    ...   ...  \n",
       "420  Being approximately 5:00 a.m. approximately, w...  2017      7     4  \n",
       "421  The collaborator moved from the infrastructure...  2017      7     4  \n",
       "422  During the environmental monitoring activity i...  2017      7     5  \n",
       "423  The Employee performed the activity of strippi...  2017      7     6  \n",
       "424  At 10:00 a.m., when the assistant cleaned the ...  2017      7     9  \n",
       "\n",
       "[425 rows x 14 columns]"
      ]
     },
     "execution_count": 7,
     "metadata": {},
     "output_type": "execute_result"
    }
   ],
   "source": [
    "df_new =pd.concat([df,df_date],axis=1)\n",
    "df_new"
   ]
  },
  {
   "cell_type": "code",
   "execution_count": 8,
   "metadata": {},
   "outputs": [
    {
     "data": {
      "text/plain": [
       "['Unnamed: 0',\n",
       " 'Data',\n",
       " 'Countries',\n",
       " 'Local',\n",
       " 'Industry Sector',\n",
       " 'Accident Level',\n",
       " 'Potential Accident Level',\n",
       " 'Genre',\n",
       " 'Employee or Third Party',\n",
       " 'Critical Risk',\n",
       " 'Description',\n",
       " 'Year',\n",
       " 'Month',\n",
       " 'Date']"
      ]
     },
     "execution_count": 8,
     "metadata": {},
     "output_type": "execute_result"
    }
   ],
   "source": [
    "col = df_new.columns.tolist()\n",
    "col"
   ]
  },
  {
   "cell_type": "code",
   "execution_count": 9,
   "metadata": {},
   "outputs": [
    {
     "data": {
      "text/plain": [
       "['Unnamed: 0',\n",
       " 'Data',\n",
       " 'Year',\n",
       " 'Month',\n",
       " 'Date',\n",
       " 'Countries',\n",
       " 'Local',\n",
       " 'Industry Sector',\n",
       " 'Accident Level',\n",
       " 'Potential Accident Level',\n",
       " 'Genre',\n",
       " 'Employee or Third Party',\n",
       " 'Critical Risk',\n",
       " 'Description']"
      ]
     },
     "execution_count": 9,
     "metadata": {},
     "output_type": "execute_result"
    }
   ],
   "source": [
    "#concatenating the columns in one dataframe\n",
    "col1 =col[:2]+col[-3:]+col[2:-3]\n",
    "col1"
   ]
  },
  {
   "cell_type": "code",
   "execution_count": 10,
   "metadata": {},
   "outputs": [],
   "source": [
    "df_latest = df_new[col1]"
   ]
  },
  {
   "cell_type": "code",
   "execution_count": 11,
   "metadata": {},
   "outputs": [
    {
     "data": {
      "text/html": [
       "<div>\n",
       "<style scoped>\n",
       "    .dataframe tbody tr th:only-of-type {\n",
       "        vertical-align: middle;\n",
       "    }\n",
       "\n",
       "    .dataframe tbody tr th {\n",
       "        vertical-align: top;\n",
       "    }\n",
       "\n",
       "    .dataframe thead th {\n",
       "        text-align: right;\n",
       "    }\n",
       "</style>\n",
       "<table border=\"1\" class=\"dataframe\">\n",
       "  <thead>\n",
       "    <tr style=\"text-align: right;\">\n",
       "      <th></th>\n",
       "      <th>Unnamed: 0</th>\n",
       "      <th>Data</th>\n",
       "      <th>Year</th>\n",
       "      <th>Month</th>\n",
       "      <th>Date</th>\n",
       "      <th>Countries</th>\n",
       "      <th>Local</th>\n",
       "      <th>Industry Sector</th>\n",
       "      <th>Accident Level</th>\n",
       "      <th>Potential Accident Level</th>\n",
       "      <th>Genre</th>\n",
       "      <th>Employee or Third Party</th>\n",
       "      <th>Critical Risk</th>\n",
       "      <th>Description</th>\n",
       "    </tr>\n",
       "  </thead>\n",
       "  <tbody>\n",
       "    <tr>\n",
       "      <th>0</th>\n",
       "      <td>0</td>\n",
       "      <td>2016-01-01 00:00:00</td>\n",
       "      <td>2016</td>\n",
       "      <td>1</td>\n",
       "      <td>1</td>\n",
       "      <td>Country_01</td>\n",
       "      <td>Local_01</td>\n",
       "      <td>Mining</td>\n",
       "      <td>I</td>\n",
       "      <td>IV</td>\n",
       "      <td>Male</td>\n",
       "      <td>Third Party</td>\n",
       "      <td>Pressed</td>\n",
       "      <td>While removing the drill rod of the Jumbo 08 f...</td>\n",
       "    </tr>\n",
       "    <tr>\n",
       "      <th>1</th>\n",
       "      <td>1</td>\n",
       "      <td>2016-01-02 00:00:00</td>\n",
       "      <td>2016</td>\n",
       "      <td>1</td>\n",
       "      <td>2</td>\n",
       "      <td>Country_02</td>\n",
       "      <td>Local_02</td>\n",
       "      <td>Mining</td>\n",
       "      <td>I</td>\n",
       "      <td>IV</td>\n",
       "      <td>Male</td>\n",
       "      <td>Employee</td>\n",
       "      <td>Pressurized Systems</td>\n",
       "      <td>During the activation of a sodium sulphide pum...</td>\n",
       "    </tr>\n",
       "    <tr>\n",
       "      <th>2</th>\n",
       "      <td>2</td>\n",
       "      <td>2016-01-06 00:00:00</td>\n",
       "      <td>2016</td>\n",
       "      <td>1</td>\n",
       "      <td>6</td>\n",
       "      <td>Country_01</td>\n",
       "      <td>Local_03</td>\n",
       "      <td>Mining</td>\n",
       "      <td>I</td>\n",
       "      <td>III</td>\n",
       "      <td>Male</td>\n",
       "      <td>Third Party (Remote)</td>\n",
       "      <td>Manual Tools</td>\n",
       "      <td>In the sub-station MILPO located at level +170...</td>\n",
       "    </tr>\n",
       "    <tr>\n",
       "      <th>3</th>\n",
       "      <td>3</td>\n",
       "      <td>2016-01-08 00:00:00</td>\n",
       "      <td>2016</td>\n",
       "      <td>1</td>\n",
       "      <td>8</td>\n",
       "      <td>Country_01</td>\n",
       "      <td>Local_04</td>\n",
       "      <td>Mining</td>\n",
       "      <td>I</td>\n",
       "      <td>I</td>\n",
       "      <td>Male</td>\n",
       "      <td>Third Party</td>\n",
       "      <td>Others</td>\n",
       "      <td>Being 9:45 am. approximately in the Nv. 1880 C...</td>\n",
       "    </tr>\n",
       "    <tr>\n",
       "      <th>4</th>\n",
       "      <td>4</td>\n",
       "      <td>2016-01-10 00:00:00</td>\n",
       "      <td>2016</td>\n",
       "      <td>1</td>\n",
       "      <td>10</td>\n",
       "      <td>Country_01</td>\n",
       "      <td>Local_04</td>\n",
       "      <td>Mining</td>\n",
       "      <td>IV</td>\n",
       "      <td>IV</td>\n",
       "      <td>Male</td>\n",
       "      <td>Third Party</td>\n",
       "      <td>Others</td>\n",
       "      <td>Approximately at 11:45 a.m. in circumstances t...</td>\n",
       "    </tr>\n",
       "    <tr>\n",
       "      <th>...</th>\n",
       "      <td>...</td>\n",
       "      <td>...</td>\n",
       "      <td>...</td>\n",
       "      <td>...</td>\n",
       "      <td>...</td>\n",
       "      <td>...</td>\n",
       "      <td>...</td>\n",
       "      <td>...</td>\n",
       "      <td>...</td>\n",
       "      <td>...</td>\n",
       "      <td>...</td>\n",
       "      <td>...</td>\n",
       "      <td>...</td>\n",
       "      <td>...</td>\n",
       "    </tr>\n",
       "    <tr>\n",
       "      <th>420</th>\n",
       "      <td>434</td>\n",
       "      <td>2017-07-04 00:00:00</td>\n",
       "      <td>2017</td>\n",
       "      <td>7</td>\n",
       "      <td>4</td>\n",
       "      <td>Country_01</td>\n",
       "      <td>Local_04</td>\n",
       "      <td>Mining</td>\n",
       "      <td>I</td>\n",
       "      <td>III</td>\n",
       "      <td>Male</td>\n",
       "      <td>Third Party</td>\n",
       "      <td>Others</td>\n",
       "      <td>Being approximately 5:00 a.m. approximately, w...</td>\n",
       "    </tr>\n",
       "    <tr>\n",
       "      <th>421</th>\n",
       "      <td>435</td>\n",
       "      <td>2017-07-04 00:00:00</td>\n",
       "      <td>2017</td>\n",
       "      <td>7</td>\n",
       "      <td>4</td>\n",
       "      <td>Country_01</td>\n",
       "      <td>Local_03</td>\n",
       "      <td>Mining</td>\n",
       "      <td>I</td>\n",
       "      <td>II</td>\n",
       "      <td>Female</td>\n",
       "      <td>Employee</td>\n",
       "      <td>Others</td>\n",
       "      <td>The collaborator moved from the infrastructure...</td>\n",
       "    </tr>\n",
       "    <tr>\n",
       "      <th>422</th>\n",
       "      <td>436</td>\n",
       "      <td>2017-07-05 00:00:00</td>\n",
       "      <td>2017</td>\n",
       "      <td>7</td>\n",
       "      <td>5</td>\n",
       "      <td>Country_02</td>\n",
       "      <td>Local_09</td>\n",
       "      <td>Metals</td>\n",
       "      <td>I</td>\n",
       "      <td>II</td>\n",
       "      <td>Male</td>\n",
       "      <td>Employee</td>\n",
       "      <td>Venomous Animals</td>\n",
       "      <td>During the environmental monitoring activity i...</td>\n",
       "    </tr>\n",
       "    <tr>\n",
       "      <th>423</th>\n",
       "      <td>437</td>\n",
       "      <td>2017-07-06 00:00:00</td>\n",
       "      <td>2017</td>\n",
       "      <td>7</td>\n",
       "      <td>6</td>\n",
       "      <td>Country_02</td>\n",
       "      <td>Local_05</td>\n",
       "      <td>Metals</td>\n",
       "      <td>I</td>\n",
       "      <td>II</td>\n",
       "      <td>Male</td>\n",
       "      <td>Employee</td>\n",
       "      <td>Cut</td>\n",
       "      <td>The Employee performed the activity of strippi...</td>\n",
       "    </tr>\n",
       "    <tr>\n",
       "      <th>424</th>\n",
       "      <td>438</td>\n",
       "      <td>2017-07-09 00:00:00</td>\n",
       "      <td>2017</td>\n",
       "      <td>7</td>\n",
       "      <td>9</td>\n",
       "      <td>Country_01</td>\n",
       "      <td>Local_04</td>\n",
       "      <td>Mining</td>\n",
       "      <td>I</td>\n",
       "      <td>II</td>\n",
       "      <td>Female</td>\n",
       "      <td>Third Party</td>\n",
       "      <td>Fall prevention (same level)</td>\n",
       "      <td>At 10:00 a.m., when the assistant cleaned the ...</td>\n",
       "    </tr>\n",
       "  </tbody>\n",
       "</table>\n",
       "<p>425 rows × 14 columns</p>\n",
       "</div>"
      ],
      "text/plain": [
       "     Unnamed: 0                 Data  Year  Month  Date   Countries     Local  \\\n",
       "0             0  2016-01-01 00:00:00  2016      1     1  Country_01  Local_01   \n",
       "1             1  2016-01-02 00:00:00  2016      1     2  Country_02  Local_02   \n",
       "2             2  2016-01-06 00:00:00  2016      1     6  Country_01  Local_03   \n",
       "3             3  2016-01-08 00:00:00  2016      1     8  Country_01  Local_04   \n",
       "4             4  2016-01-10 00:00:00  2016      1    10  Country_01  Local_04   \n",
       "..          ...                  ...   ...    ...   ...         ...       ...   \n",
       "420         434  2017-07-04 00:00:00  2017      7     4  Country_01  Local_04   \n",
       "421         435  2017-07-04 00:00:00  2017      7     4  Country_01  Local_03   \n",
       "422         436  2017-07-05 00:00:00  2017      7     5  Country_02  Local_09   \n",
       "423         437  2017-07-06 00:00:00  2017      7     6  Country_02  Local_05   \n",
       "424         438  2017-07-09 00:00:00  2017      7     9  Country_01  Local_04   \n",
       "\n",
       "    Industry Sector Accident Level Potential Accident Level   Genre  \\\n",
       "0            Mining              I                       IV    Male   \n",
       "1            Mining              I                       IV    Male   \n",
       "2            Mining              I                      III    Male   \n",
       "3            Mining              I                        I    Male   \n",
       "4            Mining             IV                       IV    Male   \n",
       "..              ...            ...                      ...     ...   \n",
       "420          Mining              I                      III    Male   \n",
       "421          Mining              I                       II  Female   \n",
       "422          Metals              I                       II    Male   \n",
       "423          Metals              I                       II    Male   \n",
       "424          Mining              I                       II  Female   \n",
       "\n",
       "    Employee or Third Party                 Critical Risk  \\\n",
       "0               Third Party                       Pressed   \n",
       "1                  Employee           Pressurized Systems   \n",
       "2      Third Party (Remote)                  Manual Tools   \n",
       "3               Third Party                        Others   \n",
       "4               Third Party                        Others   \n",
       "..                      ...                           ...   \n",
       "420             Third Party                        Others   \n",
       "421                Employee                        Others   \n",
       "422                Employee              Venomous Animals   \n",
       "423                Employee                           Cut   \n",
       "424             Third Party  Fall prevention (same level)   \n",
       "\n",
       "                                           Description  \n",
       "0    While removing the drill rod of the Jumbo 08 f...  \n",
       "1    During the activation of a sodium sulphide pum...  \n",
       "2    In the sub-station MILPO located at level +170...  \n",
       "3    Being 9:45 am. approximately in the Nv. 1880 C...  \n",
       "4    Approximately at 11:45 a.m. in circumstances t...  \n",
       "..                                                 ...  \n",
       "420  Being approximately 5:00 a.m. approximately, w...  \n",
       "421  The collaborator moved from the infrastructure...  \n",
       "422  During the environmental monitoring activity i...  \n",
       "423  The Employee performed the activity of strippi...  \n",
       "424  At 10:00 a.m., when the assistant cleaned the ...  \n",
       "\n",
       "[425 rows x 14 columns]"
      ]
     },
     "execution_count": 11,
     "metadata": {},
     "output_type": "execute_result"
    }
   ],
   "source": [
    "df_latest"
   ]
  },
  {
   "cell_type": "code",
   "execution_count": 12,
   "metadata": {},
   "outputs": [],
   "source": [
    "# Make a copy of the dataframe\n",
    "df_latest_copy = df_latest.copy()"
   ]
  },
  {
   "cell_type": "markdown",
   "metadata": {},
   "source": [
    "**Drop Unnamed: 0, and Data column from dataframe**"
   ]
  },
  {
   "cell_type": "code",
   "execution_count": 13,
   "metadata": {},
   "outputs": [
    {
     "name": "stderr",
     "output_type": "stream",
     "text": [
      "/Users/nebula/opt/anaconda3/lib/python3.7/site-packages/pandas/core/frame.py:3997: SettingWithCopyWarning: \n",
      "A value is trying to be set on a copy of a slice from a DataFrame\n",
      "\n",
      "See the caveats in the documentation: https://pandas.pydata.org/pandas-docs/stable/user_guide/indexing.html#returning-a-view-versus-a-copy\n",
      "  errors=errors,\n"
     ]
    },
    {
     "data": {
      "text/html": [
       "<div>\n",
       "<style scoped>\n",
       "    .dataframe tbody tr th:only-of-type {\n",
       "        vertical-align: middle;\n",
       "    }\n",
       "\n",
       "    .dataframe tbody tr th {\n",
       "        vertical-align: top;\n",
       "    }\n",
       "\n",
       "    .dataframe thead th {\n",
       "        text-align: right;\n",
       "    }\n",
       "</style>\n",
       "<table border=\"1\" class=\"dataframe\">\n",
       "  <thead>\n",
       "    <tr style=\"text-align: right;\">\n",
       "      <th></th>\n",
       "      <th>Year</th>\n",
       "      <th>Month</th>\n",
       "      <th>Date</th>\n",
       "      <th>Countries</th>\n",
       "      <th>Local</th>\n",
       "      <th>Industry Sector</th>\n",
       "      <th>Accident Level</th>\n",
       "      <th>Potential Accident Level</th>\n",
       "      <th>Genre</th>\n",
       "      <th>Employee or Third Party</th>\n",
       "      <th>Critical Risk</th>\n",
       "      <th>Description</th>\n",
       "    </tr>\n",
       "  </thead>\n",
       "  <tbody>\n",
       "    <tr>\n",
       "      <th>0</th>\n",
       "      <td>2016</td>\n",
       "      <td>1</td>\n",
       "      <td>1</td>\n",
       "      <td>Country_01</td>\n",
       "      <td>Local_01</td>\n",
       "      <td>Mining</td>\n",
       "      <td>I</td>\n",
       "      <td>IV</td>\n",
       "      <td>Male</td>\n",
       "      <td>Third Party</td>\n",
       "      <td>Pressed</td>\n",
       "      <td>While removing the drill rod of the Jumbo 08 f...</td>\n",
       "    </tr>\n",
       "    <tr>\n",
       "      <th>1</th>\n",
       "      <td>2016</td>\n",
       "      <td>1</td>\n",
       "      <td>2</td>\n",
       "      <td>Country_02</td>\n",
       "      <td>Local_02</td>\n",
       "      <td>Mining</td>\n",
       "      <td>I</td>\n",
       "      <td>IV</td>\n",
       "      <td>Male</td>\n",
       "      <td>Employee</td>\n",
       "      <td>Pressurized Systems</td>\n",
       "      <td>During the activation of a sodium sulphide pum...</td>\n",
       "    </tr>\n",
       "    <tr>\n",
       "      <th>2</th>\n",
       "      <td>2016</td>\n",
       "      <td>1</td>\n",
       "      <td>6</td>\n",
       "      <td>Country_01</td>\n",
       "      <td>Local_03</td>\n",
       "      <td>Mining</td>\n",
       "      <td>I</td>\n",
       "      <td>III</td>\n",
       "      <td>Male</td>\n",
       "      <td>Third Party (Remote)</td>\n",
       "      <td>Manual Tools</td>\n",
       "      <td>In the sub-station MILPO located at level +170...</td>\n",
       "    </tr>\n",
       "  </tbody>\n",
       "</table>\n",
       "</div>"
      ],
      "text/plain": [
       "   Year  Month  Date   Countries     Local Industry Sector Accident Level  \\\n",
       "0  2016      1     1  Country_01  Local_01          Mining              I   \n",
       "1  2016      1     2  Country_02  Local_02          Mining              I   \n",
       "2  2016      1     6  Country_01  Local_03          Mining              I   \n",
       "\n",
       "  Potential Accident Level Genre Employee or Third Party        Critical Risk  \\\n",
       "0                       IV  Male             Third Party              Pressed   \n",
       "1                       IV  Male                Employee  Pressurized Systems   \n",
       "2                      III  Male    Third Party (Remote)         Manual Tools   \n",
       "\n",
       "                                         Description  \n",
       "0  While removing the drill rod of the Jumbo 08 f...  \n",
       "1  During the activation of a sodium sulphide pum...  \n",
       "2  In the sub-station MILPO located at level +170...  "
      ]
     },
     "execution_count": 13,
     "metadata": {},
     "output_type": "execute_result"
    }
   ],
   "source": [
    "df_latest.drop(['Unnamed: 0','Data'], axis=1,inplace = True)\n",
    "df_latest.head(3)"
   ]
  },
  {
   "cell_type": "markdown",
   "metadata": {},
   "source": [
    "**Value counts for column 'Local'**"
   ]
  },
  {
   "cell_type": "code",
   "execution_count": 14,
   "metadata": {},
   "outputs": [
    {
     "data": {
      "text/plain": [
       "Local_03    90\n",
       "Local_05    59\n",
       "Local_01    57\n",
       "Local_04    56\n",
       "Local_06    46\n",
       "Local_10    44\n",
       "Local_08    27\n",
       "Local_02    24\n",
       "Local_07    14\n",
       "Local_12     4\n",
       "Local_09     2\n",
       "Local_11     2\n",
       "Name: Local, dtype: int64"
      ]
     },
     "execution_count": 14,
     "metadata": {},
     "output_type": "execute_result"
    }
   ],
   "source": [
    "df_latest['Local'].value_counts()"
   ]
  },
  {
   "cell_type": "markdown",
   "metadata": {},
   "source": [
    "**Value counts for column 'Countries'**"
   ]
  },
  {
   "cell_type": "code",
   "execution_count": 15,
   "metadata": {},
   "outputs": [
    {
     "data": {
      "text/plain": [
       "Country_01    251\n",
       "Country_02    130\n",
       "Country_03     44\n",
       "Name: Countries, dtype: int64"
      ]
     },
     "execution_count": 15,
     "metadata": {},
     "output_type": "execute_result"
    }
   ],
   "source": [
    "df_latest['Countries'].value_counts()"
   ]
  },
  {
   "cell_type": "markdown",
   "metadata": {},
   "source": [
    "**Value Count for variable Accident Level.'Accident Level' is a target variable. which show high level of data imbalance**"
   ]
  },
  {
   "cell_type": "code",
   "execution_count": 16,
   "metadata": {},
   "outputs": [
    {
     "data": {
      "text/plain": [
       "I      316\n",
       "II      40\n",
       "III     31\n",
       "IV      30\n",
       "V        8\n",
       "Name: Accident Level, dtype: int64"
      ]
     },
     "execution_count": 16,
     "metadata": {},
     "output_type": "execute_result"
    }
   ],
   "source": [
    "df_latest['Accident Level'].value_counts()\n"
   ]
  },
  {
   "cell_type": "markdown",
   "metadata": {},
   "source": [
    "**Value counts for variable 'Potential Accident Level'. This target varaible less amount of data imbalance as comparied to 'Accident Level'**"
   ]
  },
  {
   "cell_type": "code",
   "execution_count": 17,
   "metadata": {},
   "outputs": [
    {
     "data": {
      "text/plain": [
       "IV     143\n",
       "III    106\n",
       "II      95\n",
       "I       49\n",
       "V       31\n",
       "VI       1\n",
       "Name: Potential Accident Level, dtype: int64"
      ]
     },
     "execution_count": 17,
     "metadata": {},
     "output_type": "execute_result"
    }
   ],
   "source": [
    "df_latest['Potential Accident Level'].value_counts()"
   ]
  },
  {
   "cell_type": "markdown",
   "metadata": {},
   "source": [
    "**Label Potential Accident Level to numeric category**"
   ]
  },
  {
   "cell_type": "code",
   "execution_count": 18,
   "metadata": {},
   "outputs": [],
   "source": [
    "Potential_Accident_Level = {\n",
    "    'I'   :   1,\n",
    "    'II'  :   2,\n",
    "    'III' :   3,\n",
    "    'IV'  :   4,\n",
    "    'V'   :   5,\n",
    "    'VI'   :   6\n",
    "}"
   ]
  },
  {
   "cell_type": "markdown",
   "metadata": {},
   "source": [
    "Mapping Potential Accident level into the dataframe"
   ]
  },
  {
   "cell_type": "code",
   "execution_count": 19,
   "metadata": {},
   "outputs": [
    {
     "name": "stderr",
     "output_type": "stream",
     "text": [
      "/Users/nebula/opt/anaconda3/lib/python3.7/site-packages/ipykernel_launcher.py:1: SettingWithCopyWarning: \n",
      "A value is trying to be set on a copy of a slice from a DataFrame.\n",
      "Try using .loc[row_indexer,col_indexer] = value instead\n",
      "\n",
      "See the caveats in the documentation: https://pandas.pydata.org/pandas-docs/stable/user_guide/indexing.html#returning-a-view-versus-a-copy\n",
      "  \"\"\"Entry point for launching an IPython kernel.\n"
     ]
    }
   ],
   "source": [
    "df_latest['Potential_Accident_Level'] = df_latest['Potential Accident Level'].map(Potential_Accident_Level)"
   ]
  },
  {
   "cell_type": "code",
   "execution_count": 20,
   "metadata": {},
   "outputs": [
    {
     "data": {
      "text/plain": [
       "4    143\n",
       "3    106\n",
       "2     95\n",
       "1     49\n",
       "5     31\n",
       "6      1\n",
       "Name: Potential_Accident_Level, dtype: int64"
      ]
     },
     "execution_count": 20,
     "metadata": {},
     "output_type": "execute_result"
    }
   ],
   "source": [
    "df_latest['Potential_Accident_Level'].value_counts()"
   ]
  },
  {
   "cell_type": "markdown",
   "metadata": {},
   "source": [
    "#### Apply get_dummies to columns to get data in the form of 0's and 1's"
   ]
  },
  {
   "cell_type": "code",
   "execution_count": 21,
   "metadata": {},
   "outputs": [],
   "source": [
    "df_latest = pd.get_dummies(df_latest, columns=['Date','Year','Countries','Critical Risk','Local','Industry Sector','Genre','Employee or Third Party'],prefix='Dummy',drop_first=True)"
   ]
  },
  {
   "cell_type": "code",
   "execution_count": 22,
   "metadata": {},
   "outputs": [],
   "source": [
    "df_latest = pd.get_dummies(df_latest, columns=['Month'],prefix='Month',drop_first=True)"
   ]
  },
  {
   "cell_type": "code",
   "execution_count": 23,
   "metadata": {},
   "outputs": [],
   "source": [
    "df_latest.drop(['Accident Level','Potential Accident Level'],axis=1,inplace=True)"
   ]
  },
  {
   "cell_type": "code",
   "execution_count": 24,
   "metadata": {},
   "outputs": [
    {
     "name": "stdout",
     "output_type": "stream",
     "text": [
      "<class 'pandas.core.frame.DataFrame'>\n",
      "RangeIndex: 425 entries, 0 to 424\n",
      "Data columns (total 94 columns):\n",
      " #   Column                                           Non-Null Count  Dtype \n",
      "---  ------                                           --------------  ----- \n",
      " 0   Description                                      425 non-null    object\n",
      " 1   Potential_Accident_Level                         425 non-null    int64 \n",
      " 2   Dummy_2                                          425 non-null    uint8 \n",
      " 3   Dummy_3                                          425 non-null    uint8 \n",
      " 4   Dummy_4                                          425 non-null    uint8 \n",
      " 5   Dummy_5                                          425 non-null    uint8 \n",
      " 6   Dummy_6                                          425 non-null    uint8 \n",
      " 7   Dummy_7                                          425 non-null    uint8 \n",
      " 8   Dummy_8                                          425 non-null    uint8 \n",
      " 9   Dummy_9                                          425 non-null    uint8 \n",
      " 10  Dummy_10                                         425 non-null    uint8 \n",
      " 11  Dummy_11                                         425 non-null    uint8 \n",
      " 12  Dummy_12                                         425 non-null    uint8 \n",
      " 13  Dummy_13                                         425 non-null    uint8 \n",
      " 14  Dummy_14                                         425 non-null    uint8 \n",
      " 15  Dummy_15                                         425 non-null    uint8 \n",
      " 16  Dummy_16                                         425 non-null    uint8 \n",
      " 17  Dummy_17                                         425 non-null    uint8 \n",
      " 18  Dummy_18                                         425 non-null    uint8 \n",
      " 19  Dummy_19                                         425 non-null    uint8 \n",
      " 20  Dummy_20                                         425 non-null    uint8 \n",
      " 21  Dummy_21                                         425 non-null    uint8 \n",
      " 22  Dummy_22                                         425 non-null    uint8 \n",
      " 23  Dummy_23                                         425 non-null    uint8 \n",
      " 24  Dummy_24                                         425 non-null    uint8 \n",
      " 25  Dummy_25                                         425 non-null    uint8 \n",
      " 26  Dummy_26                                         425 non-null    uint8 \n",
      " 27  Dummy_27                                         425 non-null    uint8 \n",
      " 28  Dummy_28                                         425 non-null    uint8 \n",
      " 29  Dummy_29                                         425 non-null    uint8 \n",
      " 30  Dummy_30                                         425 non-null    uint8 \n",
      " 31  Dummy_31                                         425 non-null    uint8 \n",
      " 32  Dummy_2017                                       425 non-null    uint8 \n",
      " 33  Dummy_Country_02                                 425 non-null    uint8 \n",
      " 34  Dummy_Country_03                                 425 non-null    uint8 \n",
      " 35  Dummy_Bees                                       425 non-null    uint8 \n",
      " 36  Dummy_Blocking and isolation of energies         425 non-null    uint8 \n",
      " 37  Dummy_Burn                                       425 non-null    uint8 \n",
      " 38  Dummy_Chemical substances                        425 non-null    uint8 \n",
      " 39  Dummy_Confined space                             425 non-null    uint8 \n",
      " 40  Dummy_Cut                                        425 non-null    uint8 \n",
      " 41  Dummy_Electrical Shock                           425 non-null    uint8 \n",
      " 42  Dummy_Electrical installation                    425 non-null    uint8 \n",
      " 43  Dummy_Fall                                       425 non-null    uint8 \n",
      " 44  Dummy_Fall prevention                            425 non-null    uint8 \n",
      " 45  Dummy_Fall prevention (same level)               425 non-null    uint8 \n",
      " 46  Dummy_Individual protection equipment            425 non-null    uint8 \n",
      " 47  Dummy_Liquid Metal                               425 non-null    uint8 \n",
      " 48  Dummy_Machine Protection                         425 non-null    uint8 \n",
      " 49  Dummy_Manual Tools                               425 non-null    uint8 \n",
      " 50  Dummy_Others                                     425 non-null    uint8 \n",
      " 51  Dummy_Plates                                     425 non-null    uint8 \n",
      " 52  Dummy_Poll                                       425 non-null    uint8 \n",
      " 53  Dummy_Power lock                                 425 non-null    uint8 \n",
      " 54  Dummy_Pressed                                    425 non-null    uint8 \n",
      " 55  Dummy_Pressurized Systems                        425 non-null    uint8 \n",
      " 56  Dummy_Pressurized Systems / Chemical Substances  425 non-null    uint8 \n",
      " 57  Dummy_Projection                                 425 non-null    uint8 \n",
      " 58  Dummy_Projection of fragments                    425 non-null    uint8 \n",
      " 59  Dummy_Projection/Burning                         425 non-null    uint8 \n",
      " 60  Dummy_Projection/Choco                           425 non-null    uint8 \n",
      " 61  Dummy_Projection/Manual Tools                    425 non-null    uint8 \n",
      " 62  Dummy_Suspended Loads                            425 non-null    uint8 \n",
      " 63  Dummy_Traffic                                    425 non-null    uint8 \n",
      " 64  Dummy_Vehicles and Mobile Equipment              425 non-null    uint8 \n",
      " 65  Dummy_Venomous Animals                           425 non-null    uint8 \n",
      " 66  Dummy_remains of choco                           425 non-null    uint8 \n",
      " 67  Dummy_Local_02                                   425 non-null    uint8 \n",
      " 68  Dummy_Local_03                                   425 non-null    uint8 \n",
      " 69  Dummy_Local_04                                   425 non-null    uint8 \n",
      " 70  Dummy_Local_05                                   425 non-null    uint8 \n",
      " 71  Dummy_Local_06                                   425 non-null    uint8 \n",
      " 72  Dummy_Local_07                                   425 non-null    uint8 \n",
      " 73  Dummy_Local_08                                   425 non-null    uint8 \n",
      " 74  Dummy_Local_09                                   425 non-null    uint8 \n",
      " 75  Dummy_Local_10                                   425 non-null    uint8 \n",
      " 76  Dummy_Local_11                                   425 non-null    uint8 \n",
      " 77  Dummy_Local_12                                   425 non-null    uint8 \n",
      " 78  Dummy_Mining                                     425 non-null    uint8 \n",
      " 79  Dummy_Others                                     425 non-null    uint8 \n",
      " 80  Dummy_Male                                       425 non-null    uint8 \n",
      " 81  Dummy_Third Party                                425 non-null    uint8 \n",
      " 82  Dummy_Third Party (Remote)                       425 non-null    uint8 \n",
      " 83  Month_2                                          425 non-null    uint8 \n",
      " 84  Month_3                                          425 non-null    uint8 \n",
      " 85  Month_4                                          425 non-null    uint8 \n",
      " 86  Month_5                                          425 non-null    uint8 \n",
      " 87  Month_6                                          425 non-null    uint8 \n",
      " 88  Month_7                                          425 non-null    uint8 \n",
      " 89  Month_8                                          425 non-null    uint8 \n",
      " 90  Month_9                                          425 non-null    uint8 \n",
      " 91  Month_10                                         425 non-null    uint8 \n",
      " 92  Month_11                                         425 non-null    uint8 \n",
      " 93  Month_12                                         425 non-null    uint8 \n",
      "dtypes: int64(1), object(1), uint8(92)\n",
      "memory usage: 44.9+ KB\n"
     ]
    }
   ],
   "source": [
    "df_latest.info()"
   ]
  },
  {
   "cell_type": "markdown",
   "metadata": {},
   "source": [
    "We can see Decription is only object type variable. Processing Description column."
   ]
  },
  {
   "cell_type": "code",
   "execution_count": 25,
   "metadata": {},
   "outputs": [
    {
     "data": {
      "text/plain": [
       "'While removing the drill rod of the Jumbo 08 for maintenance, the supervisor proceeds to loosen the support of the intermediate centralizer to facilitate the removal, seeing this the mechanic supports one end on the drill of the equipment to pull with both hands the bar and accelerate the removal from this, at this moment the bar slides from its point of support and tightens the fingers of the mechanic between the drilling bar and the beam of the jumbo.'"
      ]
     },
     "execution_count": 25,
     "metadata": {},
     "output_type": "execute_result"
    }
   ],
   "source": [
    "df_latest['Description'][0]"
   ]
  },
  {
   "cell_type": "markdown",
   "metadata": {},
   "source": [
    "#### Cleaning up the data,removing stopwords,remove punctuation, converting them into tokens."
   ]
  },
  {
   "cell_type": "code",
   "execution_count": 26,
   "metadata": {},
   "outputs": [],
   "source": [
    "import string\n",
    "import re\n",
    "import os\n",
    "import nltk\n",
    "\n",
    "from nltk.tokenize import TweetTokenizer\n",
    "from nltk.corpus import stopwords, twitter_samples \n",
    "\n",
    "tweet_tokenizer = TweetTokenizer(preserve_case=False, strip_handles=True, reduce_len=True)\n",
    "\n",
    "stopwords_english = stopwords.words('english')\n",
    "\n",
    "\n",
    "def process_tweet(tweet):\n",
    "    '''\n",
    "    Input: \n",
    "        tweet: a string containing a tweet\n",
    "    Output:\n",
    "        tweets_clean: a list of words containing the processed tweet\n",
    "    \n",
    "    '''\n",
    "    # remove stock market tickers like $GE\n",
    "    tweet = re.sub(r'\\$\\w*', '', tweet)\n",
    "    #remove numbers\n",
    "    tweet = re.sub(r'\\d+', '', tweet)\n",
    "    # remove old style retweet text \"RT\"\n",
    "    tweet = re.sub(r'^RT[\\s]+', '', tweet)\n",
    "    # remove hyperlinks\n",
    "    tweet = re.sub(r'https?:\\/\\/.*[\\r\\n]*', '', tweet)\n",
    "    # remove hashtags\n",
    "    # only removing the hash # sign from the word\n",
    "    tweet = re.sub(r'#', '', tweet)\n",
    "    # tokenize tweets\n",
    "    tokenizer = TweetTokenizer(preserve_case=False, strip_handles=True, reduce_len=True)\n",
    "    tweet_tokens = tokenizer.tokenize(tweet)\n",
    "    ### START CODE HERE ###\n",
    "    tweets_clean = []\n",
    "    for word in tweet_tokens:\n",
    "        if (word not in stopwords_english and # remove stopwords\n",
    "            word not in string.punctuation): # remove punctuation\n",
    "            #tweets_clean.append(word)\n",
    "            tweets_clean.append(word)\n",
    "    ### END CODE HERE ###\n",
    "    return tweets_clean\n"
   ]
  },
  {
   "cell_type": "code",
   "execution_count": 27,
   "metadata": {},
   "outputs": [
    {
     "data": {
      "text/plain": [
       "'While removing the drill rod of the Jumbo 08 for maintenance, the supervisor proceeds to loosen the support of the intermediate centralizer to facilitate the removal, seeing this the mechanic supports one end on the drill of the equipment to pull with both hands the bar and accelerate the removal from this, at this moment the bar slides from its point of support and tightens the fingers of the mechanic between the drilling bar and the beam of the jumbo.'"
      ]
     },
     "execution_count": 27,
     "metadata": {},
     "output_type": "execute_result"
    }
   ],
   "source": [
    "df_latest['Description'][0]"
   ]
  },
  {
   "cell_type": "code",
   "execution_count": 28,
   "metadata": {},
   "outputs": [
    {
     "data": {
      "text/plain": [
       "['removing',\n",
       " 'drill',\n",
       " 'rod',\n",
       " 'jumbo',\n",
       " 'maintenance',\n",
       " 'supervisor',\n",
       " 'proceeds',\n",
       " 'loosen',\n",
       " 'support',\n",
       " 'intermediate',\n",
       " 'centralizer',\n",
       " 'facilitate',\n",
       " 'removal',\n",
       " 'seeing',\n",
       " 'mechanic',\n",
       " 'supports',\n",
       " 'one',\n",
       " 'end',\n",
       " 'drill',\n",
       " 'equipment',\n",
       " 'pull',\n",
       " 'hands',\n",
       " 'bar',\n",
       " 'accelerate',\n",
       " 'removal',\n",
       " 'moment',\n",
       " 'bar',\n",
       " 'slides',\n",
       " 'point',\n",
       " 'support',\n",
       " 'tightens',\n",
       " 'fingers',\n",
       " 'mechanic',\n",
       " 'drilling',\n",
       " 'bar',\n",
       " 'beam',\n",
       " 'jumbo']"
      ]
     },
     "execution_count": 28,
     "metadata": {},
     "output_type": "execute_result"
    }
   ],
   "source": [
    "b = process_tweet(df_latest['Description'][0])\n",
    "b"
   ]
  },
  {
   "cell_type": "markdown",
   "metadata": {},
   "source": [
    "##### Check length of all words in description"
   ]
  },
  {
   "cell_type": "code",
   "execution_count": 29,
   "metadata": {},
   "outputs": [],
   "source": [
    "all_word = []\n",
    "\n",
    "for row in df_latest['Description']:\n",
    "    for word in process_tweet(row):\n",
    "        all_word.append(word)"
   ]
  },
  {
   "cell_type": "code",
   "execution_count": 30,
   "metadata": {},
   "outputs": [
    {
     "data": {
      "text/plain": [
       "14120"
      ]
     },
     "execution_count": 30,
     "metadata": {},
     "output_type": "execute_result"
    }
   ],
   "source": [
    "len(all_word)"
   ]
  },
  {
   "cell_type": "code",
   "execution_count": 31,
   "metadata": {},
   "outputs": [
    {
     "data": {
      "text/plain": [
       "'/Users/nebula'"
      ]
     },
     "execution_count": 31,
     "metadata": {},
     "output_type": "execute_result"
    }
   ],
   "source": [
    "import os\n",
    "path = os.getcwd()\n",
    "path"
   ]
  },
  {
   "cell_type": "markdown",
   "metadata": {},
   "source": [
    "#### Using GloVe Embedding of 50 dimension"
   ]
  },
  {
   "cell_type": "code",
   "execution_count": 32,
   "metadata": {},
   "outputs": [
    {
     "name": "stderr",
     "output_type": "stream",
     "text": [
      "/Users/nebula/opt/anaconda3/lib/python3.7/site-packages/gensim/similarities/__init__.py:15: UserWarning: The gensim.similarities.levenshtein submodule is disabled, because the optional Levenshtein package <https://pypi.org/project/python-Levenshtein/> is unavailable. Install Levenhstein (e.g. `pip install python-Levenshtein`) to suppress this warning.\n",
      "  warnings.warn(msg)\n",
      "/Users/nebula/opt/anaconda3/lib/python3.7/site-packages/ipykernel_launcher.py:15: DeprecationWarning: Call to deprecated `glove2word2vec` (KeyedVectors.load_word2vec_format(.., binary=False, no_header=True) loads GLoVE text vectors.).\n",
      "  from ipykernel import kernelapp as app\n"
     ]
    }
   ],
   "source": [
    "import os\n",
    "import gensim\n",
    "from gensim.test.utils import datapath, get_tmpfile\n",
    "from gensim.models import KeyedVectors # Gensim contains word2vec models and processing tools\n",
    "\n",
    "path = os.getcwd()\n",
    "\n",
    "glove_file = datapath(path+'/Downloads' + '/glove.6B.50d.txt') # This is a GloVe model\n",
    "\n",
    "\n",
    "tmp_file = get_tmpfile(path+'/Downloads' +'/word2vec.glove.6B.50d.txt')\n",
    "\n",
    "\n",
    "from gensim.scripts.glove2word2vec import glove2word2vec\n",
    "_ =  glove2word2vec(glove_file, tmp_file)  # Converting the GloVe file into a Word2Vec file\n",
    "model = KeyedVectors.load_word2vec_format(tmp_file)"
   ]
  },
  {
   "cell_type": "code",
   "execution_count": 33,
   "metadata": {},
   "outputs": [
    {
     "name": "stdout",
     "output_type": "stream",
     "text": [
      "(50,)\n",
      "[ 0.45281  -0.50108  -0.53714  -0.015697  0.22191   0.54602  -0.67301\n",
      " -0.6891    0.63493  -0.19726   0.33685   0.7735    0.90094   0.38488\n",
      "  0.38367   0.2657   -0.08057   0.61089  -1.2894   -0.22313  -0.61578\n",
      "  0.21697   0.35614   0.44499   0.60885  -1.1633   -1.1579    0.36118\n",
      "  0.10466  -0.78325   1.4352    0.18629  -0.26112   0.83275  -0.23123\n",
      "  0.32481   0.14485  -0.44552   0.33497  -0.95946  -0.097479  0.48138\n",
      " -0.43352   0.69455   0.91043  -0.28173   0.41637  -1.2609    0.71278\n",
      "  0.23782 ]\n"
     ]
    }
   ],
   "source": [
    "# Check out what the embedding looks like\n",
    "\n",
    "wordEmbed = model['cat']\n",
    "print(wordEmbed.shape)\n",
    "print(wordEmbed)"
   ]
  },
  {
   "cell_type": "markdown",
   "metadata": {},
   "source": [
    "##### Converting Description into GloVe embeddings"
   ]
  },
  {
   "cell_type": "code",
   "execution_count": 34,
   "metadata": {},
   "outputs": [],
   "source": [
    "data_list = list()\n",
    "for row in df_latest['Description']:\n",
    "    sentence = np.zeros(50)\n",
    "    count = 0\n",
    "    for word in process_tweet(row):\n",
    "        try:\n",
    "            sentence += model[word]\n",
    "            count += 1\n",
    "        except KeyError:\n",
    "            continue\n",
    "    data_list.append(sentence / count)"
   ]
  },
  {
   "cell_type": "markdown",
   "metadata": {},
   "source": [
    "##### Target variable y."
   ]
  },
  {
   "cell_type": "code",
   "execution_count": 35,
   "metadata": {},
   "outputs": [],
   "source": [
    "y = df_latest['Potential_Accident_Level']"
   ]
  },
  {
   "cell_type": "code",
   "execution_count": 36,
   "metadata": {},
   "outputs": [
    {
     "data": {
      "text/plain": [
       "(425,)"
      ]
     },
     "execution_count": 36,
     "metadata": {},
     "output_type": "execute_result"
    }
   ],
   "source": [
    "y.shape"
   ]
  },
  {
   "cell_type": "markdown",
   "metadata": {},
   "source": [
    "##### All Other columns are stored in X."
   ]
  },
  {
   "cell_type": "code",
   "execution_count": 37,
   "metadata": {},
   "outputs": [],
   "source": [
    "X = np.array(data_list)"
   ]
  },
  {
   "cell_type": "code",
   "execution_count": 38,
   "metadata": {},
   "outputs": [
    {
     "name": "stdout",
     "output_type": "stream",
     "text": [
      "<class 'numpy.ndarray'>\n"
     ]
    }
   ],
   "source": [
    "print(type(X))"
   ]
  },
  {
   "cell_type": "markdown",
   "metadata": {},
   "source": [
    "#### Splitting the data into training and test set of ratio 80:20"
   ]
  },
  {
   "cell_type": "code",
   "execution_count": 39,
   "metadata": {},
   "outputs": [],
   "source": [
    "from sklearn.model_selection import train_test_split\n",
    "X_tr, X_te, y_tr, y_te = train_test_split(np.array(data_list), y, test_size=0.20,random_state=42)"
   ]
  },
  {
   "cell_type": "code",
   "execution_count": 40,
   "metadata": {},
   "outputs": [
    {
     "name": "stdout",
     "output_type": "stream",
     "text": [
      "x_train.shape:(340, 50) ,y_train.shape:(340,)\n",
      "x_test.shape:(85, 50),y_test.shape:(85,)\n"
     ]
    }
   ],
   "source": [
    "print(f\"x_train.shape:{X_tr.shape} ,y_train.shape:{y_tr.shape}\")\n",
    "print(f\"x_test.shape:{X_te.shape},y_test.shape:{y_te.shape}\")"
   ]
  },
  {
   "cell_type": "markdown",
   "metadata": {},
   "source": [
    "#### Method to store Accuracy of Model."
   ]
  },
  {
   "cell_type": "code",
   "execution_count": 41,
   "metadata": {},
   "outputs": [],
   "source": [
    "acc = []\n",
    "mod = []\n",
    "def get_accuracy(y,x):\n",
    "    global t\n",
    "    acc.append(x)\n",
    "    mod.append(y)\n",
    "    temp=pd.DataFrame(mod,columns=['Model'])\n",
    "    temp1 = pd.DataFrame(acc,columns=['accuracy'])\n",
    "    t =temp.join(temp1)\n",
    "    print(t)"
   ]
  },
  {
   "cell_type": "markdown",
   "metadata": {},
   "source": [
    "#### Applying RandomForestRegressor Model"
   ]
  },
  {
   "cell_type": "code",
   "execution_count": 42,
   "metadata": {},
   "outputs": [],
   "source": [
    "from sklearn.ensemble import  RandomForestClassifier\n",
    "rf =  RandomForestClassifier()"
   ]
  },
  {
   "cell_type": "code",
   "execution_count": 43,
   "metadata": {},
   "outputs": [
    {
     "data": {
      "text/plain": [
       "RandomForestClassifier()"
      ]
     },
     "execution_count": 43,
     "metadata": {},
     "output_type": "execute_result"
    }
   ],
   "source": [
    "rf.fit(X_tr,y_tr)"
   ]
  },
  {
   "cell_type": "code",
   "execution_count": 44,
   "metadata": {},
   "outputs": [
    {
     "name": "stdout",
     "output_type": "stream",
     "text": [
      "0.9970588235294118\n",
      "0.4\n"
     ]
    }
   ],
   "source": [
    "print(rf.score(X_tr,y_tr))\n",
    "print(rf.score(X_te,y_te))"
   ]
  },
  {
   "cell_type": "code",
   "execution_count": 45,
   "metadata": {},
   "outputs": [
    {
     "name": "stdout",
     "output_type": "stream",
     "text": [
      "                    Model  accuracy\n",
      "0  RandomForestClassifier       0.4\n"
     ]
    }
   ],
   "source": [
    "get_accuracy('RandomForestClassifier',rf.score(X_te,y_te))"
   ]
  },
  {
   "cell_type": "code",
   "execution_count": 46,
   "metadata": {},
   "outputs": [],
   "source": [
    "#taking GloVe embeddings\n",
    "b = np.array(data_list)\n"
   ]
  },
  {
   "cell_type": "code",
   "execution_count": 47,
   "metadata": {},
   "outputs": [],
   "source": [
    "df = pd.DataFrame(b)"
   ]
  },
  {
   "cell_type": "code",
   "execution_count": 48,
   "metadata": {},
   "outputs": [
    {
     "data": {
      "text/html": [
       "<div>\n",
       "<style scoped>\n",
       "    .dataframe tbody tr th:only-of-type {\n",
       "        vertical-align: middle;\n",
       "    }\n",
       "\n",
       "    .dataframe tbody tr th {\n",
       "        vertical-align: top;\n",
       "    }\n",
       "\n",
       "    .dataframe thead th {\n",
       "        text-align: right;\n",
       "    }\n",
       "</style>\n",
       "<table border=\"1\" class=\"dataframe\">\n",
       "  <thead>\n",
       "    <tr style=\"text-align: right;\">\n",
       "      <th></th>\n",
       "      <th>0</th>\n",
       "      <th>1</th>\n",
       "      <th>2</th>\n",
       "      <th>3</th>\n",
       "      <th>4</th>\n",
       "      <th>5</th>\n",
       "      <th>6</th>\n",
       "      <th>7</th>\n",
       "      <th>8</th>\n",
       "      <th>9</th>\n",
       "      <th>...</th>\n",
       "      <th>40</th>\n",
       "      <th>41</th>\n",
       "      <th>42</th>\n",
       "      <th>43</th>\n",
       "      <th>44</th>\n",
       "      <th>45</th>\n",
       "      <th>46</th>\n",
       "      <th>47</th>\n",
       "      <th>48</th>\n",
       "      <th>49</th>\n",
       "    </tr>\n",
       "  </thead>\n",
       "  <tbody>\n",
       "    <tr>\n",
       "      <th>0</th>\n",
       "      <td>0.046364</td>\n",
       "      <td>-0.029248</td>\n",
       "      <td>0.222147</td>\n",
       "      <td>-0.069934</td>\n",
       "      <td>-0.007058</td>\n",
       "      <td>0.178736</td>\n",
       "      <td>-0.022133</td>\n",
       "      <td>0.027935</td>\n",
       "      <td>0.297329</td>\n",
       "      <td>-0.117455</td>\n",
       "      <td>...</td>\n",
       "      <td>-0.086675</td>\n",
       "      <td>0.008910</td>\n",
       "      <td>0.020527</td>\n",
       "      <td>0.192217</td>\n",
       "      <td>0.043438</td>\n",
       "      <td>-0.213376</td>\n",
       "      <td>0.258636</td>\n",
       "      <td>-0.000753</td>\n",
       "      <td>0.022364</td>\n",
       "      <td>-0.002002</td>\n",
       "    </tr>\n",
       "    <tr>\n",
       "      <th>1</th>\n",
       "      <td>0.517001</td>\n",
       "      <td>0.210823</td>\n",
       "      <td>0.313585</td>\n",
       "      <td>-0.238873</td>\n",
       "      <td>-0.080969</td>\n",
       "      <td>0.442216</td>\n",
       "      <td>0.183545</td>\n",
       "      <td>0.063399</td>\n",
       "      <td>0.154941</td>\n",
       "      <td>0.317588</td>\n",
       "      <td>...</td>\n",
       "      <td>0.252190</td>\n",
       "      <td>0.053685</td>\n",
       "      <td>0.016166</td>\n",
       "      <td>-0.057668</td>\n",
       "      <td>0.119771</td>\n",
       "      <td>0.016885</td>\n",
       "      <td>0.026766</td>\n",
       "      <td>-0.051854</td>\n",
       "      <td>0.217533</td>\n",
       "      <td>-0.043537</td>\n",
       "    </tr>\n",
       "    <tr>\n",
       "      <th>2</th>\n",
       "      <td>0.053373</td>\n",
       "      <td>-0.015110</td>\n",
       "      <td>0.161758</td>\n",
       "      <td>-0.138729</td>\n",
       "      <td>0.164716</td>\n",
       "      <td>0.183081</td>\n",
       "      <td>-0.223473</td>\n",
       "      <td>0.132254</td>\n",
       "      <td>0.235123</td>\n",
       "      <td>-0.083697</td>\n",
       "      <td>...</td>\n",
       "      <td>-0.077956</td>\n",
       "      <td>0.059609</td>\n",
       "      <td>-0.053150</td>\n",
       "      <td>0.093275</td>\n",
       "      <td>0.135326</td>\n",
       "      <td>-0.172743</td>\n",
       "      <td>0.231328</td>\n",
       "      <td>-0.285187</td>\n",
       "      <td>-0.063133</td>\n",
       "      <td>-0.230613</td>\n",
       "    </tr>\n",
       "    <tr>\n",
       "      <th>3</th>\n",
       "      <td>0.138974</td>\n",
       "      <td>-0.054045</td>\n",
       "      <td>0.219032</td>\n",
       "      <td>-0.018591</td>\n",
       "      <td>0.175420</td>\n",
       "      <td>0.094466</td>\n",
       "      <td>0.073502</td>\n",
       "      <td>0.116270</td>\n",
       "      <td>0.012112</td>\n",
       "      <td>-0.280907</td>\n",
       "      <td>...</td>\n",
       "      <td>0.000397</td>\n",
       "      <td>0.046155</td>\n",
       "      <td>-0.109199</td>\n",
       "      <td>0.146955</td>\n",
       "      <td>-0.032561</td>\n",
       "      <td>-0.135152</td>\n",
       "      <td>0.289416</td>\n",
       "      <td>-0.078163</td>\n",
       "      <td>-0.054027</td>\n",
       "      <td>-0.167514</td>\n",
       "    </tr>\n",
       "    <tr>\n",
       "      <th>4</th>\n",
       "      <td>0.040683</td>\n",
       "      <td>0.194368</td>\n",
       "      <td>0.381006</td>\n",
       "      <td>-0.076749</td>\n",
       "      <td>0.186348</td>\n",
       "      <td>0.380040</td>\n",
       "      <td>-0.011421</td>\n",
       "      <td>-0.056856</td>\n",
       "      <td>0.153616</td>\n",
       "      <td>-0.198066</td>\n",
       "      <td>...</td>\n",
       "      <td>-0.076633</td>\n",
       "      <td>0.085033</td>\n",
       "      <td>0.027849</td>\n",
       "      <td>0.077702</td>\n",
       "      <td>-0.046608</td>\n",
       "      <td>-0.262838</td>\n",
       "      <td>0.214653</td>\n",
       "      <td>-0.311427</td>\n",
       "      <td>-0.086736</td>\n",
       "      <td>0.003946</td>\n",
       "    </tr>\n",
       "    <tr>\n",
       "      <th>...</th>\n",
       "      <td>...</td>\n",
       "      <td>...</td>\n",
       "      <td>...</td>\n",
       "      <td>...</td>\n",
       "      <td>...</td>\n",
       "      <td>...</td>\n",
       "      <td>...</td>\n",
       "      <td>...</td>\n",
       "      <td>...</td>\n",
       "      <td>...</td>\n",
       "      <td>...</td>\n",
       "      <td>...</td>\n",
       "      <td>...</td>\n",
       "      <td>...</td>\n",
       "      <td>...</td>\n",
       "      <td>...</td>\n",
       "      <td>...</td>\n",
       "      <td>...</td>\n",
       "      <td>...</td>\n",
       "      <td>...</td>\n",
       "      <td>...</td>\n",
       "    </tr>\n",
       "    <tr>\n",
       "      <th>420</th>\n",
       "      <td>0.021859</td>\n",
       "      <td>0.037871</td>\n",
       "      <td>0.279773</td>\n",
       "      <td>-0.158140</td>\n",
       "      <td>0.440398</td>\n",
       "      <td>0.294467</td>\n",
       "      <td>-0.023263</td>\n",
       "      <td>-0.064917</td>\n",
       "      <td>0.028563</td>\n",
       "      <td>-0.447277</td>\n",
       "      <td>...</td>\n",
       "      <td>0.066633</td>\n",
       "      <td>0.023293</td>\n",
       "      <td>-0.075607</td>\n",
       "      <td>-0.079051</td>\n",
       "      <td>-0.348242</td>\n",
       "      <td>-0.055184</td>\n",
       "      <td>0.240102</td>\n",
       "      <td>-0.271480</td>\n",
       "      <td>-0.100062</td>\n",
       "      <td>0.025667</td>\n",
       "    </tr>\n",
       "    <tr>\n",
       "      <th>421</th>\n",
       "      <td>0.127191</td>\n",
       "      <td>-0.025613</td>\n",
       "      <td>0.172690</td>\n",
       "      <td>-0.056459</td>\n",
       "      <td>-0.029684</td>\n",
       "      <td>0.139266</td>\n",
       "      <td>-0.239016</td>\n",
       "      <td>0.012693</td>\n",
       "      <td>0.023200</td>\n",
       "      <td>-0.065939</td>\n",
       "      <td>...</td>\n",
       "      <td>-0.154663</td>\n",
       "      <td>0.247511</td>\n",
       "      <td>-0.059695</td>\n",
       "      <td>0.066922</td>\n",
       "      <td>0.196673</td>\n",
       "      <td>-0.141401</td>\n",
       "      <td>-0.018502</td>\n",
       "      <td>-0.368245</td>\n",
       "      <td>0.265137</td>\n",
       "      <td>-0.140825</td>\n",
       "    </tr>\n",
       "    <tr>\n",
       "      <th>422</th>\n",
       "      <td>0.400082</td>\n",
       "      <td>-0.100790</td>\n",
       "      <td>0.015473</td>\n",
       "      <td>-0.114683</td>\n",
       "      <td>0.096129</td>\n",
       "      <td>0.074122</td>\n",
       "      <td>-0.242359</td>\n",
       "      <td>0.203369</td>\n",
       "      <td>0.147597</td>\n",
       "      <td>-0.275508</td>\n",
       "      <td>...</td>\n",
       "      <td>-0.282320</td>\n",
       "      <td>0.067688</td>\n",
       "      <td>0.020581</td>\n",
       "      <td>0.360503</td>\n",
       "      <td>0.343128</td>\n",
       "      <td>-0.129139</td>\n",
       "      <td>0.062084</td>\n",
       "      <td>0.045433</td>\n",
       "      <td>-0.051618</td>\n",
       "      <td>-0.183688</td>\n",
       "    </tr>\n",
       "    <tr>\n",
       "      <th>423</th>\n",
       "      <td>-0.055878</td>\n",
       "      <td>0.012568</td>\n",
       "      <td>0.219108</td>\n",
       "      <td>-0.102659</td>\n",
       "      <td>0.127429</td>\n",
       "      <td>0.412077</td>\n",
       "      <td>0.018652</td>\n",
       "      <td>0.143614</td>\n",
       "      <td>0.051245</td>\n",
       "      <td>0.089297</td>\n",
       "      <td>...</td>\n",
       "      <td>-0.037024</td>\n",
       "      <td>0.212229</td>\n",
       "      <td>-0.187600</td>\n",
       "      <td>0.165712</td>\n",
       "      <td>0.143163</td>\n",
       "      <td>-0.256683</td>\n",
       "      <td>0.089438</td>\n",
       "      <td>-0.069469</td>\n",
       "      <td>-0.060815</td>\n",
       "      <td>-0.230876</td>\n",
       "    </tr>\n",
       "    <tr>\n",
       "      <th>424</th>\n",
       "      <td>0.145441</td>\n",
       "      <td>0.052734</td>\n",
       "      <td>0.167359</td>\n",
       "      <td>-0.137173</td>\n",
       "      <td>0.309313</td>\n",
       "      <td>-0.192620</td>\n",
       "      <td>-0.370408</td>\n",
       "      <td>0.227082</td>\n",
       "      <td>0.053699</td>\n",
       "      <td>-0.440744</td>\n",
       "      <td>...</td>\n",
       "      <td>-0.063406</td>\n",
       "      <td>0.022875</td>\n",
       "      <td>-0.037893</td>\n",
       "      <td>0.161982</td>\n",
       "      <td>0.159699</td>\n",
       "      <td>0.034559</td>\n",
       "      <td>0.069694</td>\n",
       "      <td>-0.358341</td>\n",
       "      <td>0.226060</td>\n",
       "      <td>-0.226945</td>\n",
       "    </tr>\n",
       "  </tbody>\n",
       "</table>\n",
       "<p>425 rows × 50 columns</p>\n",
       "</div>"
      ],
      "text/plain": [
       "           0         1         2         3         4         5         6   \\\n",
       "0    0.046364 -0.029248  0.222147 -0.069934 -0.007058  0.178736 -0.022133   \n",
       "1    0.517001  0.210823  0.313585 -0.238873 -0.080969  0.442216  0.183545   \n",
       "2    0.053373 -0.015110  0.161758 -0.138729  0.164716  0.183081 -0.223473   \n",
       "3    0.138974 -0.054045  0.219032 -0.018591  0.175420  0.094466  0.073502   \n",
       "4    0.040683  0.194368  0.381006 -0.076749  0.186348  0.380040 -0.011421   \n",
       "..        ...       ...       ...       ...       ...       ...       ...   \n",
       "420  0.021859  0.037871  0.279773 -0.158140  0.440398  0.294467 -0.023263   \n",
       "421  0.127191 -0.025613  0.172690 -0.056459 -0.029684  0.139266 -0.239016   \n",
       "422  0.400082 -0.100790  0.015473 -0.114683  0.096129  0.074122 -0.242359   \n",
       "423 -0.055878  0.012568  0.219108 -0.102659  0.127429  0.412077  0.018652   \n",
       "424  0.145441  0.052734  0.167359 -0.137173  0.309313 -0.192620 -0.370408   \n",
       "\n",
       "           7         8         9   ...        40        41        42  \\\n",
       "0    0.027935  0.297329 -0.117455  ... -0.086675  0.008910  0.020527   \n",
       "1    0.063399  0.154941  0.317588  ...  0.252190  0.053685  0.016166   \n",
       "2    0.132254  0.235123 -0.083697  ... -0.077956  0.059609 -0.053150   \n",
       "3    0.116270  0.012112 -0.280907  ...  0.000397  0.046155 -0.109199   \n",
       "4   -0.056856  0.153616 -0.198066  ... -0.076633  0.085033  0.027849   \n",
       "..        ...       ...       ...  ...       ...       ...       ...   \n",
       "420 -0.064917  0.028563 -0.447277  ...  0.066633  0.023293 -0.075607   \n",
       "421  0.012693  0.023200 -0.065939  ... -0.154663  0.247511 -0.059695   \n",
       "422  0.203369  0.147597 -0.275508  ... -0.282320  0.067688  0.020581   \n",
       "423  0.143614  0.051245  0.089297  ... -0.037024  0.212229 -0.187600   \n",
       "424  0.227082  0.053699 -0.440744  ... -0.063406  0.022875 -0.037893   \n",
       "\n",
       "           43        44        45        46        47        48        49  \n",
       "0    0.192217  0.043438 -0.213376  0.258636 -0.000753  0.022364 -0.002002  \n",
       "1   -0.057668  0.119771  0.016885  0.026766 -0.051854  0.217533 -0.043537  \n",
       "2    0.093275  0.135326 -0.172743  0.231328 -0.285187 -0.063133 -0.230613  \n",
       "3    0.146955 -0.032561 -0.135152  0.289416 -0.078163 -0.054027 -0.167514  \n",
       "4    0.077702 -0.046608 -0.262838  0.214653 -0.311427 -0.086736  0.003946  \n",
       "..        ...       ...       ...       ...       ...       ...       ...  \n",
       "420 -0.079051 -0.348242 -0.055184  0.240102 -0.271480 -0.100062  0.025667  \n",
       "421  0.066922  0.196673 -0.141401 -0.018502 -0.368245  0.265137 -0.140825  \n",
       "422  0.360503  0.343128 -0.129139  0.062084  0.045433 -0.051618 -0.183688  \n",
       "423  0.165712  0.143163 -0.256683  0.089438 -0.069469 -0.060815 -0.230876  \n",
       "424  0.161982  0.159699  0.034559  0.069694 -0.358341  0.226060 -0.226945  \n",
       "\n",
       "[425 rows x 50 columns]"
      ]
     },
     "execution_count": 48,
     "metadata": {},
     "output_type": "execute_result"
    }
   ],
   "source": [
    "df"
   ]
  },
  {
   "cell_type": "code",
   "execution_count": 49,
   "metadata": {},
   "outputs": [],
   "source": [
    "new_df = pd.concat([df_latest,df],axis=1)"
   ]
  },
  {
   "cell_type": "code",
   "execution_count": 50,
   "metadata": {},
   "outputs": [],
   "source": [
    "new_df.drop(['Description'],axis=1,inplace=True)"
   ]
  },
  {
   "cell_type": "code",
   "execution_count": 51,
   "metadata": {},
   "outputs": [
    {
     "name": "stdout",
     "output_type": "stream",
     "text": [
      "<class 'pandas.core.frame.DataFrame'>\n",
      "RangeIndex: 425 entries, 0 to 424\n",
      "Columns: 143 entries, Potential_Accident_Level to 49\n",
      "dtypes: float64(50), int64(1), uint8(92)\n",
      "memory usage: 207.6 KB\n"
     ]
    }
   ],
   "source": [
    "new_df.info()"
   ]
  },
  {
   "cell_type": "code",
   "execution_count": 52,
   "metadata": {},
   "outputs": [
    {
     "data": {
      "text/plain": [
       "(425, 143)"
      ]
     },
     "execution_count": 52,
     "metadata": {},
     "output_type": "execute_result"
    }
   ],
   "source": [
    "new_df.shape"
   ]
  },
  {
   "cell_type": "code",
   "execution_count": 53,
   "metadata": {},
   "outputs": [
    {
     "name": "stdout",
     "output_type": "stream",
     "text": [
      "<class 'pandas.core.frame.DataFrame'>\n",
      "RangeIndex: 425 entries, 0 to 424\n",
      "Columns: 143 entries, Potential_Accident_Level to 49\n",
      "dtypes: float64(50), int64(1), uint8(92)\n",
      "memory usage: 207.6 KB\n"
     ]
    }
   ],
   "source": [
    "new_df.info()"
   ]
  },
  {
   "cell_type": "code",
   "execution_count": 54,
   "metadata": {},
   "outputs": [],
   "source": [
    "df_final = new_df.copy()"
   ]
  },
  {
   "cell_type": "code",
   "execution_count": 55,
   "metadata": {},
   "outputs": [
    {
     "name": "stdout",
     "output_type": "stream",
     "text": [
      "<class 'pandas.core.frame.DataFrame'>\n",
      "RangeIndex: 425 entries, 0 to 424\n",
      "Columns: 143 entries, Potential_Accident_Level to 49\n",
      "dtypes: float64(50), int64(1), uint8(92)\n",
      "memory usage: 207.6 KB\n"
     ]
    }
   ],
   "source": [
    "df_final.info()"
   ]
  },
  {
   "cell_type": "code",
   "execution_count": 56,
   "metadata": {},
   "outputs": [],
   "source": [
    "X = df_final.copy()"
   ]
  },
  {
   "cell_type": "code",
   "execution_count": 57,
   "metadata": {},
   "outputs": [],
   "source": [
    "# X.drop(['Accident_Level','Potential_Accident_Level'], axis=1, inplace = True)"
   ]
  },
  {
   "cell_type": "code",
   "execution_count": 58,
   "metadata": {},
   "outputs": [
    {
     "name": "stdout",
     "output_type": "stream",
     "text": [
      "<class 'pandas.core.frame.DataFrame'>\n",
      "RangeIndex: 425 entries, 0 to 424\n",
      "Columns: 143 entries, Potential_Accident_Level to 49\n",
      "dtypes: float64(50), int64(1), uint8(92)\n",
      "memory usage: 207.6 KB\n"
     ]
    }
   ],
   "source": [
    "X.info()"
   ]
  },
  {
   "cell_type": "code",
   "execution_count": 59,
   "metadata": {},
   "outputs": [
    {
     "data": {
      "text/plain": [
       "4    143\n",
       "3    106\n",
       "2     95\n",
       "1     49\n",
       "5     31\n",
       "6      1\n",
       "Name: Potential_Accident_Level, dtype: int64"
      ]
     },
     "execution_count": 59,
     "metadata": {},
     "output_type": "execute_result"
    }
   ],
   "source": [
    "y.value_counts()"
   ]
  },
  {
   "cell_type": "code",
   "execution_count": 60,
   "metadata": {},
   "outputs": [
    {
     "data": {
      "text/plain": [
       "307"
      ]
     },
     "execution_count": 60,
     "metadata": {},
     "output_type": "execute_result"
    }
   ],
   "source": [
    "y_list = list(y)\n",
    "d = y_list.index(6)\n",
    "d"
   ]
  },
  {
   "cell_type": "code",
   "execution_count": 61,
   "metadata": {},
   "outputs": [
    {
     "data": {
      "text/html": [
       "<div>\n",
       "<style scoped>\n",
       "    .dataframe tbody tr th:only-of-type {\n",
       "        vertical-align: middle;\n",
       "    }\n",
       "\n",
       "    .dataframe tbody tr th {\n",
       "        vertical-align: top;\n",
       "    }\n",
       "\n",
       "    .dataframe thead th {\n",
       "        text-align: right;\n",
       "    }\n",
       "</style>\n",
       "<table border=\"1\" class=\"dataframe\">\n",
       "  <thead>\n",
       "    <tr style=\"text-align: right;\">\n",
       "      <th></th>\n",
       "      <th>Potential_Accident_Level</th>\n",
       "      <th>Dummy_2</th>\n",
       "      <th>Dummy_3</th>\n",
       "      <th>Dummy_4</th>\n",
       "      <th>Dummy_5</th>\n",
       "      <th>Dummy_6</th>\n",
       "      <th>Dummy_7</th>\n",
       "      <th>Dummy_8</th>\n",
       "      <th>Dummy_9</th>\n",
       "      <th>Dummy_10</th>\n",
       "      <th>...</th>\n",
       "      <th>40</th>\n",
       "      <th>41</th>\n",
       "      <th>42</th>\n",
       "      <th>43</th>\n",
       "      <th>44</th>\n",
       "      <th>45</th>\n",
       "      <th>46</th>\n",
       "      <th>47</th>\n",
       "      <th>48</th>\n",
       "      <th>49</th>\n",
       "    </tr>\n",
       "  </thead>\n",
       "  <tbody>\n",
       "    <tr>\n",
       "      <th>0</th>\n",
       "      <td>4</td>\n",
       "      <td>0</td>\n",
       "      <td>0</td>\n",
       "      <td>0</td>\n",
       "      <td>0</td>\n",
       "      <td>0</td>\n",
       "      <td>0</td>\n",
       "      <td>0</td>\n",
       "      <td>0</td>\n",
       "      <td>0</td>\n",
       "      <td>...</td>\n",
       "      <td>-0.086675</td>\n",
       "      <td>0.008910</td>\n",
       "      <td>0.020527</td>\n",
       "      <td>0.192217</td>\n",
       "      <td>0.043438</td>\n",
       "      <td>-0.213376</td>\n",
       "      <td>0.258636</td>\n",
       "      <td>-0.000753</td>\n",
       "      <td>0.022364</td>\n",
       "      <td>-0.002002</td>\n",
       "    </tr>\n",
       "    <tr>\n",
       "      <th>1</th>\n",
       "      <td>4</td>\n",
       "      <td>1</td>\n",
       "      <td>0</td>\n",
       "      <td>0</td>\n",
       "      <td>0</td>\n",
       "      <td>0</td>\n",
       "      <td>0</td>\n",
       "      <td>0</td>\n",
       "      <td>0</td>\n",
       "      <td>0</td>\n",
       "      <td>...</td>\n",
       "      <td>0.252190</td>\n",
       "      <td>0.053685</td>\n",
       "      <td>0.016166</td>\n",
       "      <td>-0.057668</td>\n",
       "      <td>0.119771</td>\n",
       "      <td>0.016885</td>\n",
       "      <td>0.026766</td>\n",
       "      <td>-0.051854</td>\n",
       "      <td>0.217533</td>\n",
       "      <td>-0.043537</td>\n",
       "    </tr>\n",
       "    <tr>\n",
       "      <th>2</th>\n",
       "      <td>3</td>\n",
       "      <td>0</td>\n",
       "      <td>0</td>\n",
       "      <td>0</td>\n",
       "      <td>0</td>\n",
       "      <td>1</td>\n",
       "      <td>0</td>\n",
       "      <td>0</td>\n",
       "      <td>0</td>\n",
       "      <td>0</td>\n",
       "      <td>...</td>\n",
       "      <td>-0.077956</td>\n",
       "      <td>0.059609</td>\n",
       "      <td>-0.053150</td>\n",
       "      <td>0.093275</td>\n",
       "      <td>0.135326</td>\n",
       "      <td>-0.172743</td>\n",
       "      <td>0.231328</td>\n",
       "      <td>-0.285187</td>\n",
       "      <td>-0.063133</td>\n",
       "      <td>-0.230613</td>\n",
       "    </tr>\n",
       "    <tr>\n",
       "      <th>3</th>\n",
       "      <td>1</td>\n",
       "      <td>0</td>\n",
       "      <td>0</td>\n",
       "      <td>0</td>\n",
       "      <td>0</td>\n",
       "      <td>0</td>\n",
       "      <td>0</td>\n",
       "      <td>1</td>\n",
       "      <td>0</td>\n",
       "      <td>0</td>\n",
       "      <td>...</td>\n",
       "      <td>0.000397</td>\n",
       "      <td>0.046155</td>\n",
       "      <td>-0.109199</td>\n",
       "      <td>0.146955</td>\n",
       "      <td>-0.032561</td>\n",
       "      <td>-0.135152</td>\n",
       "      <td>0.289416</td>\n",
       "      <td>-0.078163</td>\n",
       "      <td>-0.054027</td>\n",
       "      <td>-0.167514</td>\n",
       "    </tr>\n",
       "    <tr>\n",
       "      <th>4</th>\n",
       "      <td>4</td>\n",
       "      <td>0</td>\n",
       "      <td>0</td>\n",
       "      <td>0</td>\n",
       "      <td>0</td>\n",
       "      <td>0</td>\n",
       "      <td>0</td>\n",
       "      <td>0</td>\n",
       "      <td>0</td>\n",
       "      <td>1</td>\n",
       "      <td>...</td>\n",
       "      <td>-0.076633</td>\n",
       "      <td>0.085033</td>\n",
       "      <td>0.027849</td>\n",
       "      <td>0.077702</td>\n",
       "      <td>-0.046608</td>\n",
       "      <td>-0.262838</td>\n",
       "      <td>0.214653</td>\n",
       "      <td>-0.311427</td>\n",
       "      <td>-0.086736</td>\n",
       "      <td>0.003946</td>\n",
       "    </tr>\n",
       "    <tr>\n",
       "      <th>...</th>\n",
       "      <td>...</td>\n",
       "      <td>...</td>\n",
       "      <td>...</td>\n",
       "      <td>...</td>\n",
       "      <td>...</td>\n",
       "      <td>...</td>\n",
       "      <td>...</td>\n",
       "      <td>...</td>\n",
       "      <td>...</td>\n",
       "      <td>...</td>\n",
       "      <td>...</td>\n",
       "      <td>...</td>\n",
       "      <td>...</td>\n",
       "      <td>...</td>\n",
       "      <td>...</td>\n",
       "      <td>...</td>\n",
       "      <td>...</td>\n",
       "      <td>...</td>\n",
       "      <td>...</td>\n",
       "      <td>...</td>\n",
       "      <td>...</td>\n",
       "    </tr>\n",
       "    <tr>\n",
       "      <th>420</th>\n",
       "      <td>3</td>\n",
       "      <td>0</td>\n",
       "      <td>0</td>\n",
       "      <td>1</td>\n",
       "      <td>0</td>\n",
       "      <td>0</td>\n",
       "      <td>0</td>\n",
       "      <td>0</td>\n",
       "      <td>0</td>\n",
       "      <td>0</td>\n",
       "      <td>...</td>\n",
       "      <td>0.066633</td>\n",
       "      <td>0.023293</td>\n",
       "      <td>-0.075607</td>\n",
       "      <td>-0.079051</td>\n",
       "      <td>-0.348242</td>\n",
       "      <td>-0.055184</td>\n",
       "      <td>0.240102</td>\n",
       "      <td>-0.271480</td>\n",
       "      <td>-0.100062</td>\n",
       "      <td>0.025667</td>\n",
       "    </tr>\n",
       "    <tr>\n",
       "      <th>421</th>\n",
       "      <td>2</td>\n",
       "      <td>0</td>\n",
       "      <td>0</td>\n",
       "      <td>1</td>\n",
       "      <td>0</td>\n",
       "      <td>0</td>\n",
       "      <td>0</td>\n",
       "      <td>0</td>\n",
       "      <td>0</td>\n",
       "      <td>0</td>\n",
       "      <td>...</td>\n",
       "      <td>-0.154663</td>\n",
       "      <td>0.247511</td>\n",
       "      <td>-0.059695</td>\n",
       "      <td>0.066922</td>\n",
       "      <td>0.196673</td>\n",
       "      <td>-0.141401</td>\n",
       "      <td>-0.018502</td>\n",
       "      <td>-0.368245</td>\n",
       "      <td>0.265137</td>\n",
       "      <td>-0.140825</td>\n",
       "    </tr>\n",
       "    <tr>\n",
       "      <th>422</th>\n",
       "      <td>2</td>\n",
       "      <td>0</td>\n",
       "      <td>0</td>\n",
       "      <td>0</td>\n",
       "      <td>1</td>\n",
       "      <td>0</td>\n",
       "      <td>0</td>\n",
       "      <td>0</td>\n",
       "      <td>0</td>\n",
       "      <td>0</td>\n",
       "      <td>...</td>\n",
       "      <td>-0.282320</td>\n",
       "      <td>0.067688</td>\n",
       "      <td>0.020581</td>\n",
       "      <td>0.360503</td>\n",
       "      <td>0.343128</td>\n",
       "      <td>-0.129139</td>\n",
       "      <td>0.062084</td>\n",
       "      <td>0.045433</td>\n",
       "      <td>-0.051618</td>\n",
       "      <td>-0.183688</td>\n",
       "    </tr>\n",
       "    <tr>\n",
       "      <th>423</th>\n",
       "      <td>2</td>\n",
       "      <td>0</td>\n",
       "      <td>0</td>\n",
       "      <td>0</td>\n",
       "      <td>0</td>\n",
       "      <td>1</td>\n",
       "      <td>0</td>\n",
       "      <td>0</td>\n",
       "      <td>0</td>\n",
       "      <td>0</td>\n",
       "      <td>...</td>\n",
       "      <td>-0.037024</td>\n",
       "      <td>0.212229</td>\n",
       "      <td>-0.187600</td>\n",
       "      <td>0.165712</td>\n",
       "      <td>0.143163</td>\n",
       "      <td>-0.256683</td>\n",
       "      <td>0.089438</td>\n",
       "      <td>-0.069469</td>\n",
       "      <td>-0.060815</td>\n",
       "      <td>-0.230876</td>\n",
       "    </tr>\n",
       "    <tr>\n",
       "      <th>424</th>\n",
       "      <td>2</td>\n",
       "      <td>0</td>\n",
       "      <td>0</td>\n",
       "      <td>0</td>\n",
       "      <td>0</td>\n",
       "      <td>0</td>\n",
       "      <td>0</td>\n",
       "      <td>0</td>\n",
       "      <td>1</td>\n",
       "      <td>0</td>\n",
       "      <td>...</td>\n",
       "      <td>-0.063406</td>\n",
       "      <td>0.022875</td>\n",
       "      <td>-0.037893</td>\n",
       "      <td>0.161982</td>\n",
       "      <td>0.159699</td>\n",
       "      <td>0.034559</td>\n",
       "      <td>0.069694</td>\n",
       "      <td>-0.358341</td>\n",
       "      <td>0.226060</td>\n",
       "      <td>-0.226945</td>\n",
       "    </tr>\n",
       "  </tbody>\n",
       "</table>\n",
       "<p>425 rows × 143 columns</p>\n",
       "</div>"
      ],
      "text/plain": [
       "     Potential_Accident_Level  Dummy_2  Dummy_3  Dummy_4  Dummy_5  Dummy_6  \\\n",
       "0                           4        0        0        0        0        0   \n",
       "1                           4        1        0        0        0        0   \n",
       "2                           3        0        0        0        0        1   \n",
       "3                           1        0        0        0        0        0   \n",
       "4                           4        0        0        0        0        0   \n",
       "..                        ...      ...      ...      ...      ...      ...   \n",
       "420                         3        0        0        1        0        0   \n",
       "421                         2        0        0        1        0        0   \n",
       "422                         2        0        0        0        1        0   \n",
       "423                         2        0        0        0        0        1   \n",
       "424                         2        0        0        0        0        0   \n",
       "\n",
       "     Dummy_7  Dummy_8  Dummy_9  Dummy_10  ...        40        41        42  \\\n",
       "0          0        0        0         0  ... -0.086675  0.008910  0.020527   \n",
       "1          0        0        0         0  ...  0.252190  0.053685  0.016166   \n",
       "2          0        0        0         0  ... -0.077956  0.059609 -0.053150   \n",
       "3          0        1        0         0  ...  0.000397  0.046155 -0.109199   \n",
       "4          0        0        0         1  ... -0.076633  0.085033  0.027849   \n",
       "..       ...      ...      ...       ...  ...       ...       ...       ...   \n",
       "420        0        0        0         0  ...  0.066633  0.023293 -0.075607   \n",
       "421        0        0        0         0  ... -0.154663  0.247511 -0.059695   \n",
       "422        0        0        0         0  ... -0.282320  0.067688  0.020581   \n",
       "423        0        0        0         0  ... -0.037024  0.212229 -0.187600   \n",
       "424        0        0        1         0  ... -0.063406  0.022875 -0.037893   \n",
       "\n",
       "           43        44        45        46        47        48        49  \n",
       "0    0.192217  0.043438 -0.213376  0.258636 -0.000753  0.022364 -0.002002  \n",
       "1   -0.057668  0.119771  0.016885  0.026766 -0.051854  0.217533 -0.043537  \n",
       "2    0.093275  0.135326 -0.172743  0.231328 -0.285187 -0.063133 -0.230613  \n",
       "3    0.146955 -0.032561 -0.135152  0.289416 -0.078163 -0.054027 -0.167514  \n",
       "4    0.077702 -0.046608 -0.262838  0.214653 -0.311427 -0.086736  0.003946  \n",
       "..        ...       ...       ...       ...       ...       ...       ...  \n",
       "420 -0.079051 -0.348242 -0.055184  0.240102 -0.271480 -0.100062  0.025667  \n",
       "421  0.066922  0.196673 -0.141401 -0.018502 -0.368245  0.265137 -0.140825  \n",
       "422  0.360503  0.343128 -0.129139  0.062084  0.045433 -0.051618 -0.183688  \n",
       "423  0.165712  0.143163 -0.256683  0.089438 -0.069469 -0.060815 -0.230876  \n",
       "424  0.161982  0.159699  0.034559  0.069694 -0.358341  0.226060 -0.226945  \n",
       "\n",
       "[425 rows x 143 columns]"
      ]
     },
     "execution_count": 61,
     "metadata": {},
     "output_type": "execute_result"
    }
   ],
   "source": [
    "X"
   ]
  },
  {
   "cell_type": "code",
   "execution_count": 62,
   "metadata": {},
   "outputs": [],
   "source": [
    "X.drop('Potential_Accident_Level',axis=1,inplace=True)"
   ]
  },
  {
   "cell_type": "code",
   "execution_count": 63,
   "metadata": {},
   "outputs": [],
   "source": [
    "X_tr, X_te, y_tr, y_te = train_test_split(X, y, test_size=0.30,random_state=88)"
   ]
  },
  {
   "cell_type": "markdown",
   "metadata": {},
   "source": [
    "##### Apply RandomForestRegressor Model using GloVe"
   ]
  },
  {
   "cell_type": "code",
   "execution_count": 64,
   "metadata": {},
   "outputs": [],
   "source": [
    "rf1 =  RandomForestClassifier()"
   ]
  },
  {
   "cell_type": "code",
   "execution_count": 65,
   "metadata": {},
   "outputs": [
    {
     "data": {
      "text/plain": [
       "RandomForestClassifier()"
      ]
     },
     "execution_count": 65,
     "metadata": {},
     "output_type": "execute_result"
    }
   ],
   "source": [
    "rf1.fit(X_tr,y_tr)"
   ]
  },
  {
   "cell_type": "code",
   "execution_count": 66,
   "metadata": {},
   "outputs": [
    {
     "data": {
      "text/plain": [
       "0.9966329966329966"
      ]
     },
     "execution_count": 66,
     "metadata": {},
     "output_type": "execute_result"
    }
   ],
   "source": [
    "rf1.score(X_tr,y_tr)"
   ]
  },
  {
   "cell_type": "code",
   "execution_count": 67,
   "metadata": {},
   "outputs": [
    {
     "data": {
      "text/plain": [
       "0.4453125"
      ]
     },
     "execution_count": 67,
     "metadata": {},
     "output_type": "execute_result"
    }
   ],
   "source": [
    "rf1.score(X_te,y_te)"
   ]
  },
  {
   "cell_type": "code",
   "execution_count": 68,
   "metadata": {},
   "outputs": [
    {
     "name": "stdout",
     "output_type": "stream",
     "text": [
      "                          Model  accuracy\n",
      "0        RandomForestClassifier  0.400000\n",
      "1  RandomForestClassifier GloVe  0.445312\n"
     ]
    }
   ],
   "source": [
    "get_accuracy('RandomForestClassifier GloVe',rf1.score(X_te,y_te))"
   ]
  },
  {
   "cell_type": "code",
   "execution_count": 69,
   "metadata": {},
   "outputs": [
    {
     "data": {
      "text/plain": [
       "array([2, 4, 4, 2, 1, 1, 3, 2, 4, 4, 2, 4, 3, 4, 3, 4, 4, 4, 2, 2, 2, 3,\n",
       "       3, 4, 4, 4, 3, 2, 4, 1, 2, 4, 4, 1, 4, 2, 4, 4, 2, 3, 4, 2, 2, 4,\n",
       "       3, 2, 4, 1, 1, 3, 3, 4, 2, 5, 3, 2, 4, 1, 2, 4, 3, 2, 3, 4, 4, 3,\n",
       "       4, 4, 3, 4, 4, 4, 3, 4, 1, 1, 4, 3, 1, 3, 2, 2, 4, 4, 3, 4, 2, 4,\n",
       "       4, 4, 3, 2, 4, 4, 4, 4, 4, 3, 4, 4, 3, 4, 4, 4, 1, 3, 3, 2, 4, 4,\n",
       "       1, 4, 1, 3, 4, 4, 4, 4, 4, 4, 4, 4, 4, 4, 2, 4, 4, 4])"
      ]
     },
     "execution_count": 69,
     "metadata": {},
     "output_type": "execute_result"
    }
   ],
   "source": [
    "pred = rf1.predict(X_te)\n",
    "pred = pred.astype(int)\n",
    "pred"
   ]
  },
  {
   "cell_type": "code",
   "execution_count": 70,
   "metadata": {},
   "outputs": [
    {
     "name": "stdout",
     "output_type": "stream",
     "text": [
      "              precision    recall  f1-score   support\n",
      "\n",
      "           1       0.92      0.71      0.80        17\n",
      "           2       0.54      0.46      0.50        28\n",
      "           3       0.28      0.20      0.23        35\n",
      "           4       0.37      0.65      0.47        37\n",
      "           5       1.00      0.09      0.17        11\n",
      "\n",
      "    accuracy                           0.45       128\n",
      "   macro avg       0.62      0.42      0.43       128\n",
      "weighted avg       0.51      0.45      0.43       128\n",
      "\n"
     ]
    }
   ],
   "source": [
    "from sklearn.metrics import classification_report\n",
    "\n",
    "print(classification_report(y_te, pred))"
   ]
  },
  {
   "cell_type": "markdown",
   "metadata": {},
   "source": [
    "##### Apply DecisionTreeClassifier Model"
   ]
  },
  {
   "cell_type": "code",
   "execution_count": 71,
   "metadata": {},
   "outputs": [],
   "source": [
    "from sklearn.tree import DecisionTreeClassifier\n",
    "\n",
    "dtree=DecisionTreeClassifier()\n"
   ]
  },
  {
   "cell_type": "code",
   "execution_count": 72,
   "metadata": {},
   "outputs": [
    {
     "data": {
      "text/plain": [
       "DecisionTreeClassifier()"
      ]
     },
     "execution_count": 72,
     "metadata": {},
     "output_type": "execute_result"
    }
   ],
   "source": [
    "dtree.fit(X_tr,y_tr)"
   ]
  },
  {
   "cell_type": "code",
   "execution_count": 73,
   "metadata": {},
   "outputs": [
    {
     "data": {
      "text/plain": [
       "0.9966329966329966"
      ]
     },
     "execution_count": 73,
     "metadata": {},
     "output_type": "execute_result"
    }
   ],
   "source": [
    "dtree.score(X_tr,y_tr)"
   ]
  },
  {
   "cell_type": "code",
   "execution_count": 74,
   "metadata": {},
   "outputs": [
    {
     "data": {
      "text/plain": [
       "0.421875"
      ]
     },
     "execution_count": 74,
     "metadata": {},
     "output_type": "execute_result"
    }
   ],
   "source": [
    "dtree.score(X_te,y_te)"
   ]
  },
  {
   "cell_type": "code",
   "execution_count": 75,
   "metadata": {},
   "outputs": [
    {
     "name": "stdout",
     "output_type": "stream",
     "text": [
      "                          Model  accuracy\n",
      "0        RandomForestClassifier  0.400000\n",
      "1  RandomForestClassifier GloVe  0.445312\n",
      "2        DecisionTreeClassifier  0.421875\n"
     ]
    }
   ],
   "source": [
    "get_accuracy('DecisionTreeClassifier',dtree.score(X_te,y_te))"
   ]
  },
  {
   "cell_type": "code",
   "execution_count": 76,
   "metadata": {},
   "outputs": [
    {
     "data": {
      "text/plain": [
       "array([3, 1, 4, 3, 1, 1, 4, 4, 1, 5, 2, 2, 4, 1, 2, 1, 3, 4, 4, 4, 3, 4,\n",
       "       2, 5, 2, 4, 2, 3, 4, 1, 3, 4, 3, 4, 3, 1, 4, 3, 4, 4, 3, 3, 2, 4,\n",
       "       3, 2, 4, 1, 1, 5, 3, 4, 5, 5, 3, 4, 4, 1, 2, 3, 4, 5, 2, 3, 4, 2,\n",
       "       4, 3, 4, 4, 5, 4, 2, 4, 1, 4, 2, 3, 1, 4, 3, 2, 5, 4, 3, 2, 4, 4,\n",
       "       4, 4, 1, 2, 3, 2, 3, 4, 2, 2, 3, 4, 3, 3, 3, 2, 1, 2, 1, 2, 3, 3,\n",
       "       1, 3, 1, 4, 1, 3, 4, 4, 5, 4, 3, 4, 4, 4, 4, 4, 3, 3])"
      ]
     },
     "execution_count": 76,
     "metadata": {},
     "output_type": "execute_result"
    }
   ],
   "source": [
    "pred = dtree.predict(X_te)\n",
    "pred = pred.astype(int)\n",
    "pred"
   ]
  },
  {
   "cell_type": "code",
   "execution_count": 77,
   "metadata": {},
   "outputs": [
    {
     "name": "stdout",
     "output_type": "stream",
     "text": [
      "              precision    recall  f1-score   support\n",
      "\n",
      "           1       0.53      0.59      0.56        17\n",
      "           2       0.27      0.21      0.24        28\n",
      "           3       0.42      0.40      0.41        35\n",
      "           4       0.47      0.57      0.51        37\n",
      "           5       0.33      0.27      0.30        11\n",
      "\n",
      "    accuracy                           0.42       128\n",
      "   macro avg       0.40      0.41      0.40       128\n",
      "weighted avg       0.41      0.42      0.41       128\n",
      "\n"
     ]
    }
   ],
   "source": [
    "from sklearn.metrics import classification_report\n",
    "\n",
    "print(classification_report(y_te, pred))"
   ]
  },
  {
   "cell_type": "markdown",
   "metadata": {},
   "source": [
    "#### Apply BernoulliNB Model"
   ]
  },
  {
   "cell_type": "code",
   "execution_count": 78,
   "metadata": {},
   "outputs": [
    {
     "name": "stdout",
     "output_type": "stream",
     "text": [
      "0.4140625\n"
     ]
    }
   ],
   "source": [
    "from sklearn.naive_bayes import BernoulliNB\n",
    "from sklearn.metrics import accuracy_score\n",
    "clf = BernoulliNB()\n",
    "clf.fit(X_tr, y_tr)\n",
    "pred = clf.predict(X_te)\n",
    "print(accuracy_score(y_te, pred))"
   ]
  },
  {
   "cell_type": "code",
   "execution_count": 79,
   "metadata": {},
   "outputs": [
    {
     "data": {
      "text/plain": [
       "0.4140625"
      ]
     },
     "execution_count": 79,
     "metadata": {},
     "output_type": "execute_result"
    }
   ],
   "source": [
    "clf.score(X_te,y_te)"
   ]
  },
  {
   "cell_type": "code",
   "execution_count": 80,
   "metadata": {},
   "outputs": [
    {
     "name": "stdout",
     "output_type": "stream",
     "text": [
      "                          Model  accuracy\n",
      "0        RandomForestClassifier  0.400000\n",
      "1  RandomForestClassifier GloVe  0.445312\n",
      "2        DecisionTreeClassifier  0.421875\n",
      "3                   BernoulliNB  0.414062\n"
     ]
    }
   ],
   "source": [
    "get_accuracy('BernoulliNB',clf.score(X_te,y_te))"
   ]
  },
  {
   "cell_type": "markdown",
   "metadata": {},
   "source": [
    "#### Apply BaggingClassifier Model"
   ]
  },
  {
   "cell_type": "code",
   "execution_count": 81,
   "metadata": {},
   "outputs": [],
   "source": [
    "from sklearn.ensemble import BaggingClassifier\n",
    "bgcl=BaggingClassifier()"
   ]
  },
  {
   "cell_type": "code",
   "execution_count": 82,
   "metadata": {},
   "outputs": [
    {
     "data": {
      "text/plain": [
       "BaggingClassifier()"
      ]
     },
     "execution_count": 82,
     "metadata": {},
     "output_type": "execute_result"
    }
   ],
   "source": [
    "bgcl.fit(X_tr,y_tr)"
   ]
  },
  {
   "cell_type": "code",
   "execution_count": 83,
   "metadata": {},
   "outputs": [
    {
     "data": {
      "text/plain": [
       "0.9831649831649831"
      ]
     },
     "execution_count": 83,
     "metadata": {},
     "output_type": "execute_result"
    }
   ],
   "source": [
    "bgcl.score(X_tr,y_tr)"
   ]
  },
  {
   "cell_type": "code",
   "execution_count": 84,
   "metadata": {},
   "outputs": [
    {
     "data": {
      "text/plain": [
       "0.40625"
      ]
     },
     "execution_count": 84,
     "metadata": {},
     "output_type": "execute_result"
    }
   ],
   "source": [
    "bgcl.score(X_te,y_te)"
   ]
  },
  {
   "cell_type": "code",
   "execution_count": 85,
   "metadata": {},
   "outputs": [
    {
     "name": "stdout",
     "output_type": "stream",
     "text": [
      "                          Model  accuracy\n",
      "0        RandomForestClassifier  0.400000\n",
      "1  RandomForestClassifier GloVe  0.445312\n",
      "2        DecisionTreeClassifier  0.421875\n",
      "3                   BernoulliNB  0.414062\n",
      "4             BaggingClassifier  0.406250\n"
     ]
    }
   ],
   "source": [
    "get_accuracy('BaggingClassifier',bgcl.score(X_te,y_te))"
   ]
  },
  {
   "cell_type": "markdown",
   "metadata": {},
   "source": [
    "## Data Balance"
   ]
  },
  {
   "cell_type": "code",
   "execution_count": 86,
   "metadata": {},
   "outputs": [
    {
     "data": {
      "text/plain": [
       "4    143\n",
       "3    106\n",
       "2     95\n",
       "1     49\n",
       "5     31\n",
       "6      1\n",
       "Name: Potential_Accident_Level, dtype: int64"
      ]
     },
     "execution_count": 86,
     "metadata": {},
     "output_type": "execute_result"
    }
   ],
   "source": [
    "y.value_counts()"
   ]
  },
  {
   "cell_type": "code",
   "execution_count": 87,
   "metadata": {},
   "outputs": [
    {
     "data": {
      "text/html": [
       "<div>\n",
       "<style scoped>\n",
       "    .dataframe tbody tr th:only-of-type {\n",
       "        vertical-align: middle;\n",
       "    }\n",
       "\n",
       "    .dataframe tbody tr th {\n",
       "        vertical-align: top;\n",
       "    }\n",
       "\n",
       "    .dataframe thead th {\n",
       "        text-align: right;\n",
       "    }\n",
       "</style>\n",
       "<table border=\"1\" class=\"dataframe\">\n",
       "  <thead>\n",
       "    <tr style=\"text-align: right;\">\n",
       "      <th></th>\n",
       "      <th>Dummy_2</th>\n",
       "      <th>Dummy_3</th>\n",
       "      <th>Dummy_4</th>\n",
       "      <th>Dummy_5</th>\n",
       "      <th>Dummy_6</th>\n",
       "      <th>Dummy_7</th>\n",
       "      <th>Dummy_8</th>\n",
       "      <th>Dummy_9</th>\n",
       "      <th>Dummy_10</th>\n",
       "      <th>Dummy_11</th>\n",
       "      <th>...</th>\n",
       "      <th>40</th>\n",
       "      <th>41</th>\n",
       "      <th>42</th>\n",
       "      <th>43</th>\n",
       "      <th>44</th>\n",
       "      <th>45</th>\n",
       "      <th>46</th>\n",
       "      <th>47</th>\n",
       "      <th>48</th>\n",
       "      <th>49</th>\n",
       "    </tr>\n",
       "  </thead>\n",
       "  <tbody>\n",
       "    <tr>\n",
       "      <th>0</th>\n",
       "      <td>0</td>\n",
       "      <td>0</td>\n",
       "      <td>0</td>\n",
       "      <td>0</td>\n",
       "      <td>0</td>\n",
       "      <td>0</td>\n",
       "      <td>0</td>\n",
       "      <td>0</td>\n",
       "      <td>0</td>\n",
       "      <td>0</td>\n",
       "      <td>...</td>\n",
       "      <td>-0.086675</td>\n",
       "      <td>0.008910</td>\n",
       "      <td>0.020527</td>\n",
       "      <td>0.192217</td>\n",
       "      <td>0.043438</td>\n",
       "      <td>-0.213376</td>\n",
       "      <td>0.258636</td>\n",
       "      <td>-0.000753</td>\n",
       "      <td>0.022364</td>\n",
       "      <td>-0.002002</td>\n",
       "    </tr>\n",
       "    <tr>\n",
       "      <th>1</th>\n",
       "      <td>1</td>\n",
       "      <td>0</td>\n",
       "      <td>0</td>\n",
       "      <td>0</td>\n",
       "      <td>0</td>\n",
       "      <td>0</td>\n",
       "      <td>0</td>\n",
       "      <td>0</td>\n",
       "      <td>0</td>\n",
       "      <td>0</td>\n",
       "      <td>...</td>\n",
       "      <td>0.252190</td>\n",
       "      <td>0.053685</td>\n",
       "      <td>0.016166</td>\n",
       "      <td>-0.057668</td>\n",
       "      <td>0.119771</td>\n",
       "      <td>0.016885</td>\n",
       "      <td>0.026766</td>\n",
       "      <td>-0.051854</td>\n",
       "      <td>0.217533</td>\n",
       "      <td>-0.043537</td>\n",
       "    </tr>\n",
       "    <tr>\n",
       "      <th>2</th>\n",
       "      <td>0</td>\n",
       "      <td>0</td>\n",
       "      <td>0</td>\n",
       "      <td>0</td>\n",
       "      <td>1</td>\n",
       "      <td>0</td>\n",
       "      <td>0</td>\n",
       "      <td>0</td>\n",
       "      <td>0</td>\n",
       "      <td>0</td>\n",
       "      <td>...</td>\n",
       "      <td>-0.077956</td>\n",
       "      <td>0.059609</td>\n",
       "      <td>-0.053150</td>\n",
       "      <td>0.093275</td>\n",
       "      <td>0.135326</td>\n",
       "      <td>-0.172743</td>\n",
       "      <td>0.231328</td>\n",
       "      <td>-0.285187</td>\n",
       "      <td>-0.063133</td>\n",
       "      <td>-0.230613</td>\n",
       "    </tr>\n",
       "    <tr>\n",
       "      <th>3</th>\n",
       "      <td>0</td>\n",
       "      <td>0</td>\n",
       "      <td>0</td>\n",
       "      <td>0</td>\n",
       "      <td>0</td>\n",
       "      <td>0</td>\n",
       "      <td>1</td>\n",
       "      <td>0</td>\n",
       "      <td>0</td>\n",
       "      <td>0</td>\n",
       "      <td>...</td>\n",
       "      <td>0.000397</td>\n",
       "      <td>0.046155</td>\n",
       "      <td>-0.109199</td>\n",
       "      <td>0.146955</td>\n",
       "      <td>-0.032561</td>\n",
       "      <td>-0.135152</td>\n",
       "      <td>0.289416</td>\n",
       "      <td>-0.078163</td>\n",
       "      <td>-0.054027</td>\n",
       "      <td>-0.167514</td>\n",
       "    </tr>\n",
       "    <tr>\n",
       "      <th>4</th>\n",
       "      <td>0</td>\n",
       "      <td>0</td>\n",
       "      <td>0</td>\n",
       "      <td>0</td>\n",
       "      <td>0</td>\n",
       "      <td>0</td>\n",
       "      <td>0</td>\n",
       "      <td>0</td>\n",
       "      <td>1</td>\n",
       "      <td>0</td>\n",
       "      <td>...</td>\n",
       "      <td>-0.076633</td>\n",
       "      <td>0.085033</td>\n",
       "      <td>0.027849</td>\n",
       "      <td>0.077702</td>\n",
       "      <td>-0.046608</td>\n",
       "      <td>-0.262838</td>\n",
       "      <td>0.214653</td>\n",
       "      <td>-0.311427</td>\n",
       "      <td>-0.086736</td>\n",
       "      <td>0.003946</td>\n",
       "    </tr>\n",
       "  </tbody>\n",
       "</table>\n",
       "<p>5 rows × 142 columns</p>\n",
       "</div>"
      ],
      "text/plain": [
       "   Dummy_2  Dummy_3  Dummy_4  Dummy_5  Dummy_6  Dummy_7  Dummy_8  Dummy_9  \\\n",
       "0        0        0        0        0        0        0        0        0   \n",
       "1        1        0        0        0        0        0        0        0   \n",
       "2        0        0        0        0        1        0        0        0   \n",
       "3        0        0        0        0        0        0        1        0   \n",
       "4        0        0        0        0        0        0        0        0   \n",
       "\n",
       "   Dummy_10  Dummy_11  ...        40        41        42        43        44  \\\n",
       "0         0         0  ... -0.086675  0.008910  0.020527  0.192217  0.043438   \n",
       "1         0         0  ...  0.252190  0.053685  0.016166 -0.057668  0.119771   \n",
       "2         0         0  ... -0.077956  0.059609 -0.053150  0.093275  0.135326   \n",
       "3         0         0  ...  0.000397  0.046155 -0.109199  0.146955 -0.032561   \n",
       "4         1         0  ... -0.076633  0.085033  0.027849  0.077702 -0.046608   \n",
       "\n",
       "         45        46        47        48        49  \n",
       "0 -0.213376  0.258636 -0.000753  0.022364 -0.002002  \n",
       "1  0.016885  0.026766 -0.051854  0.217533 -0.043537  \n",
       "2 -0.172743  0.231328 -0.285187 -0.063133 -0.230613  \n",
       "3 -0.135152  0.289416 -0.078163 -0.054027 -0.167514  \n",
       "4 -0.262838  0.214653 -0.311427 -0.086736  0.003946  \n",
       "\n",
       "[5 rows x 142 columns]"
      ]
     },
     "execution_count": 87,
     "metadata": {},
     "output_type": "execute_result"
    }
   ],
   "source": [
    "X.head(5)"
   ]
  },
  {
   "cell_type": "code",
   "execution_count": 88,
   "metadata": {},
   "outputs": [
    {
     "data": {
      "text/html": [
       "<div>\n",
       "<style scoped>\n",
       "    .dataframe tbody tr th:only-of-type {\n",
       "        vertical-align: middle;\n",
       "    }\n",
       "\n",
       "    .dataframe tbody tr th {\n",
       "        vertical-align: top;\n",
       "    }\n",
       "\n",
       "    .dataframe thead th {\n",
       "        text-align: right;\n",
       "    }\n",
       "</style>\n",
       "<table border=\"1\" class=\"dataframe\">\n",
       "  <thead>\n",
       "    <tr style=\"text-align: right;\">\n",
       "      <th></th>\n",
       "      <th>Dummy_2</th>\n",
       "      <th>Dummy_3</th>\n",
       "      <th>Dummy_4</th>\n",
       "      <th>Dummy_5</th>\n",
       "      <th>Dummy_6</th>\n",
       "      <th>Dummy_7</th>\n",
       "      <th>Dummy_8</th>\n",
       "      <th>Dummy_9</th>\n",
       "      <th>Dummy_10</th>\n",
       "      <th>Dummy_11</th>\n",
       "      <th>...</th>\n",
       "      <th>41</th>\n",
       "      <th>42</th>\n",
       "      <th>43</th>\n",
       "      <th>44</th>\n",
       "      <th>45</th>\n",
       "      <th>46</th>\n",
       "      <th>47</th>\n",
       "      <th>48</th>\n",
       "      <th>49</th>\n",
       "      <th>Potential_Accident_Level</th>\n",
       "    </tr>\n",
       "  </thead>\n",
       "  <tbody>\n",
       "    <tr>\n",
       "      <th>307</th>\n",
       "      <td>0</td>\n",
       "      <td>0</td>\n",
       "      <td>0</td>\n",
       "      <td>0</td>\n",
       "      <td>0</td>\n",
       "      <td>0</td>\n",
       "      <td>0</td>\n",
       "      <td>0</td>\n",
       "      <td>0</td>\n",
       "      <td>0</td>\n",
       "      <td>...</td>\n",
       "      <td>-0.059074</td>\n",
       "      <td>-0.013663</td>\n",
       "      <td>0.171465</td>\n",
       "      <td>-0.002466</td>\n",
       "      <td>-0.185372</td>\n",
       "      <td>0.309941</td>\n",
       "      <td>-0.206034</td>\n",
       "      <td>0.011361</td>\n",
       "      <td>-0.265117</td>\n",
       "      <td>6</td>\n",
       "    </tr>\n",
       "  </tbody>\n",
       "</table>\n",
       "<p>1 rows × 143 columns</p>\n",
       "</div>"
      ],
      "text/plain": [
       "     Dummy_2  Dummy_3  Dummy_4  Dummy_5  Dummy_6  Dummy_7  Dummy_8  Dummy_9  \\\n",
       "307        0        0        0        0        0        0        0        0   \n",
       "\n",
       "     Dummy_10  Dummy_11  ...        41        42        43        44  \\\n",
       "307         0         0  ... -0.059074 -0.013663  0.171465 -0.002466   \n",
       "\n",
       "           45        46        47        48        49  \\\n",
       "307 -0.185372  0.309941 -0.206034  0.011361 -0.265117   \n",
       "\n",
       "     Potential_Accident_Level  \n",
       "307                         6  \n",
       "\n",
       "[1 rows x 143 columns]"
      ]
     },
     "execution_count": 88,
     "metadata": {},
     "output_type": "execute_result"
    }
   ],
   "source": [
    "K = pd.concat([X,y],axis=1)\n",
    "P=K[K['Potential_Accident_Level'] == 6]\n",
    "P"
   ]
  },
  {
   "cell_type": "code",
   "execution_count": 89,
   "metadata": {},
   "outputs": [
    {
     "data": {
      "text/html": [
       "<div>\n",
       "<style scoped>\n",
       "    .dataframe tbody tr th:only-of-type {\n",
       "        vertical-align: middle;\n",
       "    }\n",
       "\n",
       "    .dataframe tbody tr th {\n",
       "        vertical-align: top;\n",
       "    }\n",
       "\n",
       "    .dataframe thead th {\n",
       "        text-align: right;\n",
       "    }\n",
       "</style>\n",
       "<table border=\"1\" class=\"dataframe\">\n",
       "  <thead>\n",
       "    <tr style=\"text-align: right;\">\n",
       "      <th></th>\n",
       "      <th>Dummy_2</th>\n",
       "      <th>Dummy_3</th>\n",
       "      <th>Dummy_4</th>\n",
       "      <th>Dummy_5</th>\n",
       "      <th>Dummy_6</th>\n",
       "      <th>Dummy_7</th>\n",
       "      <th>Dummy_8</th>\n",
       "      <th>Dummy_9</th>\n",
       "      <th>Dummy_10</th>\n",
       "      <th>Dummy_11</th>\n",
       "      <th>...</th>\n",
       "      <th>41</th>\n",
       "      <th>42</th>\n",
       "      <th>43</th>\n",
       "      <th>44</th>\n",
       "      <th>45</th>\n",
       "      <th>46</th>\n",
       "      <th>47</th>\n",
       "      <th>48</th>\n",
       "      <th>49</th>\n",
       "      <th>Potential_Accident_Level</th>\n",
       "    </tr>\n",
       "  </thead>\n",
       "  <tbody>\n",
       "    <tr>\n",
       "      <th>0</th>\n",
       "      <td>0</td>\n",
       "      <td>0</td>\n",
       "      <td>0</td>\n",
       "      <td>0</td>\n",
       "      <td>0</td>\n",
       "      <td>0</td>\n",
       "      <td>0</td>\n",
       "      <td>0</td>\n",
       "      <td>0</td>\n",
       "      <td>0</td>\n",
       "      <td>...</td>\n",
       "      <td>0.008910</td>\n",
       "      <td>0.020527</td>\n",
       "      <td>0.192217</td>\n",
       "      <td>0.043438</td>\n",
       "      <td>-0.213376</td>\n",
       "      <td>0.258636</td>\n",
       "      <td>-0.000753</td>\n",
       "      <td>0.022364</td>\n",
       "      <td>-0.002002</td>\n",
       "      <td>4</td>\n",
       "    </tr>\n",
       "    <tr>\n",
       "      <th>1</th>\n",
       "      <td>1</td>\n",
       "      <td>0</td>\n",
       "      <td>0</td>\n",
       "      <td>0</td>\n",
       "      <td>0</td>\n",
       "      <td>0</td>\n",
       "      <td>0</td>\n",
       "      <td>0</td>\n",
       "      <td>0</td>\n",
       "      <td>0</td>\n",
       "      <td>...</td>\n",
       "      <td>0.053685</td>\n",
       "      <td>0.016166</td>\n",
       "      <td>-0.057668</td>\n",
       "      <td>0.119771</td>\n",
       "      <td>0.016885</td>\n",
       "      <td>0.026766</td>\n",
       "      <td>-0.051854</td>\n",
       "      <td>0.217533</td>\n",
       "      <td>-0.043537</td>\n",
       "      <td>4</td>\n",
       "    </tr>\n",
       "    <tr>\n",
       "      <th>2</th>\n",
       "      <td>0</td>\n",
       "      <td>0</td>\n",
       "      <td>0</td>\n",
       "      <td>0</td>\n",
       "      <td>1</td>\n",
       "      <td>0</td>\n",
       "      <td>0</td>\n",
       "      <td>0</td>\n",
       "      <td>0</td>\n",
       "      <td>0</td>\n",
       "      <td>...</td>\n",
       "      <td>0.059609</td>\n",
       "      <td>-0.053150</td>\n",
       "      <td>0.093275</td>\n",
       "      <td>0.135326</td>\n",
       "      <td>-0.172743</td>\n",
       "      <td>0.231328</td>\n",
       "      <td>-0.285187</td>\n",
       "      <td>-0.063133</td>\n",
       "      <td>-0.230613</td>\n",
       "      <td>3</td>\n",
       "    </tr>\n",
       "    <tr>\n",
       "      <th>3</th>\n",
       "      <td>0</td>\n",
       "      <td>0</td>\n",
       "      <td>0</td>\n",
       "      <td>0</td>\n",
       "      <td>0</td>\n",
       "      <td>0</td>\n",
       "      <td>1</td>\n",
       "      <td>0</td>\n",
       "      <td>0</td>\n",
       "      <td>0</td>\n",
       "      <td>...</td>\n",
       "      <td>0.046155</td>\n",
       "      <td>-0.109199</td>\n",
       "      <td>0.146955</td>\n",
       "      <td>-0.032561</td>\n",
       "      <td>-0.135152</td>\n",
       "      <td>0.289416</td>\n",
       "      <td>-0.078163</td>\n",
       "      <td>-0.054027</td>\n",
       "      <td>-0.167514</td>\n",
       "      <td>1</td>\n",
       "    </tr>\n",
       "    <tr>\n",
       "      <th>4</th>\n",
       "      <td>0</td>\n",
       "      <td>0</td>\n",
       "      <td>0</td>\n",
       "      <td>0</td>\n",
       "      <td>0</td>\n",
       "      <td>0</td>\n",
       "      <td>0</td>\n",
       "      <td>0</td>\n",
       "      <td>1</td>\n",
       "      <td>0</td>\n",
       "      <td>...</td>\n",
       "      <td>0.085033</td>\n",
       "      <td>0.027849</td>\n",
       "      <td>0.077702</td>\n",
       "      <td>-0.046608</td>\n",
       "      <td>-0.262838</td>\n",
       "      <td>0.214653</td>\n",
       "      <td>-0.311427</td>\n",
       "      <td>-0.086736</td>\n",
       "      <td>0.003946</td>\n",
       "      <td>4</td>\n",
       "    </tr>\n",
       "    <tr>\n",
       "      <th>...</th>\n",
       "      <td>...</td>\n",
       "      <td>...</td>\n",
       "      <td>...</td>\n",
       "      <td>...</td>\n",
       "      <td>...</td>\n",
       "      <td>...</td>\n",
       "      <td>...</td>\n",
       "      <td>...</td>\n",
       "      <td>...</td>\n",
       "      <td>...</td>\n",
       "      <td>...</td>\n",
       "      <td>...</td>\n",
       "      <td>...</td>\n",
       "      <td>...</td>\n",
       "      <td>...</td>\n",
       "      <td>...</td>\n",
       "      <td>...</td>\n",
       "      <td>...</td>\n",
       "      <td>...</td>\n",
       "      <td>...</td>\n",
       "      <td>...</td>\n",
       "    </tr>\n",
       "    <tr>\n",
       "      <th>430</th>\n",
       "      <td>0</td>\n",
       "      <td>0</td>\n",
       "      <td>0</td>\n",
       "      <td>0</td>\n",
       "      <td>0</td>\n",
       "      <td>0</td>\n",
       "      <td>0</td>\n",
       "      <td>0</td>\n",
       "      <td>0</td>\n",
       "      <td>0</td>\n",
       "      <td>...</td>\n",
       "      <td>-0.059074</td>\n",
       "      <td>-0.013663</td>\n",
       "      <td>0.171465</td>\n",
       "      <td>-0.002466</td>\n",
       "      <td>-0.185372</td>\n",
       "      <td>0.309941</td>\n",
       "      <td>-0.206034</td>\n",
       "      <td>0.011361</td>\n",
       "      <td>-0.265117</td>\n",
       "      <td>6</td>\n",
       "    </tr>\n",
       "    <tr>\n",
       "      <th>431</th>\n",
       "      <td>0</td>\n",
       "      <td>0</td>\n",
       "      <td>0</td>\n",
       "      <td>0</td>\n",
       "      <td>0</td>\n",
       "      <td>0</td>\n",
       "      <td>0</td>\n",
       "      <td>0</td>\n",
       "      <td>0</td>\n",
       "      <td>0</td>\n",
       "      <td>...</td>\n",
       "      <td>-0.059074</td>\n",
       "      <td>-0.013663</td>\n",
       "      <td>0.171465</td>\n",
       "      <td>-0.002466</td>\n",
       "      <td>-0.185372</td>\n",
       "      <td>0.309941</td>\n",
       "      <td>-0.206034</td>\n",
       "      <td>0.011361</td>\n",
       "      <td>-0.265117</td>\n",
       "      <td>6</td>\n",
       "    </tr>\n",
       "    <tr>\n",
       "      <th>432</th>\n",
       "      <td>0</td>\n",
       "      <td>0</td>\n",
       "      <td>0</td>\n",
       "      <td>0</td>\n",
       "      <td>0</td>\n",
       "      <td>0</td>\n",
       "      <td>0</td>\n",
       "      <td>0</td>\n",
       "      <td>0</td>\n",
       "      <td>0</td>\n",
       "      <td>...</td>\n",
       "      <td>-0.059074</td>\n",
       "      <td>-0.013663</td>\n",
       "      <td>0.171465</td>\n",
       "      <td>-0.002466</td>\n",
       "      <td>-0.185372</td>\n",
       "      <td>0.309941</td>\n",
       "      <td>-0.206034</td>\n",
       "      <td>0.011361</td>\n",
       "      <td>-0.265117</td>\n",
       "      <td>6</td>\n",
       "    </tr>\n",
       "    <tr>\n",
       "      <th>433</th>\n",
       "      <td>0</td>\n",
       "      <td>0</td>\n",
       "      <td>0</td>\n",
       "      <td>0</td>\n",
       "      <td>0</td>\n",
       "      <td>0</td>\n",
       "      <td>0</td>\n",
       "      <td>0</td>\n",
       "      <td>0</td>\n",
       "      <td>0</td>\n",
       "      <td>...</td>\n",
       "      <td>-0.059074</td>\n",
       "      <td>-0.013663</td>\n",
       "      <td>0.171465</td>\n",
       "      <td>-0.002466</td>\n",
       "      <td>-0.185372</td>\n",
       "      <td>0.309941</td>\n",
       "      <td>-0.206034</td>\n",
       "      <td>0.011361</td>\n",
       "      <td>-0.265117</td>\n",
       "      <td>6</td>\n",
       "    </tr>\n",
       "    <tr>\n",
       "      <th>434</th>\n",
       "      <td>0</td>\n",
       "      <td>0</td>\n",
       "      <td>0</td>\n",
       "      <td>0</td>\n",
       "      <td>0</td>\n",
       "      <td>0</td>\n",
       "      <td>0</td>\n",
       "      <td>0</td>\n",
       "      <td>0</td>\n",
       "      <td>0</td>\n",
       "      <td>...</td>\n",
       "      <td>-0.059074</td>\n",
       "      <td>-0.013663</td>\n",
       "      <td>0.171465</td>\n",
       "      <td>-0.002466</td>\n",
       "      <td>-0.185372</td>\n",
       "      <td>0.309941</td>\n",
       "      <td>-0.206034</td>\n",
       "      <td>0.011361</td>\n",
       "      <td>-0.265117</td>\n",
       "      <td>6</td>\n",
       "    </tr>\n",
       "  </tbody>\n",
       "</table>\n",
       "<p>435 rows × 143 columns</p>\n",
       "</div>"
      ],
      "text/plain": [
       "     Dummy_2  Dummy_3  Dummy_4  Dummy_5  Dummy_6  Dummy_7  Dummy_8  Dummy_9  \\\n",
       "0          0        0        0        0        0        0        0        0   \n",
       "1          1        0        0        0        0        0        0        0   \n",
       "2          0        0        0        0        1        0        0        0   \n",
       "3          0        0        0        0        0        0        1        0   \n",
       "4          0        0        0        0        0        0        0        0   \n",
       "..       ...      ...      ...      ...      ...      ...      ...      ...   \n",
       "430        0        0        0        0        0        0        0        0   \n",
       "431        0        0        0        0        0        0        0        0   \n",
       "432        0        0        0        0        0        0        0        0   \n",
       "433        0        0        0        0        0        0        0        0   \n",
       "434        0        0        0        0        0        0        0        0   \n",
       "\n",
       "     Dummy_10  Dummy_11  ...        41        42        43        44  \\\n",
       "0           0         0  ...  0.008910  0.020527  0.192217  0.043438   \n",
       "1           0         0  ...  0.053685  0.016166 -0.057668  0.119771   \n",
       "2           0         0  ...  0.059609 -0.053150  0.093275  0.135326   \n",
       "3           0         0  ...  0.046155 -0.109199  0.146955 -0.032561   \n",
       "4           1         0  ...  0.085033  0.027849  0.077702 -0.046608   \n",
       "..        ...       ...  ...       ...       ...       ...       ...   \n",
       "430         0         0  ... -0.059074 -0.013663  0.171465 -0.002466   \n",
       "431         0         0  ... -0.059074 -0.013663  0.171465 -0.002466   \n",
       "432         0         0  ... -0.059074 -0.013663  0.171465 -0.002466   \n",
       "433         0         0  ... -0.059074 -0.013663  0.171465 -0.002466   \n",
       "434         0         0  ... -0.059074 -0.013663  0.171465 -0.002466   \n",
       "\n",
       "           45        46        47        48        49  \\\n",
       "0   -0.213376  0.258636 -0.000753  0.022364 -0.002002   \n",
       "1    0.016885  0.026766 -0.051854  0.217533 -0.043537   \n",
       "2   -0.172743  0.231328 -0.285187 -0.063133 -0.230613   \n",
       "3   -0.135152  0.289416 -0.078163 -0.054027 -0.167514   \n",
       "4   -0.262838  0.214653 -0.311427 -0.086736  0.003946   \n",
       "..        ...       ...       ...       ...       ...   \n",
       "430 -0.185372  0.309941 -0.206034  0.011361 -0.265117   \n",
       "431 -0.185372  0.309941 -0.206034  0.011361 -0.265117   \n",
       "432 -0.185372  0.309941 -0.206034  0.011361 -0.265117   \n",
       "433 -0.185372  0.309941 -0.206034  0.011361 -0.265117   \n",
       "434 -0.185372  0.309941 -0.206034  0.011361 -0.265117   \n",
       "\n",
       "     Potential_Accident_Level  \n",
       "0                           4  \n",
       "1                           4  \n",
       "2                           3  \n",
       "3                           1  \n",
       "4                           4  \n",
       "..                        ...  \n",
       "430                         6  \n",
       "431                         6  \n",
       "432                         6  \n",
       "433                         6  \n",
       "434                         6  \n",
       "\n",
       "[435 rows x 143 columns]"
      ]
     },
     "execution_count": 89,
     "metadata": {},
     "output_type": "execute_result"
    }
   ],
   "source": [
    "J = K.append([P]*10,ignore_index=True)\n",
    "J\n"
   ]
  },
  {
   "cell_type": "code",
   "execution_count": 90,
   "metadata": {},
   "outputs": [
    {
     "data": {
      "text/plain": [
       "4    143\n",
       "3    106\n",
       "2     95\n",
       "1     49\n",
       "5     31\n",
       "6     11\n",
       "Name: Potential_Accident_Level, dtype: int64"
      ]
     },
     "execution_count": 90,
     "metadata": {},
     "output_type": "execute_result"
    }
   ],
   "source": [
    "J['Potential_Accident_Level'].value_counts()"
   ]
  },
  {
   "cell_type": "code",
   "execution_count": 91,
   "metadata": {},
   "outputs": [],
   "source": [
    "J.drop('Potential_Accident_Level',axis=1,inplace=True)"
   ]
  },
  {
   "cell_type": "code",
   "execution_count": 92,
   "metadata": {},
   "outputs": [],
   "source": [
    "X=J"
   ]
  },
  {
   "cell_type": "code",
   "execution_count": 93,
   "metadata": {},
   "outputs": [
    {
     "data": {
      "text/plain": [
       "(435, 142)"
      ]
     },
     "execution_count": 93,
     "metadata": {},
     "output_type": "execute_result"
    }
   ],
   "source": [
    "X.shape"
   ]
  },
  {
   "cell_type": "code",
   "execution_count": 94,
   "metadata": {},
   "outputs": [
    {
     "data": {
      "text/plain": [
       "425"
      ]
     },
     "execution_count": 94,
     "metadata": {},
     "output_type": "execute_result"
    }
   ],
   "source": [
    "Y=list(y)\n",
    "len(Y)"
   ]
  },
  {
   "cell_type": "code",
   "execution_count": 95,
   "metadata": {},
   "outputs": [],
   "source": [
    "Y.append(6)\n",
    "Y.append(6)\n",
    "Y.append(6)\n",
    "Y.append(6)\n",
    "Y.append(6)\n",
    "Y.append(6)\n",
    "Y.append(6)\n",
    "Y.append(6)\n",
    "Y.append(6)\n",
    "Y.append(6)"
   ]
  },
  {
   "cell_type": "code",
   "execution_count": 96,
   "metadata": {},
   "outputs": [
    {
     "data": {
      "text/plain": [
       "435"
      ]
     },
     "execution_count": 96,
     "metadata": {},
     "output_type": "execute_result"
    }
   ],
   "source": [
    "len(Y)"
   ]
  },
  {
   "cell_type": "code",
   "execution_count": 97,
   "metadata": {},
   "outputs": [],
   "source": [
    "y =np.array(Y)"
   ]
  },
  {
   "cell_type": "code",
   "execution_count": 98,
   "metadata": {},
   "outputs": [
    {
     "data": {
      "text/plain": [
       "Index([ 'Dummy_2',  'Dummy_3',  'Dummy_4',  'Dummy_5',  'Dummy_6',  'Dummy_7',\n",
       "        'Dummy_8',  'Dummy_9', 'Dummy_10', 'Dummy_11',\n",
       "       ...\n",
       "               40,         41,         42,         43,         44,         45,\n",
       "               46,         47,         48,         49],\n",
       "      dtype='object', length=142)"
      ]
     },
     "execution_count": 98,
     "metadata": {},
     "output_type": "execute_result"
    }
   ],
   "source": [
    "X.columns"
   ]
  },
  {
   "cell_type": "code",
   "execution_count": 99,
   "metadata": {},
   "outputs": [],
   "source": [
    "X_train, X_test, Y_train, Y_test = train_test_split(X,y, test_size = 0.20, random_state = 55)"
   ]
  },
  {
   "cell_type": "code",
   "execution_count": 100,
   "metadata": {},
   "outputs": [
    {
     "data": {
      "text/plain": [
       "4    119\n",
       "3     79\n",
       "2     77\n",
       "1     39\n",
       "5     25\n",
       "6      9\n",
       "Name: 0, dtype: int64"
      ]
     },
     "execution_count": 100,
     "metadata": {},
     "output_type": "execute_result"
    }
   ],
   "source": [
    "target1=pd.DataFrame(Y_train)\n",
    "target1[0].value_counts()"
   ]
  },
  {
   "cell_type": "markdown",
   "metadata": {},
   "source": [
    "##### Applying SMOTE for OverSampling of data."
   ]
  },
  {
   "cell_type": "code",
   "execution_count": 101,
   "metadata": {},
   "outputs": [],
   "source": [
    "from imblearn.over_sampling import SMOTE\n",
    "oversample = SMOTE()\n",
    "x_train,y_train = oversample.fit_resample(X_train.values, Y_train.ravel())"
   ]
  },
  {
   "cell_type": "code",
   "execution_count": 102,
   "metadata": {},
   "outputs": [
    {
     "data": {
      "text/plain": [
       "6    119\n",
       "5    119\n",
       "4    119\n",
       "3    119\n",
       "2    119\n",
       "1    119\n",
       "Name: 0, dtype: int64"
      ]
     },
     "execution_count": 102,
     "metadata": {},
     "output_type": "execute_result"
    }
   ],
   "source": [
    "target=pd.DataFrame(y_train)\n",
    "target[0].value_counts()"
   ]
  },
  {
   "cell_type": "markdown",
   "metadata": {},
   "source": [
    "#### Apply RandomForestClassifier using SMOTE"
   ]
  },
  {
   "cell_type": "code",
   "execution_count": 103,
   "metadata": {},
   "outputs": [
    {
     "data": {
      "text/plain": [
       "0.3563218390804598"
      ]
     },
     "execution_count": 103,
     "metadata": {},
     "output_type": "execute_result"
    }
   ],
   "source": [
    "rf2 =  RandomForestClassifier()\n",
    "rf2.fit(x_train,y_train)\n",
    "rf2.score(X_test,Y_test)"
   ]
  },
  {
   "cell_type": "code",
   "execution_count": 104,
   "metadata": {},
   "outputs": [
    {
     "name": "stdout",
     "output_type": "stream",
     "text": [
      "                          Model  accuracy\n",
      "0        RandomForestClassifier  0.400000\n",
      "1  RandomForestClassifier GloVe  0.445312\n",
      "2        DecisionTreeClassifier  0.421875\n",
      "3                   BernoulliNB  0.414062\n",
      "4             BaggingClassifier  0.406250\n",
      "5  RandomForestClassifier SMOTE  0.356322\n"
     ]
    }
   ],
   "source": [
    "get_accuracy('RandomForestClassifier SMOTE',rf2.score(X_test,Y_test))"
   ]
  },
  {
   "cell_type": "markdown",
   "metadata": {},
   "source": [
    "##### Apply DecisionTreeClassifier using SMOTE"
   ]
  },
  {
   "cell_type": "code",
   "execution_count": 105,
   "metadata": {},
   "outputs": [
    {
     "data": {
      "text/plain": [
       "0.3448275862068966"
      ]
     },
     "execution_count": 105,
     "metadata": {},
     "output_type": "execute_result"
    }
   ],
   "source": [
    "from sklearn.tree import DecisionTreeClassifier\n",
    "\n",
    "dtree1=DecisionTreeClassifier()\n",
    "dtree1.fit(x_train,y_train)\n",
    "dtree1.score(X_test,Y_test)"
   ]
  },
  {
   "cell_type": "code",
   "execution_count": 106,
   "metadata": {},
   "outputs": [
    {
     "name": "stdout",
     "output_type": "stream",
     "text": [
      "                          Model  accuracy\n",
      "0        RandomForestClassifier  0.400000\n",
      "1  RandomForestClassifier GloVe  0.445312\n",
      "2        DecisionTreeClassifier  0.421875\n",
      "3                   BernoulliNB  0.414062\n",
      "4             BaggingClassifier  0.406250\n",
      "5  RandomForestClassifier SMOTE  0.356322\n",
      "6  DecisionTreeClassifier SMOTE  0.344828\n"
     ]
    }
   ],
   "source": [
    "get_accuracy('DecisionTreeClassifier SMOTE',dtree1.score(X_test,Y_test))"
   ]
  },
  {
   "cell_type": "markdown",
   "metadata": {},
   "source": [
    "##### Apply SGDClassifier model using SMOTE"
   ]
  },
  {
   "cell_type": "code",
   "execution_count": 107,
   "metadata": {},
   "outputs": [
    {
     "data": {
      "text/plain": [
       "0.3333333333333333"
      ]
     },
     "execution_count": 107,
     "metadata": {},
     "output_type": "execute_result"
    }
   ],
   "source": [
    "from sklearn.linear_model import SGDClassifier\n",
    "abc = SGDClassifier()\n",
    "abc.fit(x_train,y_train)\n",
    "abc.score(X_test,Y_test)"
   ]
  },
  {
   "cell_type": "code",
   "execution_count": 108,
   "metadata": {},
   "outputs": [
    {
     "name": "stdout",
     "output_type": "stream",
     "text": [
      "                          Model  accuracy\n",
      "0        RandomForestClassifier  0.400000\n",
      "1  RandomForestClassifier GloVe  0.445312\n",
      "2        DecisionTreeClassifier  0.421875\n",
      "3                   BernoulliNB  0.414062\n",
      "4             BaggingClassifier  0.406250\n",
      "5  RandomForestClassifier SMOTE  0.356322\n",
      "6  DecisionTreeClassifier SMOTE  0.344828\n",
      "7           SGDClassifier SMOTE  0.333333\n"
     ]
    }
   ],
   "source": [
    "get_accuracy('SGDClassifier SMOTE',abc.score(X_test,Y_test))"
   ]
  },
  {
   "cell_type": "markdown",
   "metadata": {},
   "source": [
    "#### Apply BernoulliNB using SMOTE"
   ]
  },
  {
   "cell_type": "code",
   "execution_count": 109,
   "metadata": {},
   "outputs": [
    {
     "name": "stdout",
     "output_type": "stream",
     "text": [
      "0.47126436781609193\n"
     ]
    }
   ],
   "source": [
    "from sklearn.naive_bayes import BernoulliNB\n",
    "from sklearn.metrics import accuracy_score\n",
    "clf = BernoulliNB()\n",
    "clf.fit(x_train,y_train)\n",
    "pred = clf.predict(X_test)\n",
    "print(accuracy_score(Y_test, pred))"
   ]
  },
  {
   "cell_type": "code",
   "execution_count": 110,
   "metadata": {},
   "outputs": [
    {
     "name": "stdout",
     "output_type": "stream",
     "text": [
      "                          Model  accuracy\n",
      "0        RandomForestClassifier  0.400000\n",
      "1  RandomForestClassifier GloVe  0.445312\n",
      "2        DecisionTreeClassifier  0.421875\n",
      "3                   BernoulliNB  0.414062\n",
      "4             BaggingClassifier  0.406250\n",
      "5  RandomForestClassifier SMOTE  0.356322\n",
      "6  DecisionTreeClassifier SMOTE  0.344828\n",
      "7           SGDClassifier SMOTE  0.333333\n",
      "8             BernoulliNB SMOTE  0.471264\n"
     ]
    }
   ],
   "source": [
    "get_accuracy('BernoulliNB SMOTE',accuracy_score(Y_test, pred))"
   ]
  },
  {
   "cell_type": "markdown",
   "metadata": {},
   "source": [
    "#### Apply BaggingClassifier using SMOTE\n"
   ]
  },
  {
   "cell_type": "code",
   "execution_count": 111,
   "metadata": {},
   "outputs": [
    {
     "data": {
      "text/plain": [
       "0.3563218390804598"
      ]
     },
     "execution_count": 111,
     "metadata": {},
     "output_type": "execute_result"
    }
   ],
   "source": [
    "from sklearn.ensemble import BaggingClassifier\n",
    "bgcl1=BaggingClassifier()\n",
    "bgcl1.fit(x_train,y_train)\n",
    "bgcl1.score(X_test,Y_test)"
   ]
  },
  {
   "cell_type": "code",
   "execution_count": 112,
   "metadata": {},
   "outputs": [
    {
     "name": "stdout",
     "output_type": "stream",
     "text": [
      "                          Model  accuracy\n",
      "0        RandomForestClassifier  0.400000\n",
      "1  RandomForestClassifier GloVe  0.445312\n",
      "2        DecisionTreeClassifier  0.421875\n",
      "3                   BernoulliNB  0.414062\n",
      "4             BaggingClassifier  0.406250\n",
      "5  RandomForestClassifier SMOTE  0.356322\n",
      "6  DecisionTreeClassifier SMOTE  0.344828\n",
      "7           SGDClassifier SMOTE  0.333333\n",
      "8             BernoulliNB SMOTE  0.471264\n",
      "9       BaggingClassifier SMOTE  0.356322\n"
     ]
    }
   ],
   "source": [
    "get_accuracy('BaggingClassifier SMOTE',bgcl1.score(X_test,Y_test))"
   ]
  },
  {
   "cell_type": "code",
   "execution_count": 113,
   "metadata": {},
   "outputs": [
    {
     "name": "stdout",
     "output_type": "stream",
     "text": [
      "              precision    recall  f1-score   support\n",
      "\n",
      "           1       0.50      0.60      0.55        10\n",
      "           2       0.30      0.33      0.32        18\n",
      "           3       0.37      0.26      0.30        27\n",
      "           4       0.30      0.29      0.30        24\n",
      "           5       0.33      0.50      0.40         6\n",
      "           6       0.50      1.00      0.67         2\n",
      "\n",
      "    accuracy                           0.36        87\n",
      "   macro avg       0.38      0.50      0.42        87\n",
      "weighted avg       0.35      0.36      0.35        87\n",
      "\n"
     ]
    }
   ],
   "source": [
    "pred = bgcl1.predict(X_test)\n",
    "print(classification_report(Y_test, pred))"
   ]
  },
  {
   "cell_type": "markdown",
   "metadata": {},
   "source": [
    "# Neural Network"
   ]
  },
  {
   "cell_type": "code",
   "execution_count": 114,
   "metadata": {},
   "outputs": [],
   "source": [
    "import keras\n",
    "from keras.models import Sequential\n",
    "from keras.layers import Dense"
   ]
  },
  {
   "cell_type": "code",
   "execution_count": 115,
   "metadata": {},
   "outputs": [],
   "source": [
    "classifier = Sequential()\n",
    "\n",
    "# Adding the input layer and the first hidden layer\n",
    "classifier.add(Dense(units = 100, kernel_initializer = 'uniform', activation = 'relu', input_dim = 142))\n",
    "\n",
    "# Adding the second hidden layer\n",
    "classifier.add(Dense(units = 200, kernel_initializer = 'uniform', activation = 'relu'))\n",
    "\n",
    "# Adding the second hidden layer\n",
    "classifier.add(Dense(units = 50, kernel_initializer = 'uniform', activation = 'relu'))\n",
    "\n",
    "# Adding the output layer\n",
    "classifier.add(Dense(units = 6, kernel_initializer = 'uniform', activation = 'softmax'))"
   ]
  },
  {
   "cell_type": "code",
   "execution_count": 116,
   "metadata": {},
   "outputs": [],
   "source": [
    "train_y = pd.get_dummies(y_train).values"
   ]
  },
  {
   "cell_type": "code",
   "execution_count": 117,
   "metadata": {},
   "outputs": [],
   "source": [
    "classifier.compile(optimizer = 'rmsprop', loss = 'categorical_crossentropy', metrics = ['accuracy'])"
   ]
  },
  {
   "cell_type": "code",
   "execution_count": 118,
   "metadata": {},
   "outputs": [
    {
     "name": "stdout",
     "output_type": "stream",
     "text": [
      "Epoch 1/50\n",
      "36/36 [==============================] - 1s 1ms/step - loss: 1.7169 - accuracy: 0.3234\n",
      "Epoch 2/50\n",
      "36/36 [==============================] - 0s 1ms/step - loss: 1.1672 - accuracy: 0.4864\n",
      "Epoch 3/50\n",
      "36/36 [==============================] - 0s 1ms/step - loss: 1.0464 - accuracy: 0.5514\n",
      "Epoch 4/50\n",
      "36/36 [==============================] - 0s 1ms/step - loss: 0.8964 - accuracy: 0.6254\n",
      "Epoch 5/50\n",
      "36/36 [==============================] - 0s 1ms/step - loss: 0.7986 - accuracy: 0.6620\n",
      "Epoch 6/50\n",
      "36/36 [==============================] - 0s 960us/step - loss: 0.7184 - accuracy: 0.6935\n",
      "Epoch 7/50\n",
      "36/36 [==============================] - 0s 1ms/step - loss: 0.6683 - accuracy: 0.7359\n",
      "Epoch 8/50\n",
      "36/36 [==============================] - 0s 1ms/step - loss: 0.6409 - accuracy: 0.7317\n",
      "Epoch 9/50\n",
      "36/36 [==============================] - 0s 1ms/step - loss: 0.6022 - accuracy: 0.7527\n",
      "Epoch 10/50\n",
      "36/36 [==============================] - 0s 1ms/step - loss: 0.6102 - accuracy: 0.7440\n",
      "Epoch 11/50\n",
      "36/36 [==============================] - 0s 1ms/step - loss: 0.5255 - accuracy: 0.7864\n",
      "Epoch 12/50\n",
      "36/36 [==============================] - 0s 1ms/step - loss: 0.5202 - accuracy: 0.7894\n",
      "Epoch 13/50\n",
      "36/36 [==============================] - 0s 1ms/step - loss: 0.4790 - accuracy: 0.8062\n",
      "Epoch 14/50\n",
      "36/36 [==============================] - 0s 1ms/step - loss: 0.5367 - accuracy: 0.7619\n",
      "Epoch 15/50\n",
      "36/36 [==============================] - 0s 1ms/step - loss: 0.4488 - accuracy: 0.7994\n",
      "Epoch 16/50\n",
      "36/36 [==============================] - 0s 1ms/step - loss: 0.4362 - accuracy: 0.8167\n",
      "Epoch 17/50\n",
      "36/36 [==============================] - 0s 1ms/step - loss: 0.3792 - accuracy: 0.8327\n",
      "Epoch 18/50\n",
      "36/36 [==============================] - 0s 1ms/step - loss: 0.3901 - accuracy: 0.8208\n",
      "Epoch 19/50\n",
      "36/36 [==============================] - 0s 1ms/step - loss: 0.3124 - accuracy: 0.8639\n",
      "Epoch 20/50\n",
      "36/36 [==============================] - 0s 1ms/step - loss: 0.3308 - accuracy: 0.8664\n",
      "Epoch 21/50\n",
      "36/36 [==============================] - 0s 1ms/step - loss: 0.3324 - accuracy: 0.8799\n",
      "Epoch 22/50\n",
      "36/36 [==============================] - 0s 751us/step - loss: 0.3176 - accuracy: 0.8916\n",
      "Epoch 23/50\n",
      "36/36 [==============================] - 0s 943us/step - loss: 0.2829 - accuracy: 0.8874\n",
      "Epoch 24/50\n",
      "36/36 [==============================] - 0s 1ms/step - loss: 0.2562 - accuracy: 0.8961\n",
      "Epoch 25/50\n",
      "36/36 [==============================] - 0s 1ms/step - loss: 0.2429 - accuracy: 0.9076\n",
      "Epoch 26/50\n",
      "36/36 [==============================] - 0s 1ms/step - loss: 0.2482 - accuracy: 0.8989\n",
      "Epoch 27/50\n",
      "36/36 [==============================] - 0s 1ms/step - loss: 0.2519 - accuracy: 0.9002\n",
      "Epoch 28/50\n",
      "36/36 [==============================] - 0s 1ms/step - loss: 0.1998 - accuracy: 0.9171\n",
      "Epoch 29/50\n",
      "36/36 [==============================] - 0s 1ms/step - loss: 0.2329 - accuracy: 0.9100\n",
      "Epoch 30/50\n",
      "36/36 [==============================] - 0s 1ms/step - loss: 0.2026 - accuracy: 0.9218\n",
      "Epoch 31/50\n",
      "36/36 [==============================] - 0s 1ms/step - loss: 0.1722 - accuracy: 0.9370\n",
      "Epoch 32/50\n",
      "36/36 [==============================] - 0s 1ms/step - loss: 0.1564 - accuracy: 0.9450\n",
      "Epoch 33/50\n",
      "36/36 [==============================] - 0s 1ms/step - loss: 0.1670 - accuracy: 0.9393\n",
      "Epoch 34/50\n",
      "36/36 [==============================] - 0s 1ms/step - loss: 0.1061 - accuracy: 0.9691\n",
      "Epoch 35/50\n",
      "36/36 [==============================] - 0s 1ms/step - loss: 0.1359 - accuracy: 0.9505\n",
      "Epoch 36/50\n",
      "36/36 [==============================] - 0s 1ms/step - loss: 0.1510 - accuracy: 0.9445\n",
      "Epoch 37/50\n",
      "36/36 [==============================] - 0s 1ms/step - loss: 0.1085 - accuracy: 0.9618\n",
      "Epoch 38/50\n",
      "36/36 [==============================] - 0s 1ms/step - loss: 0.1029 - accuracy: 0.9659\n",
      "Epoch 39/50\n",
      "36/36 [==============================] - 0s 1ms/step - loss: 0.0896 - accuracy: 0.9749\n",
      "Epoch 40/50\n",
      "36/36 [==============================] - 0s 1ms/step - loss: 0.1055 - accuracy: 0.9492\n",
      "Epoch 41/50\n",
      "36/36 [==============================] - 0s 1ms/step - loss: 0.0741 - accuracy: 0.9698\n",
      "Epoch 42/50\n",
      "36/36 [==============================] - 0s 1ms/step - loss: 0.0667 - accuracy: 0.9783\n",
      "Epoch 43/50\n",
      "36/36 [==============================] - 0s 1ms/step - loss: 0.0535 - accuracy: 0.9808\n",
      "Epoch 44/50\n",
      "36/36 [==============================] - 0s 1ms/step - loss: 0.0518 - accuracy: 0.9917\n",
      "Epoch 45/50\n",
      "36/36 [==============================] - 0s 1ms/step - loss: 0.0585 - accuracy: 0.9823\n",
      "Epoch 46/50\n",
      "36/36 [==============================] - 0s 822us/step - loss: 0.0388 - accuracy: 0.9884\n",
      "Epoch 47/50\n",
      "36/36 [==============================] - 0s 756us/step - loss: 0.0250 - accuracy: 0.9967\n",
      "Epoch 48/50\n",
      "36/36 [==============================] - 0s 786us/step - loss: 0.0264 - accuracy: 0.9971\n",
      "Epoch 49/50\n",
      "36/36 [==============================] - 0s 777us/step - loss: 0.0379 - accuracy: 0.9901\n",
      "Epoch 50/50\n",
      "36/36 [==============================] - 0s 779us/step - loss: 0.0315 - accuracy: 0.9838\n"
     ]
    },
    {
     "data": {
      "text/plain": [
       "<tensorflow.python.keras.callbacks.History at 0x7ff4994a6950>"
      ]
     },
     "execution_count": 118,
     "metadata": {},
     "output_type": "execute_result"
    }
   ],
   "source": [
    "batch_size = 20\n",
    "classifier.fit(x_train, train_y, epochs = 50, batch_size=batch_size, verbose = 1)"
   ]
  },
  {
   "cell_type": "code",
   "execution_count": 119,
   "metadata": {},
   "outputs": [],
   "source": [
    "y_pred = classifier.predict(X_test)"
   ]
  },
  {
   "cell_type": "code",
   "execution_count": 120,
   "metadata": {},
   "outputs": [
    {
     "name": "stdout",
     "output_type": "stream",
     "text": [
      "3/3 [==============================] - 0s 1ms/step - loss: 0.2970 - accuracy: 1.0000\n"
     ]
    }
   ],
   "source": [
    "x,_=classifier.evaluate(X_test,y_pred)"
   ]
  },
  {
   "cell_type": "code",
   "execution_count": 121,
   "metadata": {},
   "outputs": [
    {
     "name": "stdout",
     "output_type": "stream",
     "text": [
      "                           Model  accuracy\n",
      "0         RandomForestClassifier  0.400000\n",
      "1   RandomForestClassifier GloVe  0.445312\n",
      "2         DecisionTreeClassifier  0.421875\n",
      "3                    BernoulliNB  0.414062\n",
      "4              BaggingClassifier  0.406250\n",
      "5   RandomForestClassifier SMOTE  0.356322\n",
      "6   DecisionTreeClassifier SMOTE  0.344828\n",
      "7            SGDClassifier SMOTE  0.333333\n",
      "8              BernoulliNB SMOTE  0.471264\n",
      "9        BaggingClassifier SMOTE  0.356322\n",
      "10                Neural Network  0.297043\n"
     ]
    }
   ],
   "source": [
    "get_accuracy('Neural Network',x)"
   ]
  },
  {
   "cell_type": "code",
   "execution_count": 122,
   "metadata": {},
   "outputs": [
    {
     "name": "stdout",
     "output_type": "stream",
     "text": [
      "              precision    recall  f1-score   support\n",
      "\n",
      "           0       0.00      0.00      0.00         0\n",
      "           1       0.10      0.20      0.13        10\n",
      "           2       0.36      0.50      0.42        18\n",
      "           3       0.33      0.30      0.31        27\n",
      "           4       0.17      0.04      0.07        24\n",
      "           5       0.00      0.00      0.00         6\n",
      "           6       0.00      0.00      0.00         2\n",
      "\n",
      "    accuracy                           0.23        87\n",
      "   macro avg       0.14      0.15      0.13        87\n",
      "weighted avg       0.24      0.23      0.22        87\n",
      "\n"
     ]
    },
    {
     "name": "stderr",
     "output_type": "stream",
     "text": [
      "/Users/nebula/opt/anaconda3/lib/python3.7/site-packages/sklearn/metrics/_classification.py:1221: UndefinedMetricWarning: Precision and F-score are ill-defined and being set to 0.0 in labels with no predicted samples. Use `zero_division` parameter to control this behavior.\n",
      "  _warn_prf(average, modifier, msg_start, len(result))\n",
      "/Users/nebula/opt/anaconda3/lib/python3.7/site-packages/sklearn/metrics/_classification.py:1221: UndefinedMetricWarning: Recall and F-score are ill-defined and being set to 0.0 in labels with no true samples. Use `zero_division` parameter to control this behavior.\n",
      "  _warn_prf(average, modifier, msg_start, len(result))\n"
     ]
    }
   ],
   "source": [
    "print(classification_report(Y_test, y_pred.argmax(axis=1)))"
   ]
  },
  {
   "cell_type": "code",
   "execution_count": 123,
   "metadata": {},
   "outputs": [
    {
     "data": {
      "text/html": [
       "<div>\n",
       "<style scoped>\n",
       "    .dataframe tbody tr th:only-of-type {\n",
       "        vertical-align: middle;\n",
       "    }\n",
       "\n",
       "    .dataframe tbody tr th {\n",
       "        vertical-align: top;\n",
       "    }\n",
       "\n",
       "    .dataframe thead th {\n",
       "        text-align: right;\n",
       "    }\n",
       "</style>\n",
       "<table border=\"1\" class=\"dataframe\">\n",
       "  <thead>\n",
       "    <tr style=\"text-align: right;\">\n",
       "      <th></th>\n",
       "      <th>Model</th>\n",
       "      <th>accuracy</th>\n",
       "    </tr>\n",
       "  </thead>\n",
       "  <tbody>\n",
       "    <tr>\n",
       "      <th>0</th>\n",
       "      <td>RandomForestClassifier</td>\n",
       "      <td>0.400000</td>\n",
       "    </tr>\n",
       "    <tr>\n",
       "      <th>1</th>\n",
       "      <td>RandomForestClassifier GloVe</td>\n",
       "      <td>0.445312</td>\n",
       "    </tr>\n",
       "    <tr>\n",
       "      <th>2</th>\n",
       "      <td>DecisionTreeClassifier</td>\n",
       "      <td>0.421875</td>\n",
       "    </tr>\n",
       "    <tr>\n",
       "      <th>3</th>\n",
       "      <td>BernoulliNB</td>\n",
       "      <td>0.414062</td>\n",
       "    </tr>\n",
       "    <tr>\n",
       "      <th>4</th>\n",
       "      <td>BaggingClassifier</td>\n",
       "      <td>0.406250</td>\n",
       "    </tr>\n",
       "    <tr>\n",
       "      <th>5</th>\n",
       "      <td>RandomForestClassifier SMOTE</td>\n",
       "      <td>0.356322</td>\n",
       "    </tr>\n",
       "    <tr>\n",
       "      <th>6</th>\n",
       "      <td>DecisionTreeClassifier SMOTE</td>\n",
       "      <td>0.344828</td>\n",
       "    </tr>\n",
       "    <tr>\n",
       "      <th>7</th>\n",
       "      <td>SGDClassifier SMOTE</td>\n",
       "      <td>0.333333</td>\n",
       "    </tr>\n",
       "    <tr>\n",
       "      <th>8</th>\n",
       "      <td>BernoulliNB SMOTE</td>\n",
       "      <td>0.471264</td>\n",
       "    </tr>\n",
       "    <tr>\n",
       "      <th>9</th>\n",
       "      <td>BaggingClassifier SMOTE</td>\n",
       "      <td>0.356322</td>\n",
       "    </tr>\n",
       "    <tr>\n",
       "      <th>10</th>\n",
       "      <td>Neural Network</td>\n",
       "      <td>0.297043</td>\n",
       "    </tr>\n",
       "  </tbody>\n",
       "</table>\n",
       "</div>"
      ],
      "text/plain": [
       "                           Model  accuracy\n",
       "0         RandomForestClassifier  0.400000\n",
       "1   RandomForestClassifier GloVe  0.445312\n",
       "2         DecisionTreeClassifier  0.421875\n",
       "3                    BernoulliNB  0.414062\n",
       "4              BaggingClassifier  0.406250\n",
       "5   RandomForestClassifier SMOTE  0.356322\n",
       "6   DecisionTreeClassifier SMOTE  0.344828\n",
       "7            SGDClassifier SMOTE  0.333333\n",
       "8              BernoulliNB SMOTE  0.471264\n",
       "9        BaggingClassifier SMOTE  0.356322\n",
       "10                Neural Network  0.297043"
      ]
     },
     "execution_count": 123,
     "metadata": {},
     "output_type": "execute_result"
    }
   ],
   "source": [
    "t"
   ]
  },
  {
   "cell_type": "markdown",
   "metadata": {},
   "source": [
    "#### Tunning the Neural Network Model."
   ]
  },
  {
   "cell_type": "code",
   "execution_count": 124,
   "metadata": {},
   "outputs": [],
   "source": [
    "from tensorflow.keras import regularizers\n",
    "from keras.layers import BatchNormalization, Dropout\n",
    "from tensorflow.keras.layers import Activation\n",
    "from tensorflow.keras import optimizers\n",
    "def mlp_model():\n",
    "  model = Sequential()\n",
    "\n",
    "  model.add(Dense(256, input_dim=142, kernel_initializer='he_normal'))\n",
    "  model.add(BatchNormalization())\n",
    "  model.add(Activation('relu'))\n",
    "  model.add(Dropout(0.2))\n",
    "  model.add(Dense(256, kernel_initializer='he_normal'))\n",
    "  model.add(BatchNormalization())\n",
    "  model.add(Activation('relu'))\n",
    "  model.add(Dropout(0.2))\n",
    "  model.add(Dense(256, kernel_initializer='he_normal'))\n",
    "  model.add(BatchNormalization())\n",
    "  model.add(Activation('relu'))\n",
    "  model.add(Dropout(0.2))\n",
    "  model.add(Dense(256, kernel_initializer='he_normal'))\n",
    "  model.add(BatchNormalization())\n",
    "  model.add(Activation('relu'))\n",
    "  model.add(Dropout(0.2))\n",
    "  model.add(Dense(6, kernel_initializer='he_normal',kernel_regularizer = regularizers.l2(0.0005650011028133052)))\n",
    "  model.add(Activation('softmax'))\n",
    "\n",
    "  adam = optimizers.Adam(lr =0.01714453879813377)\n",
    "  model.compile(optimizer = adam, loss = 'categorical_crossentropy', metrics = ['accuracy'])\n",
    "  \n",
    "  return model"
   ]
  },
  {
   "cell_type": "code",
   "execution_count": 125,
   "metadata": {},
   "outputs": [
    {
     "name": "stdout",
     "output_type": "stream",
     "text": [
      "Model: \"sequential_1\"\n",
      "_________________________________________________________________\n",
      "Layer (type)                 Output Shape              Param #   \n",
      "=================================================================\n",
      "dense_4 (Dense)              (None, 256)               36608     \n",
      "_________________________________________________________________\n",
      "batch_normalization (BatchNo (None, 256)               1024      \n",
      "_________________________________________________________________\n",
      "activation (Activation)      (None, 256)               0         \n",
      "_________________________________________________________________\n",
      "dropout (Dropout)            (None, 256)               0         \n",
      "_________________________________________________________________\n",
      "dense_5 (Dense)              (None, 256)               65792     \n",
      "_________________________________________________________________\n",
      "batch_normalization_1 (Batch (None, 256)               1024      \n",
      "_________________________________________________________________\n",
      "activation_1 (Activation)    (None, 256)               0         \n",
      "_________________________________________________________________\n",
      "dropout_1 (Dropout)          (None, 256)               0         \n",
      "_________________________________________________________________\n",
      "dense_6 (Dense)              (None, 256)               65792     \n",
      "_________________________________________________________________\n",
      "batch_normalization_2 (Batch (None, 256)               1024      \n",
      "_________________________________________________________________\n",
      "activation_2 (Activation)    (None, 256)               0         \n",
      "_________________________________________________________________\n",
      "dropout_2 (Dropout)          (None, 256)               0         \n",
      "_________________________________________________________________\n",
      "dense_7 (Dense)              (None, 256)               65792     \n",
      "_________________________________________________________________\n",
      "batch_normalization_3 (Batch (None, 256)               1024      \n",
      "_________________________________________________________________\n",
      "activation_3 (Activation)    (None, 256)               0         \n",
      "_________________________________________________________________\n",
      "dropout_3 (Dropout)          (None, 256)               0         \n",
      "_________________________________________________________________\n",
      "dense_8 (Dense)              (None, 6)                 1542      \n",
      "_________________________________________________________________\n",
      "activation_4 (Activation)    (None, 6)                 0         \n",
      "=================================================================\n",
      "Total params: 239,622\n",
      "Trainable params: 237,574\n",
      "Non-trainable params: 2,048\n",
      "_________________________________________________________________\n"
     ]
    }
   ],
   "source": [
    "model = mlp_model()\n",
    "model.summary()"
   ]
  },
  {
   "cell_type": "code",
   "execution_count": 126,
   "metadata": {},
   "outputs": [
    {
     "name": "stdout",
     "output_type": "stream",
     "text": [
      "Epoch 1/100\n",
      "23/23 [==============================] - 1s 3ms/step - loss: 1.6804 - accuracy: 0.4365\n",
      "Epoch 2/100\n",
      "23/23 [==============================] - 0s 3ms/step - loss: 0.7845 - accuracy: 0.6664\n",
      "Epoch 3/100\n",
      "23/23 [==============================] - 0s 3ms/step - loss: 0.6009 - accuracy: 0.7633\n",
      "Epoch 4/100\n",
      "23/23 [==============================] - 0s 2ms/step - loss: 0.4615 - accuracy: 0.8062\n",
      "Epoch 5/100\n",
      "23/23 [==============================] - 0s 2ms/step - loss: 0.5038 - accuracy: 0.8449\n",
      "Epoch 6/100\n",
      "23/23 [==============================] - 0s 2ms/step - loss: 0.3246 - accuracy: 0.9160\n",
      "Epoch 7/100\n",
      "23/23 [==============================] - 0s 2ms/step - loss: 0.3921 - accuracy: 0.8859\n",
      "Epoch 8/100\n",
      "23/23 [==============================] - 0s 2ms/step - loss: 0.2225 - accuracy: 0.9182\n",
      "Epoch 9/100\n",
      "23/23 [==============================] - 0s 2ms/step - loss: 0.2053 - accuracy: 0.9365\n",
      "Epoch 10/100\n",
      "23/23 [==============================] - 0s 2ms/step - loss: 0.2796 - accuracy: 0.9085\n",
      "Epoch 11/100\n",
      "23/23 [==============================] - 0s 3ms/step - loss: 0.2786 - accuracy: 0.9140\n",
      "Epoch 12/100\n",
      "23/23 [==============================] - 0s 2ms/step - loss: 0.1897 - accuracy: 0.9430\n",
      "Epoch 13/100\n",
      "23/23 [==============================] - 0s 3ms/step - loss: 0.1413 - accuracy: 0.9599\n",
      "Epoch 14/100\n",
      "23/23 [==============================] - 0s 3ms/step - loss: 0.1513 - accuracy: 0.9510\n",
      "Epoch 15/100\n",
      "23/23 [==============================] - 0s 3ms/step - loss: 0.1091 - accuracy: 0.9710\n",
      "Epoch 16/100\n",
      "23/23 [==============================] - 0s 3ms/step - loss: 0.1477 - accuracy: 0.9592\n",
      "Epoch 17/100\n",
      "23/23 [==============================] - 0s 3ms/step - loss: 0.1466 - accuracy: 0.9670\n",
      "Epoch 18/100\n",
      "23/23 [==============================] - 0s 2ms/step - loss: 0.2348 - accuracy: 0.9295\n",
      "Epoch 19/100\n",
      "23/23 [==============================] - 0s 2ms/step - loss: 0.0987 - accuracy: 0.9772\n",
      "Epoch 20/100\n",
      "23/23 [==============================] - 0s 2ms/step - loss: 0.2125 - accuracy: 0.9559\n",
      "Epoch 21/100\n",
      "23/23 [==============================] - 0s 2ms/step - loss: 0.1183 - accuracy: 0.9574\n",
      "Epoch 22/100\n",
      "23/23 [==============================] - 0s 2ms/step - loss: 0.1379 - accuracy: 0.9692\n",
      "Epoch 23/100\n",
      "23/23 [==============================] - 0s 2ms/step - loss: 0.1292 - accuracy: 0.9674\n",
      "Epoch 24/100\n",
      "23/23 [==============================] - 0s 3ms/step - loss: 0.0714 - accuracy: 0.9853\n",
      "Epoch 25/100\n",
      "23/23 [==============================] - 0s 2ms/step - loss: 0.0724 - accuracy: 0.9773\n",
      "Epoch 26/100\n",
      "23/23 [==============================] - 0s 3ms/step - loss: 0.1945 - accuracy: 0.9729\n",
      "Epoch 27/100\n",
      "23/23 [==============================] - 0s 3ms/step - loss: 0.1519 - accuracy: 0.9626\n",
      "Epoch 28/100\n",
      "23/23 [==============================] - 0s 3ms/step - loss: 0.1742 - accuracy: 0.9575\n",
      "Epoch 29/100\n",
      "23/23 [==============================] - 0s 4ms/step - loss: 0.1602 - accuracy: 0.9488\n",
      "Epoch 30/100\n",
      "23/23 [==============================] - 0s 3ms/step - loss: 0.1144 - accuracy: 0.9651\n",
      "Epoch 31/100\n",
      "23/23 [==============================] - 0s 3ms/step - loss: 0.0749 - accuracy: 0.9836\n",
      "Epoch 32/100\n",
      "23/23 [==============================] - 0s 3ms/step - loss: 0.0937 - accuracy: 0.9750\n",
      "Epoch 33/100\n",
      "23/23 [==============================] - 0s 3ms/step - loss: 0.1146 - accuracy: 0.9727\n",
      "Epoch 34/100\n",
      "23/23 [==============================] - 0s 3ms/step - loss: 0.1482 - accuracy: 0.9498\n",
      "Epoch 35/100\n",
      "23/23 [==============================] - 0s 3ms/step - loss: 0.0818 - accuracy: 0.9793\n",
      "Epoch 36/100\n",
      "23/23 [==============================] - 0s 3ms/step - loss: 0.0621 - accuracy: 0.9860\n",
      "Epoch 37/100\n",
      "23/23 [==============================] - 0s 2ms/step - loss: 0.0619 - accuracy: 0.9851\n",
      "Epoch 38/100\n",
      "23/23 [==============================] - 0s 3ms/step - loss: 0.0582 - accuracy: 0.9858\n",
      "Epoch 39/100\n",
      "23/23 [==============================] - 0s 2ms/step - loss: 0.0931 - accuracy: 0.9771\n",
      "Epoch 40/100\n",
      "23/23 [==============================] - 0s 2ms/step - loss: 0.0616 - accuracy: 0.9816\n",
      "Epoch 41/100\n",
      "23/23 [==============================] - 0s 3ms/step - loss: 0.0577 - accuracy: 0.9883\n",
      "Epoch 42/100\n",
      "23/23 [==============================] - 0s 2ms/step - loss: 0.0653 - accuracy: 0.9886\n",
      "Epoch 43/100\n",
      "23/23 [==============================] - 0s 3ms/step - loss: 0.1000 - accuracy: 0.9729\n",
      "Epoch 44/100\n",
      "23/23 [==============================] - 0s 3ms/step - loss: 0.0366 - accuracy: 0.9917\n",
      "Epoch 45/100\n",
      "23/23 [==============================] - 0s 3ms/step - loss: 0.1122 - accuracy: 0.9761\n",
      "Epoch 46/100\n",
      "23/23 [==============================] - 0s 3ms/step - loss: 0.1945 - accuracy: 0.9441\n",
      "Epoch 47/100\n",
      "23/23 [==============================] - 0s 3ms/step - loss: 0.1274 - accuracy: 0.9578\n",
      "Epoch 48/100\n",
      "23/23 [==============================] - 0s 3ms/step - loss: 0.1513 - accuracy: 0.9704\n",
      "Epoch 49/100\n",
      "23/23 [==============================] - 0s 3ms/step - loss: 0.0727 - accuracy: 0.9862\n",
      "Epoch 50/100\n",
      "23/23 [==============================] - 0s 3ms/step - loss: 0.0863 - accuracy: 0.9830\n",
      "Epoch 51/100\n",
      "23/23 [==============================] - 0s 3ms/step - loss: 0.1592 - accuracy: 0.9579\n",
      "Epoch 52/100\n",
      "23/23 [==============================] - 0s 3ms/step - loss: 0.1739 - accuracy: 0.9440\n",
      "Epoch 53/100\n",
      "23/23 [==============================] - 0s 3ms/step - loss: 0.1016 - accuracy: 0.9707\n",
      "Epoch 54/100\n",
      "23/23 [==============================] - 0s 3ms/step - loss: 0.0912 - accuracy: 0.9878\n",
      "Epoch 55/100\n",
      "23/23 [==============================] - 0s 3ms/step - loss: 0.0945 - accuracy: 0.9802\n",
      "Epoch 56/100\n",
      "23/23 [==============================] - 0s 2ms/step - loss: 0.1152 - accuracy: 0.9683\n",
      "Epoch 57/100\n",
      "23/23 [==============================] - 0s 2ms/step - loss: 0.0937 - accuracy: 0.9751\n",
      "Epoch 58/100\n",
      "23/23 [==============================] - 0s 3ms/step - loss: 0.0536 - accuracy: 0.9852\n",
      "Epoch 59/100\n",
      "23/23 [==============================] - 0s 3ms/step - loss: 0.0727 - accuracy: 0.9795\n",
      "Epoch 60/100\n",
      "23/23 [==============================] - 0s 3ms/step - loss: 0.1096 - accuracy: 0.9655\n",
      "Epoch 61/100\n",
      "23/23 [==============================] - 0s 3ms/step - loss: 0.0676 - accuracy: 0.9853\n",
      "Epoch 62/100\n",
      "23/23 [==============================] - 0s 3ms/step - loss: 0.0418 - accuracy: 0.9901\n",
      "Epoch 63/100\n",
      "23/23 [==============================] - 0s 3ms/step - loss: 0.0869 - accuracy: 0.9864\n",
      "Epoch 64/100\n",
      "23/23 [==============================] - 0s 3ms/step - loss: 0.0432 - accuracy: 0.9942\n",
      "Epoch 65/100\n",
      "23/23 [==============================] - 0s 3ms/step - loss: 0.0469 - accuracy: 0.9922\n",
      "Epoch 66/100\n",
      "23/23 [==============================] - 0s 3ms/step - loss: 0.0916 - accuracy: 0.9777\n",
      "Epoch 67/100\n",
      "23/23 [==============================] - 0s 4ms/step - loss: 0.1185 - accuracy: 0.9656\n",
      "Epoch 68/100\n",
      "23/23 [==============================] - 0s 3ms/step - loss: 0.1085 - accuracy: 0.9724\n",
      "Epoch 69/100\n",
      "23/23 [==============================] - 0s 3ms/step - loss: 0.0983 - accuracy: 0.9720\n",
      "Epoch 70/100\n",
      "23/23 [==============================] - 0s 3ms/step - loss: 0.0390 - accuracy: 0.9942\n",
      "Epoch 71/100\n",
      "23/23 [==============================] - 0s 3ms/step - loss: 0.0292 - accuracy: 0.9977\n",
      "Epoch 72/100\n",
      "23/23 [==============================] - 0s 3ms/step - loss: 0.1034 - accuracy: 0.9791\n",
      "Epoch 73/100\n",
      "23/23 [==============================] - 0s 3ms/step - loss: 0.0528 - accuracy: 0.9898\n",
      "Epoch 74/100\n",
      "23/23 [==============================] - 0s 2ms/step - loss: 0.0553 - accuracy: 0.9883\n",
      "Epoch 75/100\n",
      "23/23 [==============================] - 0s 2ms/step - loss: 0.1181 - accuracy: 0.9691\n",
      "Epoch 76/100\n",
      "23/23 [==============================] - 0s 2ms/step - loss: 0.0657 - accuracy: 0.9822\n",
      "Epoch 77/100\n",
      "23/23 [==============================] - 0s 2ms/step - loss: 0.0418 - accuracy: 0.9865\n",
      "Epoch 78/100\n",
      "23/23 [==============================] - 0s 3ms/step - loss: 0.0352 - accuracy: 0.9938\n",
      "Epoch 79/100\n",
      "23/23 [==============================] - 0s 3ms/step - loss: 0.0310 - accuracy: 0.9941\n",
      "Epoch 80/100\n",
      "23/23 [==============================] - 0s 3ms/step - loss: 0.0559 - accuracy: 0.9877\n",
      "Epoch 81/100\n",
      "23/23 [==============================] - 0s 3ms/step - loss: 0.0529 - accuracy: 0.9850\n",
      "Epoch 82/100\n",
      "23/23 [==============================] - 0s 3ms/step - loss: 0.0693 - accuracy: 0.9831\n",
      "Epoch 83/100\n",
      "23/23 [==============================] - 0s 3ms/step - loss: 0.0295 - accuracy: 0.9947\n",
      "Epoch 84/100\n",
      "23/23 [==============================] - 0s 3ms/step - loss: 0.0482 - accuracy: 0.9913\n",
      "Epoch 85/100\n",
      "23/23 [==============================] - 0s 3ms/step - loss: 0.0457 - accuracy: 0.9936\n",
      "Epoch 86/100\n",
      "23/23 [==============================] - 0s 3ms/step - loss: 0.0410 - accuracy: 0.9929\n",
      "Epoch 87/100\n",
      "23/23 [==============================] - 0s 3ms/step - loss: 0.0381 - accuracy: 0.9919\n",
      "Epoch 88/100\n",
      "23/23 [==============================] - 0s 3ms/step - loss: 0.0392 - accuracy: 0.9939\n",
      "Epoch 89/100\n",
      "23/23 [==============================] - 0s 3ms/step - loss: 0.0357 - accuracy: 0.9931\n",
      "Epoch 90/100\n",
      "23/23 [==============================] - 0s 3ms/step - loss: 0.0552 - accuracy: 0.9902\n",
      "Epoch 91/100\n",
      "23/23 [==============================] - 0s 3ms/step - loss: 0.1046 - accuracy: 0.9817\n",
      "Epoch 92/100\n",
      "23/23 [==============================] - 0s 3ms/step - loss: 0.0655 - accuracy: 0.9876\n",
      "Epoch 93/100\n",
      "23/23 [==============================] - 0s 2ms/step - loss: 0.0712 - accuracy: 0.9767\n",
      "Epoch 94/100\n",
      "23/23 [==============================] - 0s 2ms/step - loss: 0.0440 - accuracy: 0.9973\n",
      "Epoch 95/100\n",
      "23/23 [==============================] - 0s 3ms/step - loss: 0.0422 - accuracy: 0.9940\n",
      "Epoch 96/100\n",
      "23/23 [==============================] - 0s 2ms/step - loss: 0.0972 - accuracy: 0.9827\n",
      "Epoch 97/100\n",
      "23/23 [==============================] - 0s 2ms/step - loss: 0.1206 - accuracy: 0.9745\n",
      "Epoch 98/100\n",
      "23/23 [==============================] - 0s 3ms/step - loss: 0.0383 - accuracy: 0.9968\n",
      "Epoch 99/100\n",
      "23/23 [==============================] - 0s 3ms/step - loss: 0.0315 - accuracy: 0.9988\n",
      "Epoch 100/100\n",
      "23/23 [==============================] - 0s 3ms/step - loss: 0.0490 - accuracy: 0.9930\n"
     ]
    }
   ],
   "source": [
    "history = model.fit(x_train, train_y, epochs = 100, verbose=1)"
   ]
  },
  {
   "cell_type": "code",
   "execution_count": 127,
   "metadata": {},
   "outputs": [],
   "source": [
    "y_pred = model.predict(X_test)"
   ]
  },
  {
   "cell_type": "code",
   "execution_count": 128,
   "metadata": {},
   "outputs": [
    {
     "name": "stdout",
     "output_type": "stream",
     "text": [
      "3/3 [==============================] - 0s 2ms/step - loss: 0.2855 - accuracy: 1.0000\n"
     ]
    }
   ],
   "source": [
    "x,_=model.evaluate(X_test,y_pred)"
   ]
  },
  {
   "cell_type": "code",
   "execution_count": 129,
   "metadata": {},
   "outputs": [
    {
     "name": "stdout",
     "output_type": "stream",
     "text": [
      "                           Model  accuracy\n",
      "0         RandomForestClassifier  0.400000\n",
      "1   RandomForestClassifier GloVe  0.445312\n",
      "2         DecisionTreeClassifier  0.421875\n",
      "3                    BernoulliNB  0.414062\n",
      "4              BaggingClassifier  0.406250\n",
      "5   RandomForestClassifier SMOTE  0.356322\n",
      "6   DecisionTreeClassifier SMOTE  0.344828\n",
      "7            SGDClassifier SMOTE  0.333333\n",
      "8              BernoulliNB SMOTE  0.471264\n",
      "9        BaggingClassifier SMOTE  0.356322\n",
      "10                Neural Network  0.297043\n",
      "11           Neural Network tune  0.285455\n"
     ]
    }
   ],
   "source": [
    "get_accuracy('Neural Network tune',x)"
   ]
  },
  {
   "cell_type": "code",
   "execution_count": 130,
   "metadata": {},
   "outputs": [
    {
     "data": {
      "text/html": [
       "<div>\n",
       "<style scoped>\n",
       "    .dataframe tbody tr th:only-of-type {\n",
       "        vertical-align: middle;\n",
       "    }\n",
       "\n",
       "    .dataframe tbody tr th {\n",
       "        vertical-align: top;\n",
       "    }\n",
       "\n",
       "    .dataframe thead th {\n",
       "        text-align: right;\n",
       "    }\n",
       "</style>\n",
       "<table border=\"1\" class=\"dataframe\">\n",
       "  <thead>\n",
       "    <tr style=\"text-align: right;\">\n",
       "      <th></th>\n",
       "      <th>Model</th>\n",
       "      <th>accuracy</th>\n",
       "    </tr>\n",
       "  </thead>\n",
       "  <tbody>\n",
       "    <tr>\n",
       "      <th>0</th>\n",
       "      <td>RandomForestClassifier</td>\n",
       "      <td>0.400000</td>\n",
       "    </tr>\n",
       "    <tr>\n",
       "      <th>1</th>\n",
       "      <td>RandomForestClassifier GloVe</td>\n",
       "      <td>0.445312</td>\n",
       "    </tr>\n",
       "    <tr>\n",
       "      <th>2</th>\n",
       "      <td>DecisionTreeClassifier</td>\n",
       "      <td>0.421875</td>\n",
       "    </tr>\n",
       "    <tr>\n",
       "      <th>3</th>\n",
       "      <td>BernoulliNB</td>\n",
       "      <td>0.414062</td>\n",
       "    </tr>\n",
       "    <tr>\n",
       "      <th>4</th>\n",
       "      <td>BaggingClassifier</td>\n",
       "      <td>0.406250</td>\n",
       "    </tr>\n",
       "    <tr>\n",
       "      <th>5</th>\n",
       "      <td>RandomForestClassifier SMOTE</td>\n",
       "      <td>0.356322</td>\n",
       "    </tr>\n",
       "    <tr>\n",
       "      <th>6</th>\n",
       "      <td>DecisionTreeClassifier SMOTE</td>\n",
       "      <td>0.344828</td>\n",
       "    </tr>\n",
       "    <tr>\n",
       "      <th>7</th>\n",
       "      <td>SGDClassifier SMOTE</td>\n",
       "      <td>0.333333</td>\n",
       "    </tr>\n",
       "    <tr>\n",
       "      <th>8</th>\n",
       "      <td>BernoulliNB SMOTE</td>\n",
       "      <td>0.471264</td>\n",
       "    </tr>\n",
       "    <tr>\n",
       "      <th>9</th>\n",
       "      <td>BaggingClassifier SMOTE</td>\n",
       "      <td>0.356322</td>\n",
       "    </tr>\n",
       "    <tr>\n",
       "      <th>10</th>\n",
       "      <td>Neural Network</td>\n",
       "      <td>0.297043</td>\n",
       "    </tr>\n",
       "    <tr>\n",
       "      <th>11</th>\n",
       "      <td>Neural Network tune</td>\n",
       "      <td>0.285455</td>\n",
       "    </tr>\n",
       "  </tbody>\n",
       "</table>\n",
       "</div>"
      ],
      "text/plain": [
       "                           Model  accuracy\n",
       "0         RandomForestClassifier  0.400000\n",
       "1   RandomForestClassifier GloVe  0.445312\n",
       "2         DecisionTreeClassifier  0.421875\n",
       "3                    BernoulliNB  0.414062\n",
       "4              BaggingClassifier  0.406250\n",
       "5   RandomForestClassifier SMOTE  0.356322\n",
       "6   DecisionTreeClassifier SMOTE  0.344828\n",
       "7            SGDClassifier SMOTE  0.333333\n",
       "8              BernoulliNB SMOTE  0.471264\n",
       "9        BaggingClassifier SMOTE  0.356322\n",
       "10                Neural Network  0.297043\n",
       "11           Neural Network tune  0.285455"
      ]
     },
     "execution_count": 130,
     "metadata": {},
     "output_type": "execute_result"
    }
   ],
   "source": [
    "t"
   ]
  },
  {
   "cell_type": "code",
   "execution_count": 131,
   "metadata": {},
   "outputs": [],
   "source": [
    "t.to_csv('Modelaccuracy.csv')"
   ]
  },
  {
   "cell_type": "code",
   "execution_count": null,
   "metadata": {},
   "outputs": [],
   "source": []
  }
 ],
 "metadata": {
  "kernelspec": {
   "display_name": "Python 3",
   "language": "python",
   "name": "python3"
  },
  "language_info": {
   "codemirror_mode": {
    "name": "ipython",
    "version": 3
   },
   "file_extension": ".py",
   "mimetype": "text/x-python",
   "name": "python",
   "nbconvert_exporter": "python",
   "pygments_lexer": "ipython3",
   "version": "3.7.6"
  }
 },
 "nbformat": 4,
 "nbformat_minor": 4
}
